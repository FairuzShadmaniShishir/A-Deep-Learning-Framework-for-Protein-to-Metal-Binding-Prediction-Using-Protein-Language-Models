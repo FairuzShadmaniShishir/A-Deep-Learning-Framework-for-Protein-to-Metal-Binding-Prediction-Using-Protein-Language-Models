{
 "cells": [
  {
   "cell_type": "code",
   "execution_count": 1,
   "id": "c3b411c9",
   "metadata": {},
   "outputs": [],
   "source": [
    "import pandas as pd\n",
    "import numpy as np"
   ]
  },
  {
   "cell_type": "code",
   "execution_count": 2,
   "id": "223c52dd",
   "metadata": {},
   "outputs": [],
   "source": [
    "df=pd.read_csv('metal_binding_data.csv')"
   ]
  },
  {
   "cell_type": "code",
   "execution_count": 3,
   "id": "4b2b4396",
   "metadata": {},
   "outputs": [
    {
     "name": "stdout",
     "output_type": "stream",
     "text": [
      "0    MELPNIMHPVAKLSTALAAALMLSGCMPGEIRPTIGQQMETGDQRF...\n",
      "Name: SEQUENCE, dtype: object\n"
     ]
    }
   ],
   "source": [
    "print(df.head(1)['SEQUENCE'])"
   ]
  },
  {
   "cell_type": "code",
   "execution_count": 4,
   "id": "a466b14e",
   "metadata": {},
   "outputs": [],
   "source": [
    "df2=df.dropna(axis=0)"
   ]
  },
  {
   "cell_type": "code",
   "execution_count": 5,
   "id": "364f996f",
   "metadata": {},
   "outputs": [],
   "source": [
    "final_df=df2[(df2['SEQUENCE'].str.len()>50) & (df2['SEQUENCE'].str.len()<1000)]"
   ]
  },
  {
   "cell_type": "code",
   "execution_count": 6,
   "id": "56dac4f5",
   "metadata": {},
   "outputs": [
    {
     "data": {
      "text/html": [
       "<div>\n",
       "<style scoped>\n",
       "    .dataframe tbody tr th:only-of-type {\n",
       "        vertical-align: middle;\n",
       "    }\n",
       "\n",
       "    .dataframe tbody tr th {\n",
       "        vertical-align: top;\n",
       "    }\n",
       "\n",
       "    .dataframe thead th {\n",
       "        text-align: right;\n",
       "    }\n",
       "</style>\n",
       "<table border=\"1\" class=\"dataframe\">\n",
       "  <thead>\n",
       "    <tr style=\"text-align: right;\">\n",
       "      <th></th>\n",
       "      <th>Unnamed: 0</th>\n",
       "      <th>PID</th>\n",
       "      <th>SEQUENCE</th>\n",
       "      <th>SITES</th>\n",
       "      <th>METAL</th>\n",
       "    </tr>\n",
       "  </thead>\n",
       "  <tbody>\n",
       "    <tr>\n",
       "      <th>0</th>\n",
       "      <td>0</td>\n",
       "      <td>C7C422</td>\n",
       "      <td>MELPNIMHPVAKLSTALAAALMLSGCMPGEIRPTIGQQMETGDQRF...</td>\n",
       "      <td>120,122,124,189,208,250</td>\n",
       "      <td>Zinc 1,Zinc 1,Zinc 2,Zinc 1,Zinc 2,Zinc 2</td>\n",
       "    </tr>\n",
       "    <tr>\n",
       "      <th>1</th>\n",
       "      <td>1</td>\n",
       "      <td>Q07009</td>\n",
       "      <td>MAGIAMKLAKDREAAEGLGSHERAIKYLNQDYETLRNECLEAGALF...</td>\n",
       "      <td>89,91,96,175,229,230,292,299,319,323,542,545,5...</td>\n",
       "      <td>Calcium 3,Calcium 3,Calcium 3,Calcium 3,Calciu...</td>\n",
       "    </tr>\n",
       "    <tr>\n",
       "      <th>3</th>\n",
       "      <td>3</td>\n",
       "      <td>P00917</td>\n",
       "      <td>MAHSDWGYDSPNGPZEWVKLYPIANGNNQSPIDIKTSETKHDTSLK...</td>\n",
       "      <td>95,97,120</td>\n",
       "      <td>Zinc 1,Zinc 1,Zinc 1</td>\n",
       "    </tr>\n",
       "    <tr>\n",
       "      <th>11</th>\n",
       "      <td>11</td>\n",
       "      <td>P51399</td>\n",
       "      <td>MPSYTVTVATGSQWFAGTDDYIYLSLIGSAGCSEKHLLDKAFYNDF...</td>\n",
       "      <td>17,18,19,44,45,47,79,80</td>\n",
       "      <td>Calcium 1,Calcium 2,Calcium 2,Calcium 2,Calciu...</td>\n",
       "    </tr>\n",
       "    <tr>\n",
       "      <th>17</th>\n",
       "      <td>17</td>\n",
       "      <td>P00433</td>\n",
       "      <td>MHFSSSSTLFTCITLIPLVCLILHASLSDAQLTPTFYDNSCPNVSN...</td>\n",
       "      <td>73,76,78,80,82,94,201,252,255,260</td>\n",
       "      <td>Calcium 1,Calcium 1,Calcium 1,Calcium 1,Calciu...</td>\n",
       "    </tr>\n",
       "    <tr>\n",
       "      <th>...</th>\n",
       "      <td>...</td>\n",
       "      <td>...</td>\n",
       "      <td>...</td>\n",
       "      <td>...</td>\n",
       "      <td>...</td>\n",
       "    </tr>\n",
       "    <tr>\n",
       "      <th>101350</th>\n",
       "      <td>101350</td>\n",
       "      <td>Q3SFS6</td>\n",
       "      <td>MHTGTTLTQFIIEEQRRTAGATGDFTSLLNDVVTACKAISNAVNKG...</td>\n",
       "      <td>92,114,114,116,117,281</td>\n",
       "      <td>Magnesium 1,Magnesium 1,Magnesium 2,Magnesium ...</td>\n",
       "    </tr>\n",
       "    <tr>\n",
       "      <th>101351</th>\n",
       "      <td>101351</td>\n",
       "      <td>Q82WY3</td>\n",
       "      <td>MHTGTTLTQFIIEEQRHIAGASGDFTALLNDIVTAIKTISNAVNKG...</td>\n",
       "      <td>92,114,114,116,117,281</td>\n",
       "      <td>Magnesium 1,Magnesium 1,Magnesium 2,Magnesium ...</td>\n",
       "    </tr>\n",
       "    <tr>\n",
       "      <th>101352</th>\n",
       "      <td>101352</td>\n",
       "      <td>A5WGK6</td>\n",
       "      <td>MTSLTQYFEQHPKLPQTQAVIDVITTITNVGKQITDLLRQGALADI...</td>\n",
       "      <td>87,106,106,108,109,280</td>\n",
       "      <td>Magnesium 1,Magnesium 1,Magnesium 2,Magnesium ...</td>\n",
       "    </tr>\n",
       "    <tr>\n",
       "      <th>101353</th>\n",
       "      <td>101353</td>\n",
       "      <td>A5WA74</td>\n",
       "      <td>MSRVTLSRYLIEQTRSNNTPADLRFLIEVVARACKEISHHVSKGAL...</td>\n",
       "      <td>90,112,112,114,115,283</td>\n",
       "      <td>Magnesium 1,Magnesium 1,Magnesium 2,Magnesium ...</td>\n",
       "    </tr>\n",
       "    <tr>\n",
       "      <th>101354</th>\n",
       "      <td>101354</td>\n",
       "      <td>Q9KP35</td>\n",
       "      <td>MQKMRTLGEFIVEKQHDFPHASGELSSLLASIRLAAKIVNREINKA...</td>\n",
       "      <td>92,115,115,117,118,280</td>\n",
       "      <td>Magnesium 1,Magnesium 1,Magnesium 2,Magnesium ...</td>\n",
       "    </tr>\n",
       "  </tbody>\n",
       "</table>\n",
       "<p>18531 rows × 5 columns</p>\n",
       "</div>"
      ],
      "text/plain": [
       "        Unnamed: 0     PID                                           SEQUENCE  \\\n",
       "0                0  C7C422  MELPNIMHPVAKLSTALAAALMLSGCMPGEIRPTIGQQMETGDQRF...   \n",
       "1                1  Q07009  MAGIAMKLAKDREAAEGLGSHERAIKYLNQDYETLRNECLEAGALF...   \n",
       "3                3  P00917  MAHSDWGYDSPNGPZEWVKLYPIANGNNQSPIDIKTSETKHDTSLK...   \n",
       "11              11  P51399  MPSYTVTVATGSQWFAGTDDYIYLSLIGSAGCSEKHLLDKAFYNDF...   \n",
       "17              17  P00433  MHFSSSSTLFTCITLIPLVCLILHASLSDAQLTPTFYDNSCPNVSN...   \n",
       "...            ...     ...                                                ...   \n",
       "101350      101350  Q3SFS6  MHTGTTLTQFIIEEQRRTAGATGDFTSLLNDVVTACKAISNAVNKG...   \n",
       "101351      101351  Q82WY3  MHTGTTLTQFIIEEQRHIAGASGDFTALLNDIVTAIKTISNAVNKG...   \n",
       "101352      101352  A5WGK6  MTSLTQYFEQHPKLPQTQAVIDVITTITNVGKQITDLLRQGALADI...   \n",
       "101353      101353  A5WA74  MSRVTLSRYLIEQTRSNNTPADLRFLIEVVARACKEISHHVSKGAL...   \n",
       "101354      101354  Q9KP35  MQKMRTLGEFIVEKQHDFPHASGELSSLLASIRLAAKIVNREINKA...   \n",
       "\n",
       "                                                    SITES  \\\n",
       "0                                 120,122,124,189,208,250   \n",
       "1       89,91,96,175,229,230,292,299,319,323,542,545,5...   \n",
       "3                                               95,97,120   \n",
       "11                                17,18,19,44,45,47,79,80   \n",
       "17                      73,76,78,80,82,94,201,252,255,260   \n",
       "...                                                   ...   \n",
       "101350                             92,114,114,116,117,281   \n",
       "101351                             92,114,114,116,117,281   \n",
       "101352                             87,106,106,108,109,280   \n",
       "101353                             90,112,112,114,115,283   \n",
       "101354                             92,115,115,117,118,280   \n",
       "\n",
       "                                                    METAL  \n",
       "0               Zinc 1,Zinc 1,Zinc 2,Zinc 1,Zinc 2,Zinc 2  \n",
       "1       Calcium 3,Calcium 3,Calcium 3,Calcium 3,Calciu...  \n",
       "3                                    Zinc 1,Zinc 1,Zinc 1  \n",
       "11      Calcium 1,Calcium 2,Calcium 2,Calcium 2,Calciu...  \n",
       "17      Calcium 1,Calcium 1,Calcium 1,Calcium 1,Calciu...  \n",
       "...                                                   ...  \n",
       "101350  Magnesium 1,Magnesium 1,Magnesium 2,Magnesium ...  \n",
       "101351  Magnesium 1,Magnesium 1,Magnesium 2,Magnesium ...  \n",
       "101352  Magnesium 1,Magnesium 1,Magnesium 2,Magnesium ...  \n",
       "101353  Magnesium 1,Magnesium 1,Magnesium 2,Magnesium ...  \n",
       "101354  Magnesium 1,Magnesium 1,Magnesium 2,Magnesium ...  \n",
       "\n",
       "[18531 rows x 5 columns]"
      ]
     },
     "execution_count": 6,
     "metadata": {},
     "output_type": "execute_result"
    }
   ],
   "source": [
    "final_df"
   ]
  },
  {
   "cell_type": "code",
   "execution_count": 7,
   "id": "6eff9078",
   "metadata": {},
   "outputs": [],
   "source": [
    "# embedded_sequence1=np.load('ESM5000_emb.npy')\n",
    "# embedded_sequence2=np.load('ESM10000_emb.npy')\n",
    "# embedded_sequence3=np.load('ESM15000_emb.npy')\n",
    "# embedded_sequence4=np.load('ESM18531_emb.npy')\n",
    "# embedded_sequence11=np.vstack((embedded_sequence1, embedded_sequence2))\n",
    "# embedded_sequence12=np.vstack((embedded_sequence11, embedded_sequence3))\n",
    "# embedded_sequence=np.vstack((embedded_sequence12, embedded_sequence4))\n",
    "\n",
    "\n",
    "import pickle\n",
    "\n",
    "file_path = '/home/f087s426/Research/MetaLLM_ACM_Rebuttal/metallm_progen2_embedding.pkl'\n",
    "\n",
    "with open(file_path, 'rb') as file:\n",
    "    embedded_sequence = pickle.load(file)"
   ]
  },
  {
   "cell_type": "code",
   "execution_count": 8,
   "id": "ed5ec8e9",
   "metadata": {},
   "outputs": [
    {
     "data": {
      "text/plain": [
       "(18531, 1536)"
      ]
     },
     "execution_count": 8,
     "metadata": {},
     "output_type": "execute_result"
    }
   ],
   "source": [
    "np.array(embedded_sequence).shape"
   ]
  },
  {
   "cell_type": "code",
   "execution_count": 9,
   "id": "847b65a1",
   "metadata": {},
   "outputs": [],
   "source": [
    "#np.save('/home/f087s426/Research/Lmetalsite paper data/allsequence_metallm_esm_embedding.npy',embedded_sequence)"
   ]
  },
  {
   "cell_type": "code",
   "execution_count": 10,
   "id": "2176bc79",
   "metadata": {},
   "outputs": [],
   "source": [
    "embed_df=pd.DataFrame(embedded_sequence)"
   ]
  },
  {
   "cell_type": "code",
   "execution_count": 11,
   "id": "6b8aa69a",
   "metadata": {},
   "outputs": [
    {
     "data": {
      "text/html": [
       "<div>\n",
       "<style scoped>\n",
       "    .dataframe tbody tr th:only-of-type {\n",
       "        vertical-align: middle;\n",
       "    }\n",
       "\n",
       "    .dataframe tbody tr th {\n",
       "        vertical-align: top;\n",
       "    }\n",
       "\n",
       "    .dataframe thead th {\n",
       "        text-align: right;\n",
       "    }\n",
       "</style>\n",
       "<table border=\"1\" class=\"dataframe\">\n",
       "  <thead>\n",
       "    <tr style=\"text-align: right;\">\n",
       "      <th></th>\n",
       "      <th>0</th>\n",
       "      <th>1</th>\n",
       "      <th>2</th>\n",
       "      <th>3</th>\n",
       "      <th>4</th>\n",
       "      <th>5</th>\n",
       "      <th>6</th>\n",
       "      <th>7</th>\n",
       "      <th>8</th>\n",
       "      <th>9</th>\n",
       "      <th>...</th>\n",
       "      <th>1526</th>\n",
       "      <th>1527</th>\n",
       "      <th>1528</th>\n",
       "      <th>1529</th>\n",
       "      <th>1530</th>\n",
       "      <th>1531</th>\n",
       "      <th>1532</th>\n",
       "      <th>1533</th>\n",
       "      <th>1534</th>\n",
       "      <th>1535</th>\n",
       "    </tr>\n",
       "  </thead>\n",
       "  <tbody>\n",
       "    <tr>\n",
       "      <th>0</th>\n",
       "      <td>-2.170740</td>\n",
       "      <td>2.738271</td>\n",
       "      <td>3.413127</td>\n",
       "      <td>3.559753</td>\n",
       "      <td>3.970245</td>\n",
       "      <td>-3.027692</td>\n",
       "      <td>1.646228</td>\n",
       "      <td>-2.989851</td>\n",
       "      <td>-3.508923</td>\n",
       "      <td>3.191202</td>\n",
       "      <td>...</td>\n",
       "      <td>2.078247</td>\n",
       "      <td>-2.703359</td>\n",
       "      <td>-2.379716</td>\n",
       "      <td>-2.707065</td>\n",
       "      <td>-2.224777</td>\n",
       "      <td>0.144854</td>\n",
       "      <td>3.092016</td>\n",
       "      <td>-2.233640</td>\n",
       "      <td>2.668732</td>\n",
       "      <td>-2.823430</td>\n",
       "    </tr>\n",
       "    <tr>\n",
       "      <th>1</th>\n",
       "      <td>-2.102663</td>\n",
       "      <td>2.569696</td>\n",
       "      <td>2.952026</td>\n",
       "      <td>3.073388</td>\n",
       "      <td>3.438394</td>\n",
       "      <td>-2.885235</td>\n",
       "      <td>1.474328</td>\n",
       "      <td>-3.107842</td>\n",
       "      <td>-3.093972</td>\n",
       "      <td>3.472524</td>\n",
       "      <td>...</td>\n",
       "      <td>1.938105</td>\n",
       "      <td>-2.976010</td>\n",
       "      <td>-2.236192</td>\n",
       "      <td>-2.092309</td>\n",
       "      <td>-2.309800</td>\n",
       "      <td>0.484945</td>\n",
       "      <td>2.195991</td>\n",
       "      <td>-1.873157</td>\n",
       "      <td>1.963423</td>\n",
       "      <td>-2.734568</td>\n",
       "    </tr>\n",
       "    <tr>\n",
       "      <th>2</th>\n",
       "      <td>-2.252301</td>\n",
       "      <td>2.244829</td>\n",
       "      <td>3.095595</td>\n",
       "      <td>2.860523</td>\n",
       "      <td>4.018084</td>\n",
       "      <td>-2.369283</td>\n",
       "      <td>1.299707</td>\n",
       "      <td>-3.110965</td>\n",
       "      <td>-3.293062</td>\n",
       "      <td>3.418745</td>\n",
       "      <td>...</td>\n",
       "      <td>1.869190</td>\n",
       "      <td>-2.671400</td>\n",
       "      <td>-1.743440</td>\n",
       "      <td>-2.687090</td>\n",
       "      <td>-2.400847</td>\n",
       "      <td>0.726441</td>\n",
       "      <td>2.219407</td>\n",
       "      <td>-2.159422</td>\n",
       "      <td>2.815465</td>\n",
       "      <td>-2.938694</td>\n",
       "    </tr>\n",
       "    <tr>\n",
       "      <th>3</th>\n",
       "      <td>-2.275490</td>\n",
       "      <td>2.826141</td>\n",
       "      <td>3.185075</td>\n",
       "      <td>3.030358</td>\n",
       "      <td>3.367141</td>\n",
       "      <td>-2.862571</td>\n",
       "      <td>1.381288</td>\n",
       "      <td>-2.262681</td>\n",
       "      <td>-2.965948</td>\n",
       "      <td>3.426443</td>\n",
       "      <td>...</td>\n",
       "      <td>1.584773</td>\n",
       "      <td>-2.647039</td>\n",
       "      <td>-2.183933</td>\n",
       "      <td>-2.516699</td>\n",
       "      <td>-2.361700</td>\n",
       "      <td>0.499241</td>\n",
       "      <td>1.763041</td>\n",
       "      <td>-2.088115</td>\n",
       "      <td>2.036919</td>\n",
       "      <td>-2.869322</td>\n",
       "    </tr>\n",
       "    <tr>\n",
       "      <th>4</th>\n",
       "      <td>-1.916330</td>\n",
       "      <td>2.479975</td>\n",
       "      <td>3.711206</td>\n",
       "      <td>3.733050</td>\n",
       "      <td>3.647197</td>\n",
       "      <td>-2.351085</td>\n",
       "      <td>1.296116</td>\n",
       "      <td>-2.636750</td>\n",
       "      <td>-3.456987</td>\n",
       "      <td>2.818012</td>\n",
       "      <td>...</td>\n",
       "      <td>1.924084</td>\n",
       "      <td>-3.089747</td>\n",
       "      <td>-1.799169</td>\n",
       "      <td>-2.342598</td>\n",
       "      <td>-2.074345</td>\n",
       "      <td>1.052750</td>\n",
       "      <td>3.116017</td>\n",
       "      <td>-1.598960</td>\n",
       "      <td>2.646654</td>\n",
       "      <td>-2.645785</td>\n",
       "    </tr>\n",
       "    <tr>\n",
       "      <th>...</th>\n",
       "      <td>...</td>\n",
       "      <td>...</td>\n",
       "      <td>...</td>\n",
       "      <td>...</td>\n",
       "      <td>...</td>\n",
       "      <td>...</td>\n",
       "      <td>...</td>\n",
       "      <td>...</td>\n",
       "      <td>...</td>\n",
       "      <td>...</td>\n",
       "      <td>...</td>\n",
       "      <td>...</td>\n",
       "      <td>...</td>\n",
       "      <td>...</td>\n",
       "      <td>...</td>\n",
       "      <td>...</td>\n",
       "      <td>...</td>\n",
       "      <td>...</td>\n",
       "      <td>...</td>\n",
       "      <td>...</td>\n",
       "      <td>...</td>\n",
       "    </tr>\n",
       "    <tr>\n",
       "      <th>18526</th>\n",
       "      <td>-1.886493</td>\n",
       "      <td>2.372256</td>\n",
       "      <td>2.880153</td>\n",
       "      <td>2.759647</td>\n",
       "      <td>3.633427</td>\n",
       "      <td>-2.976589</td>\n",
       "      <td>1.129612</td>\n",
       "      <td>-2.914411</td>\n",
       "      <td>-3.019891</td>\n",
       "      <td>3.283495</td>\n",
       "      <td>...</td>\n",
       "      <td>1.501526</td>\n",
       "      <td>-3.210894</td>\n",
       "      <td>-2.262424</td>\n",
       "      <td>-2.616772</td>\n",
       "      <td>-2.187393</td>\n",
       "      <td>1.094211</td>\n",
       "      <td>2.469276</td>\n",
       "      <td>-1.890644</td>\n",
       "      <td>2.446851</td>\n",
       "      <td>-2.407958</td>\n",
       "    </tr>\n",
       "    <tr>\n",
       "      <th>18527</th>\n",
       "      <td>-2.062423</td>\n",
       "      <td>2.489481</td>\n",
       "      <td>2.987419</td>\n",
       "      <td>2.891119</td>\n",
       "      <td>3.841829</td>\n",
       "      <td>-3.041939</td>\n",
       "      <td>1.303830</td>\n",
       "      <td>-3.054868</td>\n",
       "      <td>-3.096029</td>\n",
       "      <td>3.332445</td>\n",
       "      <td>...</td>\n",
       "      <td>1.589399</td>\n",
       "      <td>-3.127447</td>\n",
       "      <td>-2.249749</td>\n",
       "      <td>-2.699966</td>\n",
       "      <td>-2.147423</td>\n",
       "      <td>0.999481</td>\n",
       "      <td>2.581465</td>\n",
       "      <td>-1.926586</td>\n",
       "      <td>2.527122</td>\n",
       "      <td>-2.557001</td>\n",
       "    </tr>\n",
       "    <tr>\n",
       "      <th>18528</th>\n",
       "      <td>-2.080272</td>\n",
       "      <td>2.658306</td>\n",
       "      <td>3.123727</td>\n",
       "      <td>3.025430</td>\n",
       "      <td>3.811692</td>\n",
       "      <td>-3.223529</td>\n",
       "      <td>1.456433</td>\n",
       "      <td>-3.273029</td>\n",
       "      <td>-3.325079</td>\n",
       "      <td>3.464720</td>\n",
       "      <td>...</td>\n",
       "      <td>1.647017</td>\n",
       "      <td>-3.346023</td>\n",
       "      <td>-2.224239</td>\n",
       "      <td>-2.881388</td>\n",
       "      <td>-2.250998</td>\n",
       "      <td>0.669995</td>\n",
       "      <td>2.865358</td>\n",
       "      <td>-2.208190</td>\n",
       "      <td>2.433682</td>\n",
       "      <td>-2.589868</td>\n",
       "    </tr>\n",
       "    <tr>\n",
       "      <th>18529</th>\n",
       "      <td>-1.966569</td>\n",
       "      <td>2.477722</td>\n",
       "      <td>2.802361</td>\n",
       "      <td>2.738359</td>\n",
       "      <td>3.573201</td>\n",
       "      <td>-3.041670</td>\n",
       "      <td>1.194562</td>\n",
       "      <td>-2.964105</td>\n",
       "      <td>-2.886316</td>\n",
       "      <td>3.108984</td>\n",
       "      <td>...</td>\n",
       "      <td>1.595448</td>\n",
       "      <td>-3.202115</td>\n",
       "      <td>-2.117819</td>\n",
       "      <td>-2.572973</td>\n",
       "      <td>-2.002860</td>\n",
       "      <td>0.936898</td>\n",
       "      <td>2.367391</td>\n",
       "      <td>-1.874251</td>\n",
       "      <td>2.261940</td>\n",
       "      <td>-2.422739</td>\n",
       "    </tr>\n",
       "    <tr>\n",
       "      <th>18530</th>\n",
       "      <td>-1.991954</td>\n",
       "      <td>2.501093</td>\n",
       "      <td>2.806764</td>\n",
       "      <td>2.816494</td>\n",
       "      <td>3.560614</td>\n",
       "      <td>-3.043178</td>\n",
       "      <td>1.462525</td>\n",
       "      <td>-2.908436</td>\n",
       "      <td>-2.897718</td>\n",
       "      <td>3.377694</td>\n",
       "      <td>...</td>\n",
       "      <td>1.504907</td>\n",
       "      <td>-3.280019</td>\n",
       "      <td>-2.168919</td>\n",
       "      <td>-2.655239</td>\n",
       "      <td>-2.198343</td>\n",
       "      <td>0.919881</td>\n",
       "      <td>2.488197</td>\n",
       "      <td>-1.870945</td>\n",
       "      <td>2.227466</td>\n",
       "      <td>-2.629689</td>\n",
       "    </tr>\n",
       "  </tbody>\n",
       "</table>\n",
       "<p>18531 rows × 1536 columns</p>\n",
       "</div>"
      ],
      "text/plain": [
       "           0         1         2         3         4         5         6     \\\n",
       "0     -2.170740  2.738271  3.413127  3.559753  3.970245 -3.027692  1.646228   \n",
       "1     -2.102663  2.569696  2.952026  3.073388  3.438394 -2.885235  1.474328   \n",
       "2     -2.252301  2.244829  3.095595  2.860523  4.018084 -2.369283  1.299707   \n",
       "3     -2.275490  2.826141  3.185075  3.030358  3.367141 -2.862571  1.381288   \n",
       "4     -1.916330  2.479975  3.711206  3.733050  3.647197 -2.351085  1.296116   \n",
       "...         ...       ...       ...       ...       ...       ...       ...   \n",
       "18526 -1.886493  2.372256  2.880153  2.759647  3.633427 -2.976589  1.129612   \n",
       "18527 -2.062423  2.489481  2.987419  2.891119  3.841829 -3.041939  1.303830   \n",
       "18528 -2.080272  2.658306  3.123727  3.025430  3.811692 -3.223529  1.456433   \n",
       "18529 -1.966569  2.477722  2.802361  2.738359  3.573201 -3.041670  1.194562   \n",
       "18530 -1.991954  2.501093  2.806764  2.816494  3.560614 -3.043178  1.462525   \n",
       "\n",
       "           7         8         9     ...      1526      1527      1528  \\\n",
       "0     -2.989851 -3.508923  3.191202  ...  2.078247 -2.703359 -2.379716   \n",
       "1     -3.107842 -3.093972  3.472524  ...  1.938105 -2.976010 -2.236192   \n",
       "2     -3.110965 -3.293062  3.418745  ...  1.869190 -2.671400 -1.743440   \n",
       "3     -2.262681 -2.965948  3.426443  ...  1.584773 -2.647039 -2.183933   \n",
       "4     -2.636750 -3.456987  2.818012  ...  1.924084 -3.089747 -1.799169   \n",
       "...         ...       ...       ...  ...       ...       ...       ...   \n",
       "18526 -2.914411 -3.019891  3.283495  ...  1.501526 -3.210894 -2.262424   \n",
       "18527 -3.054868 -3.096029  3.332445  ...  1.589399 -3.127447 -2.249749   \n",
       "18528 -3.273029 -3.325079  3.464720  ...  1.647017 -3.346023 -2.224239   \n",
       "18529 -2.964105 -2.886316  3.108984  ...  1.595448 -3.202115 -2.117819   \n",
       "18530 -2.908436 -2.897718  3.377694  ...  1.504907 -3.280019 -2.168919   \n",
       "\n",
       "           1529      1530      1531      1532      1533      1534      1535  \n",
       "0     -2.707065 -2.224777  0.144854  3.092016 -2.233640  2.668732 -2.823430  \n",
       "1     -2.092309 -2.309800  0.484945  2.195991 -1.873157  1.963423 -2.734568  \n",
       "2     -2.687090 -2.400847  0.726441  2.219407 -2.159422  2.815465 -2.938694  \n",
       "3     -2.516699 -2.361700  0.499241  1.763041 -2.088115  2.036919 -2.869322  \n",
       "4     -2.342598 -2.074345  1.052750  3.116017 -1.598960  2.646654 -2.645785  \n",
       "...         ...       ...       ...       ...       ...       ...       ...  \n",
       "18526 -2.616772 -2.187393  1.094211  2.469276 -1.890644  2.446851 -2.407958  \n",
       "18527 -2.699966 -2.147423  0.999481  2.581465 -1.926586  2.527122 -2.557001  \n",
       "18528 -2.881388 -2.250998  0.669995  2.865358 -2.208190  2.433682 -2.589868  \n",
       "18529 -2.572973 -2.002860  0.936898  2.367391 -1.874251  2.261940 -2.422739  \n",
       "18530 -2.655239 -2.198343  0.919881  2.488197 -1.870945  2.227466 -2.629689  \n",
       "\n",
       "[18531 rows x 1536 columns]"
      ]
     },
     "execution_count": 11,
     "metadata": {},
     "output_type": "execute_result"
    }
   ],
   "source": [
    "embed_df"
   ]
  },
  {
   "cell_type": "code",
   "execution_count": 12,
   "id": "c7c4f9c2",
   "metadata": {},
   "outputs": [],
   "source": [
    "def data_preparation(embedded_sequence,site,metalss):\n",
    "  X=[]\n",
    "  binding_sites=[]\n",
    "  Y=[]\n",
    "\n",
    "  embeds=list(embedded_sequence)\n",
    "  sites=list(site)\n",
    "  metal=list(metalss)\n",
    "\n",
    "  for i in range(len(sites)):\n",
    "\n",
    "    embed=embeds[i]\n",
    "\n",
    "    sitess=[int(j) for j in sites[i].split(',')]\n",
    "\n",
    "    metals=[j.strip() for j in metal[i].split(',')]\n",
    "\n",
    "    X=X+[embed]*len(sitess)\n",
    "    binding_sites=binding_sites+sitess\n",
    "    Y=Y+metals\n",
    "\n",
    "  return pd.DataFrame({'embedding':X, 'site':binding_sites,'metal':Y})"
   ]
  },
  {
   "cell_type": "code",
   "execution_count": 13,
   "id": "83366395",
   "metadata": {},
   "outputs": [
    {
     "data": {
      "text/html": [
       "<div>\n",
       "<style scoped>\n",
       "    .dataframe tbody tr th:only-of-type {\n",
       "        vertical-align: middle;\n",
       "    }\n",
       "\n",
       "    .dataframe tbody tr th {\n",
       "        vertical-align: top;\n",
       "    }\n",
       "\n",
       "    .dataframe thead th {\n",
       "        text-align: right;\n",
       "    }\n",
       "</style>\n",
       "<table border=\"1\" class=\"dataframe\">\n",
       "  <thead>\n",
       "    <tr style=\"text-align: right;\">\n",
       "      <th></th>\n",
       "      <th>embedding</th>\n",
       "      <th>site</th>\n",
       "      <th>metal</th>\n",
       "    </tr>\n",
       "  </thead>\n",
       "  <tbody>\n",
       "    <tr>\n",
       "      <th>0</th>\n",
       "      <td>[-2.1707404, 2.7382715, 3.4131274, 3.5597532, ...</td>\n",
       "      <td>120</td>\n",
       "      <td>Zinc 1</td>\n",
       "    </tr>\n",
       "    <tr>\n",
       "      <th>1</th>\n",
       "      <td>[-2.1707404, 2.7382715, 3.4131274, 3.5597532, ...</td>\n",
       "      <td>122</td>\n",
       "      <td>Zinc 1</td>\n",
       "    </tr>\n",
       "    <tr>\n",
       "      <th>2</th>\n",
       "      <td>[-2.1707404, 2.7382715, 3.4131274, 3.5597532, ...</td>\n",
       "      <td>124</td>\n",
       "      <td>Zinc 2</td>\n",
       "    </tr>\n",
       "    <tr>\n",
       "      <th>3</th>\n",
       "      <td>[-2.1707404, 2.7382715, 3.4131274, 3.5597532, ...</td>\n",
       "      <td>189</td>\n",
       "      <td>Zinc 1</td>\n",
       "    </tr>\n",
       "    <tr>\n",
       "      <th>4</th>\n",
       "      <td>[-2.1707404, 2.7382715, 3.4131274, 3.5597532, ...</td>\n",
       "      <td>208</td>\n",
       "      <td>Zinc 2</td>\n",
       "    </tr>\n",
       "    <tr>\n",
       "      <th>5</th>\n",
       "      <td>[-2.1707404, 2.7382715, 3.4131274, 3.5597532, ...</td>\n",
       "      <td>250</td>\n",
       "      <td>Zinc 2</td>\n",
       "    </tr>\n",
       "    <tr>\n",
       "      <th>6</th>\n",
       "      <td>[-2.1026626, 2.5696964, 2.9520261, 3.0733876, ...</td>\n",
       "      <td>89</td>\n",
       "      <td>Calcium 3</td>\n",
       "    </tr>\n",
       "    <tr>\n",
       "      <th>7</th>\n",
       "      <td>[-2.1026626, 2.5696964, 2.9520261, 3.0733876, ...</td>\n",
       "      <td>91</td>\n",
       "      <td>Calcium 3</td>\n",
       "    </tr>\n",
       "    <tr>\n",
       "      <th>8</th>\n",
       "      <td>[-2.1026626, 2.5696964, 2.9520261, 3.0733876, ...</td>\n",
       "      <td>96</td>\n",
       "      <td>Calcium 3</td>\n",
       "    </tr>\n",
       "    <tr>\n",
       "      <th>9</th>\n",
       "      <td>[-2.1026626, 2.5696964, 2.9520261, 3.0733876, ...</td>\n",
       "      <td>175</td>\n",
       "      <td>Calcium 3</td>\n",
       "    </tr>\n",
       "  </tbody>\n",
       "</table>\n",
       "</div>"
      ],
      "text/plain": [
       "                                           embedding  site      metal\n",
       "0  [-2.1707404, 2.7382715, 3.4131274, 3.5597532, ...   120     Zinc 1\n",
       "1  [-2.1707404, 2.7382715, 3.4131274, 3.5597532, ...   122     Zinc 1\n",
       "2  [-2.1707404, 2.7382715, 3.4131274, 3.5597532, ...   124     Zinc 2\n",
       "3  [-2.1707404, 2.7382715, 3.4131274, 3.5597532, ...   189     Zinc 1\n",
       "4  [-2.1707404, 2.7382715, 3.4131274, 3.5597532, ...   208     Zinc 2\n",
       "5  [-2.1707404, 2.7382715, 3.4131274, 3.5597532, ...   250     Zinc 2\n",
       "6  [-2.1026626, 2.5696964, 2.9520261, 3.0733876, ...    89  Calcium 3\n",
       "7  [-2.1026626, 2.5696964, 2.9520261, 3.0733876, ...    91  Calcium 3\n",
       "8  [-2.1026626, 2.5696964, 2.9520261, 3.0733876, ...    96  Calcium 3\n",
       "9  [-2.1026626, 2.5696964, 2.9520261, 3.0733876, ...   175  Calcium 3"
      ]
     },
     "execution_count": 13,
     "metadata": {},
     "output_type": "execute_result"
    }
   ],
   "source": [
    "embedding_df=data_preparation(embedded_sequence,final_df['SITES'],final_df['METAL'])\n",
    "embedding_df.head(10)"
   ]
  },
  {
   "cell_type": "code",
   "execution_count": 14,
   "id": "12b3cf4f",
   "metadata": {},
   "outputs": [
    {
     "data": {
      "text/plain": [
       "str"
      ]
     },
     "execution_count": 14,
     "metadata": {},
     "output_type": "execute_result"
    }
   ],
   "source": [
    "type(embedding_df['metal'][0])"
   ]
  },
  {
   "cell_type": "code",
   "execution_count": 15,
   "id": "3e5478c2",
   "metadata": {},
   "outputs": [],
   "source": [
    "#regex module\n",
    "import re\n",
    "metal_list=[]\n",
    "#original string\n",
    "#string1 = \"Hello!James12,India2020\"\n",
    "for i in embedding_df['metal']:\n",
    "    \n",
    "    pattern = r'[0-9]'\n",
    "\n",
    "# Match all digits in the string and replace them with an empty string\n",
    "    new_string=re.sub(pattern, '',i)\n",
    "    metal_list.append(new_string)\n",
    "#print(new_string)"
   ]
  },
  {
   "cell_type": "code",
   "execution_count": 16,
   "id": "7a4cd920",
   "metadata": {},
   "outputs": [
    {
     "data": {
      "text/plain": [
       "0              Zinc 1\n",
       "1              Zinc 1\n",
       "2              Zinc 2\n",
       "3              Zinc 1\n",
       "4              Zinc 2\n",
       "             ...     \n",
       "126544    Magnesium 1\n",
       "126545    Magnesium 2\n",
       "126546    Magnesium 1\n",
       "126547    Magnesium 2\n",
       "126548    Magnesium 2\n",
       "Name: metal, Length: 126549, dtype: object"
      ]
     },
     "execution_count": 16,
     "metadata": {},
     "output_type": "execute_result"
    }
   ],
   "source": [
    "embedding_df['metal']"
   ]
  },
  {
   "cell_type": "code",
   "execution_count": 17,
   "id": "4f7cc38c",
   "metadata": {},
   "outputs": [
    {
     "data": {
      "text/plain": [
       "11"
      ]
     },
     "execution_count": 17,
     "metadata": {},
     "output_type": "execute_result"
    }
   ],
   "source": [
    "len(set(metal_list))"
   ]
  },
  {
   "cell_type": "code",
   "execution_count": 18,
   "id": "0b58b45f",
   "metadata": {},
   "outputs": [
    {
     "data": {
      "text/plain": [
       "(126549, 3)"
      ]
     },
     "execution_count": 18,
     "metadata": {},
     "output_type": "execute_result"
    }
   ],
   "source": [
    "embedding_df.shape"
   ]
  },
  {
   "cell_type": "code",
   "execution_count": 19,
   "id": "47902295",
   "metadata": {},
   "outputs": [],
   "source": [
    "def position_embeddings(max_binding_position, d=1536, n=10000):\n",
    "    P = np.zeros((max_binding_position, d))\n",
    "\n",
    "    for k in range(max_binding_position):\n",
    "        for i in np.arange(int(d/2)):\n",
    "            denominator = np.power(n, 2*i/d)\n",
    "            P[k, 2*i] = np.sin(k/denominator)\n",
    "            P[k, 2*i+1] = np.cos(k/denominator)\n",
    "    return P"
   ]
  },
  {
   "cell_type": "code",
   "execution_count": 20,
   "id": "9d136a47",
   "metadata": {},
   "outputs": [
    {
     "data": {
      "text/plain": [
       "986"
      ]
     },
     "execution_count": 20,
     "metadata": {},
     "output_type": "execute_result"
    }
   ],
   "source": [
    "max(embedding_df.site)"
   ]
  },
  {
   "cell_type": "code",
   "execution_count": 21,
   "id": "fc9dd9e7",
   "metadata": {},
   "outputs": [],
   "source": [
    "max_binding_site=max(embedding_df.site)+1\n",
    "pos_encodings=position_embeddings(max_binding_site)"
   ]
  },
  {
   "cell_type": "code",
   "execution_count": 22,
   "id": "998249be",
   "metadata": {},
   "outputs": [
    {
     "data": {
      "text/plain": [
       "(987, 1536)"
      ]
     },
     "execution_count": 22,
     "metadata": {},
     "output_type": "execute_result"
    }
   ],
   "source": [
    "pos_encodings.shape"
   ]
  },
  {
   "cell_type": "code",
   "execution_count": 23,
   "id": "98027401",
   "metadata": {},
   "outputs": [],
   "source": [
    "embedding_df['metal_list']=metal_list\n",
    "X_X=list(embedding_df.embedding)\n",
    "Y=list(embedding_df.metal_list)\n",
    "labels=list(set(metal_list))"
   ]
  },
  {
   "cell_type": "code",
   "execution_count": 24,
   "id": "950a0ba5",
   "metadata": {},
   "outputs": [
    {
     "data": {
      "text/plain": [
       "11"
      ]
     },
     "execution_count": 24,
     "metadata": {},
     "output_type": "execute_result"
    }
   ],
   "source": [
    "n_labels=len(labels)\n",
    "n_labels"
   ]
  },
  {
   "cell_type": "code",
   "execution_count": 25,
   "id": "9e12cba4",
   "metadata": {},
   "outputs": [
    {
     "data": {
      "text/plain": [
       "(126549, 4)"
      ]
     },
     "execution_count": 25,
     "metadata": {},
     "output_type": "execute_result"
    }
   ],
   "source": [
    "embedding_df.shape"
   ]
  },
  {
   "cell_type": "code",
   "execution_count": 26,
   "id": "98a6303b",
   "metadata": {},
   "outputs": [
    {
     "data": {
      "text/plain": [
       "['Cobalt ',\n",
       " 'Sodium ',\n",
       " 'Zinc ',\n",
       " 'Magnesium ',\n",
       " 'Copper ',\n",
       " 'Potassium ',\n",
       " 'Manganese ',\n",
       " 'Calcium ',\n",
       " 'Cadmium ',\n",
       " 'Nickel ',\n",
       " 'Iron ']"
      ]
     },
     "execution_count": 26,
     "metadata": {},
     "output_type": "execute_result"
    }
   ],
   "source": [
    "labels"
   ]
  },
  {
   "cell_type": "code",
   "execution_count": 27,
   "id": "bca58bdd",
   "metadata": {},
   "outputs": [
    {
     "data": {
      "text/plain": [
       "126549"
      ]
     },
     "execution_count": 27,
     "metadata": {},
     "output_type": "execute_result"
    }
   ],
   "source": [
    "X_X=list(embedding_df.embedding)\n",
    "X_site=list(embedding_df.site)\n",
    "X_site=list(map(lambda x: pos_encodings[x, :], X_site))\n",
    "X_and_site=[x+s for x,s in zip(X_X, X_site)]\n",
    "len(X_and_site)"
   ]
  },
  {
   "cell_type": "code",
   "execution_count": 28,
   "id": "2eb0caac",
   "metadata": {},
   "outputs": [
    {
     "data": {
      "text/plain": [
       "1536"
      ]
     },
     "execution_count": 28,
     "metadata": {},
     "output_type": "execute_result"
    }
   ],
   "source": [
    "len(X_and_site[0])"
   ]
  },
  {
   "cell_type": "code",
   "execution_count": 29,
   "id": "7b00642f",
   "metadata": {},
   "outputs": [],
   "source": [
    "X=X_and_site"
   ]
  },
  {
   "cell_type": "code",
   "execution_count": 30,
   "id": "f03e40e1",
   "metadata": {},
   "outputs": [
    {
     "data": {
      "text/plain": [
       "126549"
      ]
     },
     "execution_count": 30,
     "metadata": {},
     "output_type": "execute_result"
    }
   ],
   "source": [
    "\n",
    "len(X)\n",
    "     "
   ]
  },
  {
   "cell_type": "code",
   "execution_count": 31,
   "id": "dc4ed828",
   "metadata": {},
   "outputs": [],
   "source": [
    "X=np.array(X)"
   ]
  },
  {
   "cell_type": "code",
   "execution_count": 32,
   "id": "9253781d",
   "metadata": {},
   "outputs": [],
   "source": [
    "Y=np.array(Y)"
   ]
  },
  {
   "cell_type": "code",
   "execution_count": 33,
   "id": "149ca132",
   "metadata": {},
   "outputs": [
    {
     "data": {
      "text/plain": [
       "array([[-1.59012918,  3.55245245,  2.68812251, ..., -1.23371597,\n",
       "         2.68087641, -1.82350333],\n",
       "       [-1.67202721,  1.87150438,  4.33196173, ..., -1.23371851,\n",
       "         2.68107881, -1.82350581],\n",
       "       [-3.16642735,  2.64549527,  3.41344562, ..., -1.23372109,\n",
       "         2.6812812 , -1.82350833],\n",
       "       ...,\n",
       "       [-2.68165167,  1.77699571,  3.39888267, ..., -0.87101655,\n",
       "         2.23930699, -1.62975932],\n",
       "       [-2.9739059 ,  2.69022233,  2.45974236, ..., -0.87101778,\n",
       "         2.23940819, -1.62976053],\n",
       "       [-2.37976315,  1.57935333,  3.00735831, ..., -0.87135597,\n",
       "         2.25580013, -1.63009071]])"
      ]
     },
     "execution_count": 33,
     "metadata": {},
     "output_type": "execute_result"
    }
   ],
   "source": [
    "X"
   ]
  },
  {
   "cell_type": "code",
   "execution_count": 34,
   "id": "2c88c67d",
   "metadata": {},
   "outputs": [],
   "source": [
    "from sklearn.preprocessing import StandardScaler\n",
    "import numpy as np\n",
    "\n",
    "scaler = StandardScaler()\n",
    "X = scaler.fit_transform(X)"
   ]
  },
  {
   "cell_type": "code",
   "execution_count": 35,
   "id": "52b68584",
   "metadata": {},
   "outputs": [
    {
     "data": {
      "text/plain": [
       "array([[ 0.43504751,  1.47592217, -0.32025168, ..., -0.96105986,\n",
       "         1.13013871, -0.80135945],\n",
       "       [ 0.34155762, -0.66773535,  1.67713895, ..., -0.96106637,\n",
       "         1.13072109, -0.80136621],\n",
       "       [-1.36436008,  0.31930965,  0.56107148, ..., -0.96107298,\n",
       "         1.13130348, -0.80137308],\n",
       "       ...,\n",
       "       [-0.8109692 , -0.78825913,  0.54337638, ..., -0.03199103,\n",
       "        -0.14043967, -0.27323354],\n",
       "       [-1.14458912,  0.37634859, -0.59775106, ..., -0.03199418,\n",
       "        -0.14014848, -0.27323682],\n",
       "       [-0.46635134, -1.04030594,  0.06764428, ..., -0.03286048,\n",
       "        -0.09298206, -0.27413686]])"
      ]
     },
     "execution_count": 35,
     "metadata": {},
     "output_type": "execute_result"
    }
   ],
   "source": [
    "X"
   ]
  },
  {
   "cell_type": "code",
   "execution_count": 36,
   "id": "08ffeb8a",
   "metadata": {},
   "outputs": [
    {
     "name": "stdout",
     "output_type": "stream",
     "text": [
      "['cadmium' 'calcium' 'cobalt' 'copper' 'iron' 'magnesium' 'manganese'\n",
      " 'nickel' 'potassium' 'sodium' 'zinc']\n"
     ]
    }
   ],
   "source": [
    "from sklearn.feature_extraction.text import TfidfVectorizer\n",
    "vectorizer=TfidfVectorizer()\n",
    "encoded_metal=vectorizer.fit_transform(Y)\n",
    "print(vectorizer.get_feature_names_out())"
   ]
  },
  {
   "cell_type": "code",
   "execution_count": 37,
   "id": "0f70127e",
   "metadata": {},
   "outputs": [
    {
     "data": {
      "text/plain": [
       "array([[0., 0., 0., 0., 0., 0., 0., 0., 0., 0., 1.]])"
      ]
     },
     "execution_count": 37,
     "metadata": {},
     "output_type": "execute_result"
    }
   ],
   "source": [
    "encoded_metal[0].toarray()"
   ]
  },
  {
   "cell_type": "code",
   "execution_count": 38,
   "id": "e1f52202",
   "metadata": {},
   "outputs": [],
   "source": [
    "from sklearn.model_selection import train_test_split\n",
    "x_train, x_test, y_train, y_test=train_test_split(X,Y, test_size=0.2, random_state=120, stratify=Y)"
   ]
  },
  {
   "cell_type": "code",
   "execution_count": 39,
   "id": "0c02593a-b875-43cc-a991-aeb32f407b20",
   "metadata": {},
   "outputs": [
    {
     "data": {
      "text/plain": [
       "(126549, 11)"
      ]
     },
     "execution_count": 39,
     "metadata": {},
     "output_type": "execute_result"
    }
   ],
   "source": [
    "encoded_metal.toarray().shape"
   ]
  },
  {
   "cell_type": "code",
   "execution_count": 40,
   "id": "35b4e593-480e-4d2f-8a28-c4b1bdd3e185",
   "metadata": {},
   "outputs": [
    {
     "data": {
      "text/plain": [
       "(126549, 1536)"
      ]
     },
     "execution_count": 40,
     "metadata": {},
     "output_type": "execute_result"
    }
   ],
   "source": [
    "X.shape"
   ]
  },
  {
   "cell_type": "code",
   "execution_count": 41,
   "id": "5ea1c9ae",
   "metadata": {
    "scrolled": true
   },
   "outputs": [
    {
     "name": "stderr",
     "output_type": "stream",
     "text": [
      "2025-04-15 12:37:03.999615: I tensorflow/stream_executor/platform/default/dso_loader.cc:49] Successfully opened dynamic library libcudart.so.10.1\n",
      "2025-04-15 12:37:05.017159: I tensorflow/compiler/jit/xla_cpu_device.cc:41] Not creating XLA devices, tf_xla_enable_xla_devices not set\n",
      "2025-04-15 12:37:05.017772: I tensorflow/stream_executor/platform/default/dso_loader.cc:49] Successfully opened dynamic library libcuda.so.1\n",
      "2025-04-15 12:37:05.053362: I tensorflow/stream_executor/cuda/cuda_gpu_executor.cc:941] successful NUMA node read from SysFS had negative value (-1), but there must be at least one NUMA node, so returning NUMA node zero\n",
      "2025-04-15 12:37:05.053486: I tensorflow/core/common_runtime/gpu/gpu_device.cc:1720] Found device 0 with properties: \n",
      "pciBusID: 0000:09:00.0 name: NVIDIA GeForce RTX 3080 computeCapability: 8.6\n",
      "coreClock: 1.71GHz coreCount: 68 deviceMemorySize: 9.77GiB deviceMemoryBandwidth: 707.88GiB/s\n",
      "2025-04-15 12:37:05.053501: I tensorflow/stream_executor/platform/default/dso_loader.cc:49] Successfully opened dynamic library libcudart.so.10.1\n",
      "2025-04-15 12:37:05.054478: I tensorflow/stream_executor/platform/default/dso_loader.cc:49] Successfully opened dynamic library libcublas.so.10\n",
      "2025-04-15 12:37:05.054502: I tensorflow/stream_executor/platform/default/dso_loader.cc:49] Successfully opened dynamic library libcublasLt.so.10\n",
      "2025-04-15 12:37:05.055443: I tensorflow/stream_executor/platform/default/dso_loader.cc:49] Successfully opened dynamic library libcufft.so.10\n",
      "2025-04-15 12:37:05.055601: I tensorflow/stream_executor/platform/default/dso_loader.cc:49] Successfully opened dynamic library libcurand.so.10\n",
      "2025-04-15 12:37:05.056540: I tensorflow/stream_executor/platform/default/dso_loader.cc:49] Successfully opened dynamic library libcusolver.so.10\n",
      "2025-04-15 12:37:05.056879: I tensorflow/stream_executor/platform/default/dso_loader.cc:49] Successfully opened dynamic library libcusparse.so.10\n",
      "2025-04-15 12:37:05.058672: I tensorflow/stream_executor/platform/default/dso_loader.cc:49] Successfully opened dynamic library libcudnn.so.7\n",
      "2025-04-15 12:37:05.058749: I tensorflow/stream_executor/cuda/cuda_gpu_executor.cc:941] successful NUMA node read from SysFS had negative value (-1), but there must be at least one NUMA node, so returning NUMA node zero\n",
      "2025-04-15 12:37:05.058898: I tensorflow/stream_executor/cuda/cuda_gpu_executor.cc:941] successful NUMA node read from SysFS had negative value (-1), but there must be at least one NUMA node, so returning NUMA node zero\n",
      "2025-04-15 12:37:05.058992: I tensorflow/core/common_runtime/gpu/gpu_device.cc:1862] Adding visible gpu devices: 0\n",
      "2025-04-15 12:37:05.059242: I tensorflow/core/platform/cpu_feature_guard.cc:142] This TensorFlow binary is optimized with oneAPI Deep Neural Network Library (oneDNN) to use the following CPU instructions in performance-critical operations:  SSE4.1 SSE4.2 AVX AVX2 FMA\n",
      "To enable them in other operations, rebuild TensorFlow with the appropriate compiler flags.\n",
      "2025-04-15 12:37:05.059638: I tensorflow/compiler/jit/xla_gpu_device.cc:99] Not creating XLA devices, tf_xla_enable_xla_devices not set\n",
      "2025-04-15 12:37:05.059706: I tensorflow/stream_executor/cuda/cuda_gpu_executor.cc:941] successful NUMA node read from SysFS had negative value (-1), but there must be at least one NUMA node, so returning NUMA node zero\n",
      "2025-04-15 12:37:05.059810: I tensorflow/core/common_runtime/gpu/gpu_device.cc:1720] Found device 0 with properties: \n",
      "pciBusID: 0000:09:00.0 name: NVIDIA GeForce RTX 3080 computeCapability: 8.6\n",
      "coreClock: 1.71GHz coreCount: 68 deviceMemorySize: 9.77GiB deviceMemoryBandwidth: 707.88GiB/s\n",
      "2025-04-15 12:37:05.059825: I tensorflow/stream_executor/platform/default/dso_loader.cc:49] Successfully opened dynamic library libcudart.so.10.1\n",
      "2025-04-15 12:37:05.059834: I tensorflow/stream_executor/platform/default/dso_loader.cc:49] Successfully opened dynamic library libcublas.so.10\n",
      "2025-04-15 12:37:05.059842: I tensorflow/stream_executor/platform/default/dso_loader.cc:49] Successfully opened dynamic library libcublasLt.so.10\n",
      "2025-04-15 12:37:05.059850: I tensorflow/stream_executor/platform/default/dso_loader.cc:49] Successfully opened dynamic library libcufft.so.10\n",
      "2025-04-15 12:37:05.059858: I tensorflow/stream_executor/platform/default/dso_loader.cc:49] Successfully opened dynamic library libcurand.so.10\n",
      "2025-04-15 12:37:05.059866: I tensorflow/stream_executor/platform/default/dso_loader.cc:49] Successfully opened dynamic library libcusolver.so.10\n",
      "2025-04-15 12:37:05.059874: I tensorflow/stream_executor/platform/default/dso_loader.cc:49] Successfully opened dynamic library libcusparse.so.10\n",
      "2025-04-15 12:37:05.059882: I tensorflow/stream_executor/platform/default/dso_loader.cc:49] Successfully opened dynamic library libcudnn.so.7\n",
      "2025-04-15 12:37:05.059928: I tensorflow/stream_executor/cuda/cuda_gpu_executor.cc:941] successful NUMA node read from SysFS had negative value (-1), but there must be at least one NUMA node, so returning NUMA node zero\n",
      "2025-04-15 12:37:05.060060: I tensorflow/stream_executor/cuda/cuda_gpu_executor.cc:941] successful NUMA node read from SysFS had negative value (-1), but there must be at least one NUMA node, so returning NUMA node zero\n",
      "2025-04-15 12:37:05.060151: I tensorflow/core/common_runtime/gpu/gpu_device.cc:1862] Adding visible gpu devices: 0\n",
      "2025-04-15 12:37:05.060173: I tensorflow/stream_executor/platform/default/dso_loader.cc:49] Successfully opened dynamic library libcudart.so.10.1\n",
      "2025-04-15 12:37:05.959601: I tensorflow/core/common_runtime/gpu/gpu_device.cc:1261] Device interconnect StreamExecutor with strength 1 edge matrix:\n",
      "2025-04-15 12:37:05.959617: I tensorflow/core/common_runtime/gpu/gpu_device.cc:1267]      0 \n",
      "2025-04-15 12:37:05.959622: I tensorflow/core/common_runtime/gpu/gpu_device.cc:1280] 0:   N \n",
      "2025-04-15 12:37:05.959846: I tensorflow/stream_executor/cuda/cuda_gpu_executor.cc:941] successful NUMA node read from SysFS had negative value (-1), but there must be at least one NUMA node, so returning NUMA node zero\n",
      "2025-04-15 12:37:05.960006: I tensorflow/stream_executor/cuda/cuda_gpu_executor.cc:941] successful NUMA node read from SysFS had negative value (-1), but there must be at least one NUMA node, so returning NUMA node zero\n",
      "2025-04-15 12:37:05.960146: I tensorflow/stream_executor/cuda/cuda_gpu_executor.cc:941] successful NUMA node read from SysFS had negative value (-1), but there must be at least one NUMA node, so returning NUMA node zero\n",
      "2025-04-15 12:37:05.960251: I tensorflow/core/common_runtime/gpu/gpu_device.cc:1406] Created TensorFlow device (/job:localhost/replica:0/task:0/device:GPU:0 with 8562 MB memory) -> physical GPU (device: 0, name: NVIDIA GeForce RTX 3080, pci bus id: 0000:09:00.0, compute capability: 8.6)\n",
      "2025-04-15 12:37:06.390609: I tensorflow/compiler/mlir/mlir_graph_optimization_pass.cc:116] None of the MLIR optimization passes are enabled (registered 2)\n",
      "2025-04-15 12:37:06.407748: I tensorflow/core/platform/profile_utils/cpu_utils.cc:112] CPU Frequency: 3393525000 Hz\n",
      "2025-04-15 12:37:06.624668: I tensorflow/stream_executor/platform/default/dso_loader.cc:49] Successfully opened dynamic library libcublas.so.10\n",
      "/home/f087s426/anaconda3/envs/tf-gpu/lib/python3.9/site-packages/sklearn/metrics/_classification.py:1334: UndefinedMetricWarning: Precision and F-score are ill-defined and being set to 0.0 in labels with no predicted samples. Use `zero_division` parameter to control this behavior.\n",
      "  _warn_prf(average, modifier, msg_start, len(result))\n",
      "/home/f087s426/anaconda3/envs/tf-gpu/lib/python3.9/site-packages/sklearn/metrics/_classification.py:1334: UndefinedMetricWarning: Recall and F-score are ill-defined and being set to 0.0 in labels with no true samples. Use `zero_division` parameter to control this behavior.\n",
      "  _warn_prf(average, modifier, msg_start, len(result))\n",
      "/home/f087s426/anaconda3/envs/tf-gpu/lib/python3.9/site-packages/sklearn/metrics/_classification.py:1334: UndefinedMetricWarning: Precision and F-score are ill-defined and being set to 0.0 in samples with no predicted labels. Use `zero_division` parameter to control this behavior.\n",
      "  _warn_prf(average, modifier, msg_start, len(result))\n"
     ]
    },
    {
     "name": "stdout",
     "output_type": "stream",
     "text": [
      "              precision    recall  f1-score   support\n",
      "\n",
      "           0       0.00      0.00      0.00         0\n",
      "           1       0.99      0.99      0.99      3002\n",
      "           2       0.00      0.00      0.00        14\n",
      "           3       1.00      0.97      0.98       125\n",
      "           4       1.00      0.88      0.94       547\n",
      "           5       0.97      0.92      0.94      2197\n",
      "           6       0.96      0.72      0.82      2124\n",
      "           7       1.00      0.97      0.98       322\n",
      "           8       0.00      0.00      0.00         0\n",
      "           9       1.00      0.90      0.95        39\n",
      "          10       0.99      0.98      0.99      4285\n",
      "\n",
      "   micro avg       0.98      0.92      0.95     12655\n",
      "   macro avg       0.72      0.67      0.69     12655\n",
      "weighted avg       0.98      0.92      0.95     12655\n",
      " samples avg       0.92      0.92      0.92     12655\n",
      "\n",
      "Accuracy is: >0.923\n"
     ]
    },
    {
     "name": "stderr",
     "output_type": "stream",
     "text": [
      "/home/f087s426/anaconda3/envs/tf-gpu/lib/python3.9/site-packages/sklearn/metrics/_classification.py:1334: UndefinedMetricWarning: Precision and F-score are ill-defined and being set to 0.0 in labels with no predicted samples. Use `zero_division` parameter to control this behavior.\n",
      "  _warn_prf(average, modifier, msg_start, len(result))\n",
      "/home/f087s426/anaconda3/envs/tf-gpu/lib/python3.9/site-packages/sklearn/metrics/_classification.py:1334: UndefinedMetricWarning: Recall and F-score are ill-defined and being set to 0.0 in labels with no true samples. Use `zero_division` parameter to control this behavior.\n",
      "  _warn_prf(average, modifier, msg_start, len(result))\n",
      "/home/f087s426/anaconda3/envs/tf-gpu/lib/python3.9/site-packages/sklearn/metrics/_classification.py:1334: UndefinedMetricWarning: Precision and F-score are ill-defined and being set to 0.0 in samples with no predicted labels. Use `zero_division` parameter to control this behavior.\n",
      "  _warn_prf(average, modifier, msg_start, len(result))\n"
     ]
    },
    {
     "name": "stdout",
     "output_type": "stream",
     "text": [
      "              precision    recall  f1-score   support\n",
      "\n",
      "           0       0.00      0.00      0.00         0\n",
      "           1       0.99      0.97      0.98      1674\n",
      "           2       0.00      0.00      0.00        12\n",
      "           3       1.00      0.94      0.97       397\n",
      "           4       0.99      0.98      0.99      2584\n",
      "           5       0.98      0.97      0.98      2485\n",
      "           6       0.98      0.95      0.97      1783\n",
      "           7       1.00      0.75      0.86        12\n",
      "           8       1.00      0.71      0.83        31\n",
      "           9       1.00      1.00      1.00         9\n",
      "          10       0.99      0.97      0.98      3668\n",
      "\n",
      "   micro avg       0.99      0.97      0.98     12655\n",
      "   macro avg       0.81      0.75      0.78     12655\n",
      "weighted avg       0.99      0.97      0.98     12655\n",
      " samples avg       0.97      0.97      0.97     12655\n",
      "\n",
      "Accuracy is: >0.968\n"
     ]
    },
    {
     "name": "stderr",
     "output_type": "stream",
     "text": [
      "/home/f087s426/anaconda3/envs/tf-gpu/lib/python3.9/site-packages/sklearn/metrics/_classification.py:1334: UndefinedMetricWarning: Precision and F-score are ill-defined and being set to 0.0 in labels with no predicted samples. Use `zero_division` parameter to control this behavior.\n",
      "  _warn_prf(average, modifier, msg_start, len(result))\n",
      "/home/f087s426/anaconda3/envs/tf-gpu/lib/python3.9/site-packages/sklearn/metrics/_classification.py:1334: UndefinedMetricWarning: Recall and F-score are ill-defined and being set to 0.0 in labels with no true samples. Use `zero_division` parameter to control this behavior.\n",
      "  _warn_prf(average, modifier, msg_start, len(result))\n",
      "/home/f087s426/anaconda3/envs/tf-gpu/lib/python3.9/site-packages/sklearn/metrics/_classification.py:1334: UndefinedMetricWarning: Precision and F-score are ill-defined and being set to 0.0 in samples with no predicted labels. Use `zero_division` parameter to control this behavior.\n",
      "  _warn_prf(average, modifier, msg_start, len(result))\n"
     ]
    },
    {
     "name": "stdout",
     "output_type": "stream",
     "text": [
      "              precision    recall  f1-score   support\n",
      "\n",
      "           0       0.00      0.00      0.00         8\n",
      "           1       0.97      0.97      0.97      2700\n",
      "           2       0.00      0.00      0.00         0\n",
      "           3       1.00      0.96      0.98       196\n",
      "           4       1.00      0.99      1.00      1471\n",
      "           5       0.98      0.96      0.97      2446\n",
      "           6       0.98      0.97      0.98      1500\n",
      "           7       1.00      1.00      1.00         6\n",
      "           8       1.00      0.66      0.79        32\n",
      "           9       1.00      0.27      0.43        11\n",
      "          10       0.99      0.98      0.99      4285\n",
      "\n",
      "   micro avg       0.99      0.97      0.98     12655\n",
      "   macro avg       0.81      0.71      0.74     12655\n",
      "weighted avg       0.99      0.97      0.98     12655\n",
      " samples avg       0.97      0.97      0.97     12655\n",
      "\n",
      "Accuracy is: >0.973\n"
     ]
    },
    {
     "name": "stderr",
     "output_type": "stream",
     "text": [
      "/home/f087s426/anaconda3/envs/tf-gpu/lib/python3.9/site-packages/sklearn/metrics/_classification.py:1334: UndefinedMetricWarning: Precision and F-score are ill-defined and being set to 0.0 in labels with no predicted samples. Use `zero_division` parameter to control this behavior.\n",
      "  _warn_prf(average, modifier, msg_start, len(result))\n",
      "/home/f087s426/anaconda3/envs/tf-gpu/lib/python3.9/site-packages/sklearn/metrics/_classification.py:1334: UndefinedMetricWarning: Recall and F-score are ill-defined and being set to 0.0 in labels with no true samples. Use `zero_division` parameter to control this behavior.\n",
      "  _warn_prf(average, modifier, msg_start, len(result))\n",
      "/home/f087s426/anaconda3/envs/tf-gpu/lib/python3.9/site-packages/sklearn/metrics/_classification.py:1334: UndefinedMetricWarning: Precision and F-score are ill-defined and being set to 0.0 in samples with no predicted labels. Use `zero_division` parameter to control this behavior.\n",
      "  _warn_prf(average, modifier, msg_start, len(result))\n"
     ]
    },
    {
     "name": "stdout",
     "output_type": "stream",
     "text": [
      "              precision    recall  f1-score   support\n",
      "\n",
      "           0       0.00      0.00      0.00         0\n",
      "           1       0.95      0.94      0.95      2259\n",
      "           2       0.00      0.00      0.00         0\n",
      "           3       1.00      0.94      0.97       272\n",
      "           4       1.00      0.98      0.99      2008\n",
      "           5       0.99      0.95      0.97      2568\n",
      "           6       1.00      0.96      0.98      1648\n",
      "           7       1.00      0.50      0.67        20\n",
      "           8       1.00      1.00      1.00        22\n",
      "           9       0.00      0.00      0.00         0\n",
      "          10       0.97      0.96      0.96      3858\n",
      "\n",
      "   micro avg       0.98      0.96      0.97     12655\n",
      "   macro avg       0.72      0.66      0.68     12655\n",
      "weighted avg       0.98      0.96      0.97     12655\n",
      " samples avg       0.96      0.96      0.96     12655\n",
      "\n",
      "Accuracy is: >0.956\n"
     ]
    },
    {
     "name": "stderr",
     "output_type": "stream",
     "text": [
      "/home/f087s426/anaconda3/envs/tf-gpu/lib/python3.9/site-packages/sklearn/metrics/_classification.py:1334: UndefinedMetricWarning: Precision and F-score are ill-defined and being set to 0.0 in labels with no predicted samples. Use `zero_division` parameter to control this behavior.\n",
      "  _warn_prf(average, modifier, msg_start, len(result))\n",
      "/home/f087s426/anaconda3/envs/tf-gpu/lib/python3.9/site-packages/sklearn/metrics/_classification.py:1334: UndefinedMetricWarning: Recall and F-score are ill-defined and being set to 0.0 in labels with no true samples. Use `zero_division` parameter to control this behavior.\n",
      "  _warn_prf(average, modifier, msg_start, len(result))\n",
      "/home/f087s426/anaconda3/envs/tf-gpu/lib/python3.9/site-packages/sklearn/metrics/_classification.py:1334: UndefinedMetricWarning: Precision and F-score are ill-defined and being set to 0.0 in samples with no predicted labels. Use `zero_division` parameter to control this behavior.\n",
      "  _warn_prf(average, modifier, msg_start, len(result))\n"
     ]
    },
    {
     "name": "stdout",
     "output_type": "stream",
     "text": [
      "              precision    recall  f1-score   support\n",
      "\n",
      "           0       0.00      0.00      0.00         0\n",
      "           1       0.99      0.98      0.98      1904\n",
      "           2       0.00      0.00      0.00         0\n",
      "           3       1.00      0.95      0.98       268\n",
      "           4       0.99      0.99      0.99       960\n",
      "           5       0.94      0.98      0.96      2411\n",
      "           6       1.00      0.93      0.96      2156\n",
      "           7       0.00      0.00      0.00         0\n",
      "           8       0.00      0.00      0.00         0\n",
      "           9       1.00      1.00      1.00        36\n",
      "          10       0.99      0.99      0.99      4920\n",
      "\n",
      "   micro avg       0.98      0.97      0.98     12655\n",
      "   macro avg       0.63      0.62      0.62     12655\n",
      "weighted avg       0.98      0.97      0.98     12655\n",
      " samples avg       0.97      0.97      0.97     12655\n",
      "\n",
      "Accuracy is: >0.974\n"
     ]
    },
    {
     "name": "stderr",
     "output_type": "stream",
     "text": [
      "/home/f087s426/anaconda3/envs/tf-gpu/lib/python3.9/site-packages/sklearn/metrics/_classification.py:1334: UndefinedMetricWarning: Precision and F-score are ill-defined and being set to 0.0 in labels with no predicted samples. Use `zero_division` parameter to control this behavior.\n",
      "  _warn_prf(average, modifier, msg_start, len(result))\n",
      "/home/f087s426/anaconda3/envs/tf-gpu/lib/python3.9/site-packages/sklearn/metrics/_classification.py:1334: UndefinedMetricWarning: Recall and F-score are ill-defined and being set to 0.0 in labels with no true samples. Use `zero_division` parameter to control this behavior.\n",
      "  _warn_prf(average, modifier, msg_start, len(result))\n",
      "/home/f087s426/anaconda3/envs/tf-gpu/lib/python3.9/site-packages/sklearn/metrics/_classification.py:1334: UndefinedMetricWarning: Precision and F-score are ill-defined and being set to 0.0 in samples with no predicted labels. Use `zero_division` parameter to control this behavior.\n",
      "  _warn_prf(average, modifier, msg_start, len(result))\n"
     ]
    },
    {
     "name": "stdout",
     "output_type": "stream",
     "text": [
      "              precision    recall  f1-score   support\n",
      "\n",
      "           0       0.00      0.00      0.00         0\n",
      "           1       0.98      0.98      0.98      1603\n",
      "           2       0.00      0.00      0.00         0\n",
      "           3       1.00      0.93      0.96        82\n",
      "           4       1.00      0.97      0.98      1012\n",
      "           5       0.99      0.89      0.94      3589\n",
      "           6       0.97      0.65      0.78      1199\n",
      "           7       1.00      0.99      1.00       783\n",
      "           8       0.00      0.00      0.00         0\n",
      "           9       0.99      1.00      0.99        90\n",
      "          10       0.99      0.99      0.99      4297\n",
      "\n",
      "   micro avg       0.99      0.92      0.95     12655\n",
      "   macro avg       0.72      0.67      0.69     12655\n",
      "weighted avg       0.99      0.92      0.95     12655\n",
      " samples avg       0.92      0.92      0.92     12655\n",
      "\n",
      "Accuracy is: >0.924\n"
     ]
    },
    {
     "name": "stderr",
     "output_type": "stream",
     "text": [
      "/home/f087s426/anaconda3/envs/tf-gpu/lib/python3.9/site-packages/sklearn/metrics/_classification.py:1334: UndefinedMetricWarning: Precision and F-score are ill-defined and being set to 0.0 in labels with no predicted samples. Use `zero_division` parameter to control this behavior.\n",
      "  _warn_prf(average, modifier, msg_start, len(result))\n",
      "/home/f087s426/anaconda3/envs/tf-gpu/lib/python3.9/site-packages/sklearn/metrics/_classification.py:1334: UndefinedMetricWarning: Recall and F-score are ill-defined and being set to 0.0 in labels with no true samples. Use `zero_division` parameter to control this behavior.\n",
      "  _warn_prf(average, modifier, msg_start, len(result))\n",
      "/home/f087s426/anaconda3/envs/tf-gpu/lib/python3.9/site-packages/sklearn/metrics/_classification.py:1334: UndefinedMetricWarning: Precision and F-score are ill-defined and being set to 0.0 in samples with no predicted labels. Use `zero_division` parameter to control this behavior.\n",
      "  _warn_prf(average, modifier, msg_start, len(result))\n"
     ]
    },
    {
     "name": "stdout",
     "output_type": "stream",
     "text": [
      "              precision    recall  f1-score   support\n",
      "\n",
      "           0       0.00      0.00      0.00         0\n",
      "           1       1.00      0.98      0.99      1859\n",
      "           2       0.00      0.00      0.00        24\n",
      "           3       0.79      1.00      0.88        45\n",
      "           4       0.94      0.89      0.91       216\n",
      "           5       0.99      0.75      0.86      4114\n",
      "           6       0.36      0.84      0.51       926\n",
      "           7       1.00      1.00      1.00       497\n",
      "           8       0.00      0.00      0.00         0\n",
      "           9       1.00      1.00      1.00        35\n",
      "          10       0.99      0.98      0.99      4939\n",
      "\n",
      "   micro avg       0.89      0.89      0.89     12655\n",
      "   macro avg       0.64      0.68      0.65     12655\n",
      "weighted avg       0.94      0.89      0.91     12655\n",
      " samples avg       0.88      0.89      0.88     12655\n",
      "\n",
      "Accuracy is: >0.861\n"
     ]
    },
    {
     "name": "stderr",
     "output_type": "stream",
     "text": [
      "/home/f087s426/anaconda3/envs/tf-gpu/lib/python3.9/site-packages/sklearn/metrics/_classification.py:1334: UndefinedMetricWarning: Precision and F-score are ill-defined and being set to 0.0 in labels with no predicted samples. Use `zero_division` parameter to control this behavior.\n",
      "  _warn_prf(average, modifier, msg_start, len(result))\n",
      "/home/f087s426/anaconda3/envs/tf-gpu/lib/python3.9/site-packages/sklearn/metrics/_classification.py:1334: UndefinedMetricWarning: Recall and F-score are ill-defined and being set to 0.0 in labels with no true samples. Use `zero_division` parameter to control this behavior.\n",
      "  _warn_prf(average, modifier, msg_start, len(result))\n",
      "/home/f087s426/anaconda3/envs/tf-gpu/lib/python3.9/site-packages/sklearn/metrics/_classification.py:1334: UndefinedMetricWarning: Precision and F-score are ill-defined and being set to 0.0 in samples with no predicted labels. Use `zero_division` parameter to control this behavior.\n",
      "  _warn_prf(average, modifier, msg_start, len(result))\n"
     ]
    },
    {
     "name": "stdout",
     "output_type": "stream",
     "text": [
      "              precision    recall  f1-score   support\n",
      "\n",
      "           0       0.00      0.00      0.00         0\n",
      "           1       1.00      0.97      0.99      2425\n",
      "           2       0.00      0.00      0.00         7\n",
      "           3       1.00      0.94      0.97       191\n",
      "           4       1.00      0.96      0.98       570\n",
      "           5       1.00      0.95      0.97      2146\n",
      "           6       0.97      0.93      0.95      1531\n",
      "           7       1.00      1.00      1.00       321\n",
      "           8       1.00      1.00      1.00       217\n",
      "           9       1.00      0.90      0.95        10\n",
      "          10       0.99      0.99      0.99      5237\n",
      "\n",
      "   micro avg       0.99      0.97      0.98     12655\n",
      "   macro avg       0.81      0.79      0.80     12655\n",
      "weighted avg       0.99      0.97      0.98     12655\n",
      " samples avg       0.97      0.97      0.97     12655\n",
      "\n",
      "Accuracy is: >0.971\n"
     ]
    },
    {
     "name": "stderr",
     "output_type": "stream",
     "text": [
      "/home/f087s426/anaconda3/envs/tf-gpu/lib/python3.9/site-packages/sklearn/metrics/_classification.py:1334: UndefinedMetricWarning: Precision and F-score are ill-defined and being set to 0.0 in labels with no predicted samples. Use `zero_division` parameter to control this behavior.\n",
      "  _warn_prf(average, modifier, msg_start, len(result))\n",
      "/home/f087s426/anaconda3/envs/tf-gpu/lib/python3.9/site-packages/sklearn/metrics/_classification.py:1334: UndefinedMetricWarning: Recall and F-score are ill-defined and being set to 0.0 in labels with no true samples. Use `zero_division` parameter to control this behavior.\n",
      "  _warn_prf(average, modifier, msg_start, len(result))\n",
      "/home/f087s426/anaconda3/envs/tf-gpu/lib/python3.9/site-packages/sklearn/metrics/_classification.py:1334: UndefinedMetricWarning: Precision and F-score are ill-defined and being set to 0.0 in samples with no predicted labels. Use `zero_division` parameter to control this behavior.\n",
      "  _warn_prf(average, modifier, msg_start, len(result))\n"
     ]
    },
    {
     "name": "stdout",
     "output_type": "stream",
     "text": [
      "              precision    recall  f1-score   support\n",
      "\n",
      "           0       0.00      0.00      0.00         0\n",
      "           1       0.98      0.97      0.98      2289\n",
      "           2       0.00      0.00      0.00         0\n",
      "           3       1.00      0.96      0.98       276\n",
      "           4       0.99      0.88      0.93      1731\n",
      "           5       0.99      0.97      0.98      3078\n",
      "           6       0.99      0.97      0.98      1478\n",
      "           7       1.00      0.96      0.98        24\n",
      "           8       1.00      1.00      1.00       341\n",
      "           9       1.00      0.82      0.90       114\n",
      "          10       0.99      0.98      0.98      3324\n",
      "\n",
      "   micro avg       0.99      0.96      0.97     12655\n",
      "   macro avg       0.81      0.77      0.79     12655\n",
      "weighted avg       0.99      0.96      0.97     12655\n",
      " samples avg       0.96      0.96      0.96     12655\n",
      "\n",
      "Accuracy is: >0.960\n",
      "              precision    recall  f1-score   support\n",
      "\n",
      "           0       0.00      0.00      0.00         0\n",
      "           1       0.98      0.98      0.98      1913\n",
      "           2       0.00      0.00      0.00        12\n",
      "           3       0.87      0.90      0.88       102\n",
      "           4       0.92      0.96      0.94      2141\n",
      "           5       0.96      0.97      0.97      1778\n",
      "           6       0.96      0.85      0.90      1871\n",
      "           7       0.00      0.00      0.00         7\n",
      "           8       1.00      1.00      1.00        50\n",
      "           9       0.00      0.00      0.00         0\n",
      "          10       0.98      0.91      0.94      4780\n",
      "\n",
      "   micro avg       0.96      0.93      0.94     12654\n",
      "   macro avg       0.61      0.60      0.60     12654\n",
      "weighted avg       0.96      0.93      0.94     12654\n",
      " samples avg       0.93      0.93      0.93     12654\n",
      "\n",
      "Accuracy is: >0.927\n",
      "Accuracy: 0.944 (0.034)\n"
     ]
    },
    {
     "name": "stderr",
     "output_type": "stream",
     "text": [
      "/home/f087s426/anaconda3/envs/tf-gpu/lib/python3.9/site-packages/sklearn/metrics/_classification.py:1334: UndefinedMetricWarning: Precision and F-score are ill-defined and being set to 0.0 in labels with no predicted samples. Use `zero_division` parameter to control this behavior.\n",
      "  _warn_prf(average, modifier, msg_start, len(result))\n",
      "/home/f087s426/anaconda3/envs/tf-gpu/lib/python3.9/site-packages/sklearn/metrics/_classification.py:1334: UndefinedMetricWarning: Recall and F-score are ill-defined and being set to 0.0 in labels with no true samples. Use `zero_division` parameter to control this behavior.\n",
      "  _warn_prf(average, modifier, msg_start, len(result))\n",
      "/home/f087s426/anaconda3/envs/tf-gpu/lib/python3.9/site-packages/sklearn/metrics/_classification.py:1334: UndefinedMetricWarning: Precision and F-score are ill-defined and being set to 0.0 in samples with no predicted labels. Use `zero_division` parameter to control this behavior.\n",
      "  _warn_prf(average, modifier, msg_start, len(result))\n"
     ]
    }
   ],
   "source": [
    "# mlp for multi-label classification\n",
    "from numpy import mean\n",
    "from numpy import std\n",
    "import tensorflow as tf\n",
    "from sklearn.model_selection import RepeatedKFold\n",
    "from tensorflow.keras.models import Sequential\n",
    "from tensorflow.keras.layers import Dense,Dropout\n",
    "from sklearn.metrics import accuracy_score\n",
    "from sklearn.model_selection import StratifiedKFold\n",
    "from sklearn.metrics import classification_report\n",
    "from sklearn.metrics import multilabel_confusion_matrix\n",
    "from sklearn.metrics import precision_recall_curve, roc_curve\n",
    "import matplotlib.pyplot as plt\n",
    "\n",
    "# get the model\n",
    "def get_model(n_inputs, n_outputs):\n",
    "\tmodel = Sequential()\n",
    "\tmodel.add(Dense(500, input_dim=n_inputs, kernel_initializer='he_uniform', activation='relu'))\n",
    "\tmodel.add(Dropout(0.2)) \n",
    "\tmodel.add(Dense(300, activation='relu'))\n",
    "\tmodel.add(Dropout(0.2))\n",
    "\tmodel.add(Dense(100, activation='relu'))\n",
    "\tmodel.add(Dense(n_outputs, activation='sigmoid'))\n",
    "\tmodel.compile(loss='binary_crossentropy', optimizer='adam',metrics=['accuracy'])\n",
    "\treturn model\n",
    " \n",
    "# evaluate a model using repeated k-fold cross-validation\n",
    "def evaluate_model(X, y):\n",
    "\tresults = list()\n",
    "\t#X=np.array(X)\n",
    "\tn_inputs, n_outputs = X.shape[1], y.shape[1]\n",
    "\t# define evaluation procedure\n",
    "\t#cv = RepeatedKFold(n_splits=10, n_repeats=3, random_state=1)\n",
    "\tskf = StratifiedKFold(n_splits=10)\n",
    "\t# enumerate folds\n",
    "\tfor train_ix, test_ix in skf.split(X,np.zeros(shape=(X.shape[0], 1))):\n",
    "\t\t# prepare data\n",
    "\t\tX_train, X_test = X[train_ix], X[test_ix]\n",
    "\t\ty_train, y_test = y[train_ix], y[test_ix]\n",
    "        #X_test.to_csv('out.csv', index=False)  \n",
    "\t\t#print(y_test)\n",
    "\t\tmodel = get_model(n_inputs, n_outputs)\n",
    "\t\t# fit model\n",
    "\t\thistory=model.fit(X_train, y_train,validation_split=0.2, verbose=0, epochs=20, batch_size=16)\n",
    "\t\t#model.save(\"protein_model.h5\")\n",
    "# \t\tplt.plot(history.history['accuracy'])\n",
    "# \t\tplt.plot(history.history['val_accuracy'])\n",
    "# \t\tplt.title('model accuracy')\n",
    "# \t\tplt.ylabel('accuracy')\n",
    "# \t\tplt.xlabel('epoch')\n",
    "# \t\tplt.legend(['train', 'validation'], loc='lower right')\n",
    "# \t\tplt.show()\n",
    "# \t\t# summarize history for loss\n",
    "# \t\tplt.plot(history.history['loss'])\n",
    "# \t\tplt.plot(history.history['val_loss'])\n",
    "# \t\tplt.title('model loss')\n",
    "# \t\tplt.ylabel('loss')\n",
    "# \t\tplt.xlabel('epoch')\n",
    "# \t\tplt.legend(['train', 'validation'], loc='upper left')\n",
    "# \t\tplt.show()\n",
    "\t\tyhat = model.predict(X_test)\n",
    "\t\t# round probabilities to class labels\n",
    "\t\tyhat = yhat.round()\n",
    "\t\t#print(yhat)\n",
    "\t\t#print(multilabel_confusion_matrix(y_test, yhat))\n",
    "\t\tacc = accuracy_score(y_test, yhat)\n",
    "\t\tprint(classification_report(y_test, yhat))\n",
    "# \t\t# precision recall curve\n",
    "# \t\tprecision = dict()\n",
    "# \t\trecall = dict()\n",
    "# \t\tfor i in range(11):\n",
    "# \t\t\tprecision[i], recall[i], _ = precision_recall_curve(y_test[:, i],\n",
    "#                                                         yhat[:, i])\n",
    "# \t\t\tplt.plot(recall[i], lw=2, label='class {}'.format(i))    \n",
    "# \t\tplt.xlabel(\"recall\")\n",
    "# \t\t#plt.ylabel(\"precision\")\n",
    "# \t\tplt.legend(loc=\"best\")\n",
    "# \t\tplt.title(\"precision vs. recall curve\")\n",
    "# \t\tplt.show()\n",
    "\t\t# store result\n",
    "\t\tprint('Accuracy is: >%.3f' % acc)\n",
    "\t\tresults.append(acc)\n",
    "\treturn results\n",
    " \n",
    "# load dataset\n",
    "\n",
    "# evaluate model\n",
    "results = evaluate_model(X, encoded_metal.toarray().astype(np.uint8))\n",
    "# summarize performance\n",
    "print('Accuracy: %.3f (%.3f)' % (mean(results), std(results)))"
   ]
  },
  {
   "cell_type": "code",
   "execution_count": null,
   "id": "76f54e95",
   "metadata": {},
   "outputs": [],
   "source": []
  }
 ],
 "metadata": {
  "kernelspec": {
   "display_name": "Python 3 (ipykernel)",
   "language": "python",
   "name": "python3"
  },
  "language_info": {
   "codemirror_mode": {
    "name": "ipython",
    "version": 3
   },
   "file_extension": ".py",
   "mimetype": "text/x-python",
   "name": "python",
   "nbconvert_exporter": "python",
   "pygments_lexer": "ipython3",
   "version": "3.9.13"
  }
 },
 "nbformat": 4,
 "nbformat_minor": 5
}
