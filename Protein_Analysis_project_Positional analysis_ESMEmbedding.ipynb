{
 "cells": [
  {
   "cell_type": "code",
   "execution_count": 1,
   "id": "c3b411c9",
   "metadata": {},
   "outputs": [],
   "source": [
    "import pandas as pd\n",
    "import numpy as np"
   ]
  },
  {
   "cell_type": "code",
   "execution_count": 2,
   "id": "223c52dd",
   "metadata": {},
   "outputs": [],
   "source": [
    "df=pd.read_csv('metal_binding_data.csv')"
   ]
  },
  {
   "cell_type": "code",
   "execution_count": 3,
   "id": "4b2b4396",
   "metadata": {},
   "outputs": [
    {
     "data": {
      "text/html": [
       "<div>\n",
       "<style scoped>\n",
       "    .dataframe tbody tr th:only-of-type {\n",
       "        vertical-align: middle;\n",
       "    }\n",
       "\n",
       "    .dataframe tbody tr th {\n",
       "        vertical-align: top;\n",
       "    }\n",
       "\n",
       "    .dataframe thead th {\n",
       "        text-align: right;\n",
       "    }\n",
       "</style>\n",
       "<table border=\"1\" class=\"dataframe\">\n",
       "  <thead>\n",
       "    <tr style=\"text-align: right;\">\n",
       "      <th></th>\n",
       "      <th>Unnamed: 0</th>\n",
       "      <th>PID</th>\n",
       "      <th>SEQUENCE</th>\n",
       "      <th>SITES</th>\n",
       "      <th>METAL</th>\n",
       "    </tr>\n",
       "  </thead>\n",
       "  <tbody>\n",
       "    <tr>\n",
       "      <th>0</th>\n",
       "      <td>0</td>\n",
       "      <td>C7C422</td>\n",
       "      <td>MELPNIMHPVAKLSTALAAALMLSGCMPGEIRPTIGQQMETGDQRF...</td>\n",
       "      <td>1,2,3,4,5,6</td>\n",
       "      <td>Zinc 1,Zinc 1,Zinc 2,Zinc 1,Zinc 2,Zinc 2</td>\n",
       "    </tr>\n",
       "    <tr>\n",
       "      <th>1</th>\n",
       "      <td>1</td>\n",
       "      <td>Q07009</td>\n",
       "      <td>MAGIAMKLAKDREAAEGLGSHERAIKYLNQDYETLRNECLEAGALF...</td>\n",
       "      <td>89,91,96,175,229,230,292,299,319,323,542,545,5...</td>\n",
       "      <td>Calcium 3,Calcium 3,Calcium 3,Calcium 3,Calciu...</td>\n",
       "    </tr>\n",
       "    <tr>\n",
       "      <th>2</th>\n",
       "      <td>2</td>\n",
       "      <td>P09871</td>\n",
       "      <td>MWCIVLFSLLAWVYAEPTMYGEILSPNYPQAYPSEVEKSWDIEVPE...</td>\n",
       "      <td>NaN</td>\n",
       "      <td>NaN</td>\n",
       "    </tr>\n",
       "    <tr>\n",
       "      <th>3</th>\n",
       "      <td>3</td>\n",
       "      <td>P00917</td>\n",
       "      <td>MAHSDWGYDSPNGPZEWVKLYPIANGNNQSPIDIKTSETKHDTSLK...</td>\n",
       "      <td>95,97,120</td>\n",
       "      <td>Zinc 1,Zinc 1,Zinc 1</td>\n",
       "    </tr>\n",
       "    <tr>\n",
       "      <th>4</th>\n",
       "      <td>4</td>\n",
       "      <td>Q9ULX7</td>\n",
       "      <td>MLFSALLLEVIWILAADGGQHWTYEGPHGQDHWPASYPECGNNAQS...</td>\n",
       "      <td>NaN</td>\n",
       "      <td>NaN</td>\n",
       "    </tr>\n",
       "  </tbody>\n",
       "</table>\n",
       "</div>"
      ],
      "text/plain": [
       "   Unnamed: 0     PID                                           SEQUENCE  \\\n",
       "0           0  C7C422  MELPNIMHPVAKLSTALAAALMLSGCMPGEIRPTIGQQMETGDQRF...   \n",
       "1           1  Q07009  MAGIAMKLAKDREAAEGLGSHERAIKYLNQDYETLRNECLEAGALF...   \n",
       "2           2  P09871  MWCIVLFSLLAWVYAEPTMYGEILSPNYPQAYPSEVEKSWDIEVPE...   \n",
       "3           3  P00917  MAHSDWGYDSPNGPZEWVKLYPIANGNNQSPIDIKTSETKHDTSLK...   \n",
       "4           4  Q9ULX7  MLFSALLLEVIWILAADGGQHWTYEGPHGQDHWPASYPECGNNAQS...   \n",
       "\n",
       "                                               SITES  \\\n",
       "0                                        1,2,3,4,5,6   \n",
       "1  89,91,96,175,229,230,292,299,319,323,542,545,5...   \n",
       "2                                                NaN   \n",
       "3                                          95,97,120   \n",
       "4                                                NaN   \n",
       "\n",
       "                                               METAL  \n",
       "0          Zinc 1,Zinc 1,Zinc 2,Zinc 1,Zinc 2,Zinc 2  \n",
       "1  Calcium 3,Calcium 3,Calcium 3,Calcium 3,Calciu...  \n",
       "2                                                NaN  \n",
       "3                               Zinc 1,Zinc 1,Zinc 1  \n",
       "4                                                NaN  "
      ]
     },
     "execution_count": 3,
     "metadata": {},
     "output_type": "execute_result"
    }
   ],
   "source": [
    "df.head()"
   ]
  },
  {
   "cell_type": "code",
   "execution_count": 4,
   "id": "a466b14e",
   "metadata": {},
   "outputs": [],
   "source": [
    "df2=df.dropna(axis=0)"
   ]
  },
  {
   "cell_type": "code",
   "execution_count": 5,
   "id": "364f996f",
   "metadata": {},
   "outputs": [],
   "source": [
    "final_df=df2[(df2['SEQUENCE'].str.len()>50) & (df2['SEQUENCE'].str.len()<1000)]"
   ]
  },
  {
   "cell_type": "code",
   "execution_count": 6,
   "id": "56dac4f5",
   "metadata": {},
   "outputs": [
    {
     "data": {
      "text/html": [
       "<div>\n",
       "<style scoped>\n",
       "    .dataframe tbody tr th:only-of-type {\n",
       "        vertical-align: middle;\n",
       "    }\n",
       "\n",
       "    .dataframe tbody tr th {\n",
       "        vertical-align: top;\n",
       "    }\n",
       "\n",
       "    .dataframe thead th {\n",
       "        text-align: right;\n",
       "    }\n",
       "</style>\n",
       "<table border=\"1\" class=\"dataframe\">\n",
       "  <thead>\n",
       "    <tr style=\"text-align: right;\">\n",
       "      <th></th>\n",
       "      <th>Unnamed: 0</th>\n",
       "      <th>PID</th>\n",
       "      <th>SEQUENCE</th>\n",
       "      <th>SITES</th>\n",
       "      <th>METAL</th>\n",
       "    </tr>\n",
       "  </thead>\n",
       "  <tbody>\n",
       "    <tr>\n",
       "      <th>0</th>\n",
       "      <td>0</td>\n",
       "      <td>C7C422</td>\n",
       "      <td>MELPNIMHPVAKLSTALAAALMLSGCMPGEIRPTIGQQMETGDQRF...</td>\n",
       "      <td>1,2,3,4,5,6</td>\n",
       "      <td>Zinc 1,Zinc 1,Zinc 2,Zinc 1,Zinc 2,Zinc 2</td>\n",
       "    </tr>\n",
       "    <tr>\n",
       "      <th>1</th>\n",
       "      <td>1</td>\n",
       "      <td>Q07009</td>\n",
       "      <td>MAGIAMKLAKDREAAEGLGSHERAIKYLNQDYETLRNECLEAGALF...</td>\n",
       "      <td>89,91,96,175,229,230,292,299,319,323,542,545,5...</td>\n",
       "      <td>Calcium 3,Calcium 3,Calcium 3,Calcium 3,Calciu...</td>\n",
       "    </tr>\n",
       "    <tr>\n",
       "      <th>3</th>\n",
       "      <td>3</td>\n",
       "      <td>P00917</td>\n",
       "      <td>MAHSDWGYDSPNGPZEWVKLYPIANGNNQSPIDIKTSETKHDTSLK...</td>\n",
       "      <td>95,97,120</td>\n",
       "      <td>Zinc 1,Zinc 1,Zinc 1</td>\n",
       "    </tr>\n",
       "    <tr>\n",
       "      <th>11</th>\n",
       "      <td>11</td>\n",
       "      <td>P51399</td>\n",
       "      <td>MPSYTVTVATGSQWFAGTDDYIYLSLIGSAGCSEKHLLDKAFYNDF...</td>\n",
       "      <td>17,18,19,44,45,47,79,80</td>\n",
       "      <td>Calcium 1,Calcium 2,Calcium 2,Calcium 2,Calciu...</td>\n",
       "    </tr>\n",
       "    <tr>\n",
       "      <th>17</th>\n",
       "      <td>17</td>\n",
       "      <td>P00433</td>\n",
       "      <td>MHFSSSSTLFTCITLIPLVCLILHASLSDAQLTPTFYDNSCPNVSN...</td>\n",
       "      <td>73,76,78,80,82,94,201,252,255,260</td>\n",
       "      <td>Calcium 1,Calcium 1,Calcium 1,Calcium 1,Calciu...</td>\n",
       "    </tr>\n",
       "    <tr>\n",
       "      <th>...</th>\n",
       "      <td>...</td>\n",
       "      <td>...</td>\n",
       "      <td>...</td>\n",
       "      <td>...</td>\n",
       "      <td>...</td>\n",
       "    </tr>\n",
       "    <tr>\n",
       "      <th>101350</th>\n",
       "      <td>101350</td>\n",
       "      <td>Q3SFS6</td>\n",
       "      <td>MHTGTTLTQFIIEEQRRTAGATGDFTSLLNDVVTACKAISNAVNKG...</td>\n",
       "      <td>92,114,114,116,117,200</td>\n",
       "      <td>Magnesium 1,Magnesium 1,Magnesium 2,Magnesium ...</td>\n",
       "    </tr>\n",
       "    <tr>\n",
       "      <th>101351</th>\n",
       "      <td>101351</td>\n",
       "      <td>Q82WY3</td>\n",
       "      <td>MHTGTTLTQFIIEEQRHIAGASGDFTALLNDIVTAIKTISNAVNKG...</td>\n",
       "      <td>92,114,114,116,117,200</td>\n",
       "      <td>Magnesium 1,Magnesium 1,Magnesium 2,Magnesium ...</td>\n",
       "    </tr>\n",
       "    <tr>\n",
       "      <th>101352</th>\n",
       "      <td>101352</td>\n",
       "      <td>A5WGK6</td>\n",
       "      <td>MTSLTQYFEQHPKLPQTQAVIDVITTITNVGKQITDLLRQGALADI...</td>\n",
       "      <td>87,106,106,108,109,200</td>\n",
       "      <td>Magnesium 1,Magnesium 1,Magnesium 2,Magnesium ...</td>\n",
       "    </tr>\n",
       "    <tr>\n",
       "      <th>101353</th>\n",
       "      <td>101353</td>\n",
       "      <td>A5WA74</td>\n",
       "      <td>MSRVTLSRYLIEQTRSNNTPADLRFLIEVVARACKEISHHVSKGAL...</td>\n",
       "      <td>90,112,112,114,115,200</td>\n",
       "      <td>Magnesium 1,Magnesium 1,Magnesium 2,Magnesium ...</td>\n",
       "    </tr>\n",
       "    <tr>\n",
       "      <th>101354</th>\n",
       "      <td>101354</td>\n",
       "      <td>Q9KP35</td>\n",
       "      <td>MQKMRTLGEFIVEKQHDFPHASGELSSLLASIRLAAKIVNREINKA...</td>\n",
       "      <td>92,115,115,117,118,200</td>\n",
       "      <td>Magnesium 1,Magnesium 1,Magnesium 2,Magnesium ...</td>\n",
       "    </tr>\n",
       "  </tbody>\n",
       "</table>\n",
       "<p>18531 rows × 5 columns</p>\n",
       "</div>"
      ],
      "text/plain": [
       "        Unnamed: 0     PID                                           SEQUENCE  \\\n",
       "0                0  C7C422  MELPNIMHPVAKLSTALAAALMLSGCMPGEIRPTIGQQMETGDQRF...   \n",
       "1                1  Q07009  MAGIAMKLAKDREAAEGLGSHERAIKYLNQDYETLRNECLEAGALF...   \n",
       "3                3  P00917  MAHSDWGYDSPNGPZEWVKLYPIANGNNQSPIDIKTSETKHDTSLK...   \n",
       "11              11  P51399  MPSYTVTVATGSQWFAGTDDYIYLSLIGSAGCSEKHLLDKAFYNDF...   \n",
       "17              17  P00433  MHFSSSSTLFTCITLIPLVCLILHASLSDAQLTPTFYDNSCPNVSN...   \n",
       "...            ...     ...                                                ...   \n",
       "101350      101350  Q3SFS6  MHTGTTLTQFIIEEQRRTAGATGDFTSLLNDVVTACKAISNAVNKG...   \n",
       "101351      101351  Q82WY3  MHTGTTLTQFIIEEQRHIAGASGDFTALLNDIVTAIKTISNAVNKG...   \n",
       "101352      101352  A5WGK6  MTSLTQYFEQHPKLPQTQAVIDVITTITNVGKQITDLLRQGALADI...   \n",
       "101353      101353  A5WA74  MSRVTLSRYLIEQTRSNNTPADLRFLIEVVARACKEISHHVSKGAL...   \n",
       "101354      101354  Q9KP35  MQKMRTLGEFIVEKQHDFPHASGELSSLLASIRLAAKIVNREINKA...   \n",
       "\n",
       "                                                    SITES  \\\n",
       "0                                             1,2,3,4,5,6   \n",
       "1       89,91,96,175,229,230,292,299,319,323,542,545,5...   \n",
       "3                                               95,97,120   \n",
       "11                                17,18,19,44,45,47,79,80   \n",
       "17                      73,76,78,80,82,94,201,252,255,260   \n",
       "...                                                   ...   \n",
       "101350                             92,114,114,116,117,200   \n",
       "101351                             92,114,114,116,117,200   \n",
       "101352                             87,106,106,108,109,200   \n",
       "101353                             90,112,112,114,115,200   \n",
       "101354                             92,115,115,117,118,200   \n",
       "\n",
       "                                                    METAL  \n",
       "0               Zinc 1,Zinc 1,Zinc 2,Zinc 1,Zinc 2,Zinc 2  \n",
       "1       Calcium 3,Calcium 3,Calcium 3,Calcium 3,Calciu...  \n",
       "3                                    Zinc 1,Zinc 1,Zinc 1  \n",
       "11      Calcium 1,Calcium 2,Calcium 2,Calcium 2,Calciu...  \n",
       "17      Calcium 1,Calcium 1,Calcium 1,Calcium 1,Calciu...  \n",
       "...                                                   ...  \n",
       "101350  Magnesium 1,Magnesium 1,Magnesium 2,Magnesium ...  \n",
       "101351  Magnesium 1,Magnesium 1,Magnesium 2,Magnesium ...  \n",
       "101352  Magnesium 1,Magnesium 1,Magnesium 2,Magnesium ...  \n",
       "101353  Magnesium 1,Magnesium 1,Magnesium 2,Magnesium ...  \n",
       "101354  Magnesium 1,Magnesium 1,Magnesium 2,Magnesium ...  \n",
       "\n",
       "[18531 rows x 5 columns]"
      ]
     },
     "execution_count": 6,
     "metadata": {},
     "output_type": "execute_result"
    }
   ],
   "source": [
    "final_df"
   ]
  },
  {
   "cell_type": "code",
   "execution_count": 7,
   "id": "6eff9078",
   "metadata": {},
   "outputs": [],
   "source": [
    "embedding=np.load('E:\\PHD_Research\\Biomedical_Research\\MetaLLM_for_Journal\\Lmeatlsite data\\metallm_esm_embedding.npy') "
   ]
  },
  {
   "cell_type": "code",
   "execution_count": 8,
   "id": "2176bc79",
   "metadata": {},
   "outputs": [],
   "source": [
    "embed_df=pd.DataFrame(embedding)"
   ]
  },
  {
   "cell_type": "code",
   "execution_count": 9,
   "id": "6b8aa69a",
   "metadata": {},
   "outputs": [
    {
     "data": {
      "text/html": [
       "<div>\n",
       "<style scoped>\n",
       "    .dataframe tbody tr th:only-of-type {\n",
       "        vertical-align: middle;\n",
       "    }\n",
       "\n",
       "    .dataframe tbody tr th {\n",
       "        vertical-align: top;\n",
       "    }\n",
       "\n",
       "    .dataframe thead th {\n",
       "        text-align: right;\n",
       "    }\n",
       "</style>\n",
       "<table border=\"1\" class=\"dataframe\">\n",
       "  <thead>\n",
       "    <tr style=\"text-align: right;\">\n",
       "      <th></th>\n",
       "      <th>0</th>\n",
       "      <th>1</th>\n",
       "      <th>2</th>\n",
       "      <th>3</th>\n",
       "      <th>4</th>\n",
       "      <th>5</th>\n",
       "      <th>6</th>\n",
       "      <th>7</th>\n",
       "      <th>8</th>\n",
       "      <th>9</th>\n",
       "      <th>...</th>\n",
       "      <th>1270</th>\n",
       "      <th>1271</th>\n",
       "      <th>1272</th>\n",
       "      <th>1273</th>\n",
       "      <th>1274</th>\n",
       "      <th>1275</th>\n",
       "      <th>1276</th>\n",
       "      <th>1277</th>\n",
       "      <th>1278</th>\n",
       "      <th>1279</th>\n",
       "    </tr>\n",
       "  </thead>\n",
       "  <tbody>\n",
       "    <tr>\n",
       "      <th>0</th>\n",
       "      <td>0.037021</td>\n",
       "      <td>0.124109</td>\n",
       "      <td>0.052654</td>\n",
       "      <td>0.107856</td>\n",
       "      <td>0.026520</td>\n",
       "      <td>-0.090418</td>\n",
       "      <td>-0.155377</td>\n",
       "      <td>0.031720</td>\n",
       "      <td>-0.072740</td>\n",
       "      <td>0.057172</td>\n",
       "      <td>...</td>\n",
       "      <td>-0.011263</td>\n",
       "      <td>-0.067440</td>\n",
       "      <td>0.133900</td>\n",
       "      <td>0.075351</td>\n",
       "      <td>7.284927</td>\n",
       "      <td>-0.043216</td>\n",
       "      <td>-0.060985</td>\n",
       "      <td>0.051923</td>\n",
       "      <td>0.072194</td>\n",
       "      <td>-0.093588</td>\n",
       "    </tr>\n",
       "    <tr>\n",
       "      <th>1</th>\n",
       "      <td>-0.072983</td>\n",
       "      <td>0.092382</td>\n",
       "      <td>0.122223</td>\n",
       "      <td>-0.000840</td>\n",
       "      <td>-0.011279</td>\n",
       "      <td>-0.036561</td>\n",
       "      <td>-0.211370</td>\n",
       "      <td>0.213608</td>\n",
       "      <td>-0.029383</td>\n",
       "      <td>-0.001669</td>\n",
       "      <td>...</td>\n",
       "      <td>-0.055081</td>\n",
       "      <td>-0.099263</td>\n",
       "      <td>0.031514</td>\n",
       "      <td>0.024443</td>\n",
       "      <td>8.590090</td>\n",
       "      <td>-0.004976</td>\n",
       "      <td>-0.140389</td>\n",
       "      <td>0.004822</td>\n",
       "      <td>0.113085</td>\n",
       "      <td>-0.165607</td>\n",
       "    </tr>\n",
       "    <tr>\n",
       "      <th>2</th>\n",
       "      <td>0.084605</td>\n",
       "      <td>0.145068</td>\n",
       "      <td>0.148882</td>\n",
       "      <td>-0.108733</td>\n",
       "      <td>-0.030319</td>\n",
       "      <td>-0.047713</td>\n",
       "      <td>-0.108333</td>\n",
       "      <td>0.132884</td>\n",
       "      <td>0.006414</td>\n",
       "      <td>-0.041882</td>\n",
       "      <td>...</td>\n",
       "      <td>0.008371</td>\n",
       "      <td>-0.089158</td>\n",
       "      <td>0.102074</td>\n",
       "      <td>-0.029662</td>\n",
       "      <td>7.415518</td>\n",
       "      <td>-0.006012</td>\n",
       "      <td>-0.143912</td>\n",
       "      <td>0.091870</td>\n",
       "      <td>0.036943</td>\n",
       "      <td>-0.150308</td>\n",
       "    </tr>\n",
       "    <tr>\n",
       "      <th>3</th>\n",
       "      <td>-0.042532</td>\n",
       "      <td>0.165947</td>\n",
       "      <td>0.067873</td>\n",
       "      <td>-0.055657</td>\n",
       "      <td>-0.035505</td>\n",
       "      <td>-0.005426</td>\n",
       "      <td>-0.129993</td>\n",
       "      <td>0.144366</td>\n",
       "      <td>0.046716</td>\n",
       "      <td>0.052954</td>\n",
       "      <td>...</td>\n",
       "      <td>-0.032866</td>\n",
       "      <td>-0.103481</td>\n",
       "      <td>0.036246</td>\n",
       "      <td>0.065566</td>\n",
       "      <td>8.375328</td>\n",
       "      <td>-0.049376</td>\n",
       "      <td>-0.160436</td>\n",
       "      <td>0.033075</td>\n",
       "      <td>0.118897</td>\n",
       "      <td>-0.102193</td>\n",
       "    </tr>\n",
       "    <tr>\n",
       "      <th>4</th>\n",
       "      <td>-0.081893</td>\n",
       "      <td>0.123601</td>\n",
       "      <td>0.034000</td>\n",
       "      <td>0.059948</td>\n",
       "      <td>-0.027083</td>\n",
       "      <td>-0.052535</td>\n",
       "      <td>-0.143534</td>\n",
       "      <td>0.178034</td>\n",
       "      <td>0.028236</td>\n",
       "      <td>0.023101</td>\n",
       "      <td>...</td>\n",
       "      <td>0.005672</td>\n",
       "      <td>-0.073486</td>\n",
       "      <td>0.037134</td>\n",
       "      <td>0.000367</td>\n",
       "      <td>7.541493</td>\n",
       "      <td>-0.016363</td>\n",
       "      <td>-0.113338</td>\n",
       "      <td>-0.010104</td>\n",
       "      <td>0.083707</td>\n",
       "      <td>-0.157772</td>\n",
       "    </tr>\n",
       "    <tr>\n",
       "      <th>...</th>\n",
       "      <td>...</td>\n",
       "      <td>...</td>\n",
       "      <td>...</td>\n",
       "      <td>...</td>\n",
       "      <td>...</td>\n",
       "      <td>...</td>\n",
       "      <td>...</td>\n",
       "      <td>...</td>\n",
       "      <td>...</td>\n",
       "      <td>...</td>\n",
       "      <td>...</td>\n",
       "      <td>...</td>\n",
       "      <td>...</td>\n",
       "      <td>...</td>\n",
       "      <td>...</td>\n",
       "      <td>...</td>\n",
       "      <td>...</td>\n",
       "      <td>...</td>\n",
       "      <td>...</td>\n",
       "      <td>...</td>\n",
       "      <td>...</td>\n",
       "    </tr>\n",
       "    <tr>\n",
       "      <th>18526</th>\n",
       "      <td>0.075627</td>\n",
       "      <td>0.185205</td>\n",
       "      <td>0.171899</td>\n",
       "      <td>0.062908</td>\n",
       "      <td>-0.041227</td>\n",
       "      <td>-0.012296</td>\n",
       "      <td>-0.169170</td>\n",
       "      <td>0.239621</td>\n",
       "      <td>-0.088537</td>\n",
       "      <td>-0.001194</td>\n",
       "      <td>...</td>\n",
       "      <td>-0.106004</td>\n",
       "      <td>-0.073253</td>\n",
       "      <td>0.033067</td>\n",
       "      <td>-0.021470</td>\n",
       "      <td>7.572521</td>\n",
       "      <td>0.026218</td>\n",
       "      <td>-0.105469</td>\n",
       "      <td>0.009417</td>\n",
       "      <td>0.022122</td>\n",
       "      <td>0.041997</td>\n",
       "    </tr>\n",
       "    <tr>\n",
       "      <th>18527</th>\n",
       "      <td>0.087417</td>\n",
       "      <td>0.172155</td>\n",
       "      <td>0.163094</td>\n",
       "      <td>0.079968</td>\n",
       "      <td>-0.040426</td>\n",
       "      <td>-0.000221</td>\n",
       "      <td>-0.179503</td>\n",
       "      <td>0.258937</td>\n",
       "      <td>-0.093168</td>\n",
       "      <td>-0.007724</td>\n",
       "      <td>...</td>\n",
       "      <td>-0.096158</td>\n",
       "      <td>-0.077788</td>\n",
       "      <td>0.024575</td>\n",
       "      <td>-0.014988</td>\n",
       "      <td>7.586502</td>\n",
       "      <td>0.020213</td>\n",
       "      <td>-0.115102</td>\n",
       "      <td>0.011925</td>\n",
       "      <td>0.035421</td>\n",
       "      <td>0.032514</td>\n",
       "    </tr>\n",
       "    <tr>\n",
       "      <th>18528</th>\n",
       "      <td>0.082631</td>\n",
       "      <td>0.218465</td>\n",
       "      <td>0.148989</td>\n",
       "      <td>0.071812</td>\n",
       "      <td>-0.019329</td>\n",
       "      <td>-0.005286</td>\n",
       "      <td>-0.144222</td>\n",
       "      <td>0.188286</td>\n",
       "      <td>-0.065783</td>\n",
       "      <td>0.002197</td>\n",
       "      <td>...</td>\n",
       "      <td>-0.095343</td>\n",
       "      <td>-0.064141</td>\n",
       "      <td>0.038253</td>\n",
       "      <td>0.016892</td>\n",
       "      <td>7.498199</td>\n",
       "      <td>-0.006224</td>\n",
       "      <td>-0.114541</td>\n",
       "      <td>0.012078</td>\n",
       "      <td>0.022069</td>\n",
       "      <td>0.020413</td>\n",
       "    </tr>\n",
       "    <tr>\n",
       "      <th>18529</th>\n",
       "      <td>0.087418</td>\n",
       "      <td>0.199008</td>\n",
       "      <td>0.161765</td>\n",
       "      <td>0.077453</td>\n",
       "      <td>-0.031671</td>\n",
       "      <td>-0.008253</td>\n",
       "      <td>-0.163719</td>\n",
       "      <td>0.224467</td>\n",
       "      <td>-0.088845</td>\n",
       "      <td>-0.011258</td>\n",
       "      <td>...</td>\n",
       "      <td>-0.082750</td>\n",
       "      <td>-0.074574</td>\n",
       "      <td>0.007003</td>\n",
       "      <td>-0.017707</td>\n",
       "      <td>7.626249</td>\n",
       "      <td>0.026787</td>\n",
       "      <td>-0.112106</td>\n",
       "      <td>0.009767</td>\n",
       "      <td>0.007177</td>\n",
       "      <td>0.027618</td>\n",
       "    </tr>\n",
       "    <tr>\n",
       "      <th>18530</th>\n",
       "      <td>0.068626</td>\n",
       "      <td>0.209017</td>\n",
       "      <td>0.144319</td>\n",
       "      <td>0.092215</td>\n",
       "      <td>-0.046840</td>\n",
       "      <td>0.007629</td>\n",
       "      <td>-0.147652</td>\n",
       "      <td>0.214198</td>\n",
       "      <td>-0.094318</td>\n",
       "      <td>0.009638</td>\n",
       "      <td>...</td>\n",
       "      <td>-0.101811</td>\n",
       "      <td>-0.077058</td>\n",
       "      <td>0.014259</td>\n",
       "      <td>-0.013625</td>\n",
       "      <td>7.596364</td>\n",
       "      <td>0.051162</td>\n",
       "      <td>-0.128343</td>\n",
       "      <td>0.015794</td>\n",
       "      <td>0.002132</td>\n",
       "      <td>0.039283</td>\n",
       "    </tr>\n",
       "  </tbody>\n",
       "</table>\n",
       "<p>18531 rows × 1280 columns</p>\n",
       "</div>"
      ],
      "text/plain": [
       "           0         1         2         3         4         5         6     \\\n",
       "0      0.037021  0.124109  0.052654  0.107856  0.026520 -0.090418 -0.155377   \n",
       "1     -0.072983  0.092382  0.122223 -0.000840 -0.011279 -0.036561 -0.211370   \n",
       "2      0.084605  0.145068  0.148882 -0.108733 -0.030319 -0.047713 -0.108333   \n",
       "3     -0.042532  0.165947  0.067873 -0.055657 -0.035505 -0.005426 -0.129993   \n",
       "4     -0.081893  0.123601  0.034000  0.059948 -0.027083 -0.052535 -0.143534   \n",
       "...         ...       ...       ...       ...       ...       ...       ...   \n",
       "18526  0.075627  0.185205  0.171899  0.062908 -0.041227 -0.012296 -0.169170   \n",
       "18527  0.087417  0.172155  0.163094  0.079968 -0.040426 -0.000221 -0.179503   \n",
       "18528  0.082631  0.218465  0.148989  0.071812 -0.019329 -0.005286 -0.144222   \n",
       "18529  0.087418  0.199008  0.161765  0.077453 -0.031671 -0.008253 -0.163719   \n",
       "18530  0.068626  0.209017  0.144319  0.092215 -0.046840  0.007629 -0.147652   \n",
       "\n",
       "           7         8         9     ...      1270      1271      1272  \\\n",
       "0      0.031720 -0.072740  0.057172  ... -0.011263 -0.067440  0.133900   \n",
       "1      0.213608 -0.029383 -0.001669  ... -0.055081 -0.099263  0.031514   \n",
       "2      0.132884  0.006414 -0.041882  ...  0.008371 -0.089158  0.102074   \n",
       "3      0.144366  0.046716  0.052954  ... -0.032866 -0.103481  0.036246   \n",
       "4      0.178034  0.028236  0.023101  ...  0.005672 -0.073486  0.037134   \n",
       "...         ...       ...       ...  ...       ...       ...       ...   \n",
       "18526  0.239621 -0.088537 -0.001194  ... -0.106004 -0.073253  0.033067   \n",
       "18527  0.258937 -0.093168 -0.007724  ... -0.096158 -0.077788  0.024575   \n",
       "18528  0.188286 -0.065783  0.002197  ... -0.095343 -0.064141  0.038253   \n",
       "18529  0.224467 -0.088845 -0.011258  ... -0.082750 -0.074574  0.007003   \n",
       "18530  0.214198 -0.094318  0.009638  ... -0.101811 -0.077058  0.014259   \n",
       "\n",
       "           1273      1274      1275      1276      1277      1278      1279  \n",
       "0      0.075351  7.284927 -0.043216 -0.060985  0.051923  0.072194 -0.093588  \n",
       "1      0.024443  8.590090 -0.004976 -0.140389  0.004822  0.113085 -0.165607  \n",
       "2     -0.029662  7.415518 -0.006012 -0.143912  0.091870  0.036943 -0.150308  \n",
       "3      0.065566  8.375328 -0.049376 -0.160436  0.033075  0.118897 -0.102193  \n",
       "4      0.000367  7.541493 -0.016363 -0.113338 -0.010104  0.083707 -0.157772  \n",
       "...         ...       ...       ...       ...       ...       ...       ...  \n",
       "18526 -0.021470  7.572521  0.026218 -0.105469  0.009417  0.022122  0.041997  \n",
       "18527 -0.014988  7.586502  0.020213 -0.115102  0.011925  0.035421  0.032514  \n",
       "18528  0.016892  7.498199 -0.006224 -0.114541  0.012078  0.022069  0.020413  \n",
       "18529 -0.017707  7.626249  0.026787 -0.112106  0.009767  0.007177  0.027618  \n",
       "18530 -0.013625  7.596364  0.051162 -0.128343  0.015794  0.002132  0.039283  \n",
       "\n",
       "[18531 rows x 1280 columns]"
      ]
     },
     "execution_count": 9,
     "metadata": {},
     "output_type": "execute_result"
    }
   ],
   "source": [
    "embed_df"
   ]
  },
  {
   "cell_type": "code",
   "execution_count": 10,
   "id": "c7c4f9c2",
   "metadata": {},
   "outputs": [],
   "source": [
    "def data_preparation(embedded_sequence,site,metalss):\n",
    "  X=[]\n",
    "  binding_sites=[]\n",
    "  Y=[]\n",
    "\n",
    "  embeds=list(embedded_sequence)\n",
    "  sites=list(site)\n",
    "  metal=list(metalss)\n",
    "\n",
    "  for i in range(len(sites)):\n",
    "\n",
    "    embed=embeds[i]\n",
    "\n",
    "    sitess=[int(j) for j in sites[i].split(',')]\n",
    "\n",
    "    metals=[j.strip() for j in metal[i].split(',')]\n",
    "\n",
    "    X=X+[embed]*len(sitess)\n",
    "    binding_sites=binding_sites+sitess\n",
    "    Y=Y+metals\n",
    "\n",
    "  return pd.DataFrame({'embedding':X, 'site':binding_sites,'metal':Y})"
   ]
  },
  {
   "cell_type": "code",
   "execution_count": 11,
   "id": "83366395",
   "metadata": {},
   "outputs": [
    {
     "data": {
      "text/html": [
       "<div>\n",
       "<style scoped>\n",
       "    .dataframe tbody tr th:only-of-type {\n",
       "        vertical-align: middle;\n",
       "    }\n",
       "\n",
       "    .dataframe tbody tr th {\n",
       "        vertical-align: top;\n",
       "    }\n",
       "\n",
       "    .dataframe thead th {\n",
       "        text-align: right;\n",
       "    }\n",
       "</style>\n",
       "<table border=\"1\" class=\"dataframe\">\n",
       "  <thead>\n",
       "    <tr style=\"text-align: right;\">\n",
       "      <th></th>\n",
       "      <th>embedding</th>\n",
       "      <th>site</th>\n",
       "      <th>metal</th>\n",
       "    </tr>\n",
       "  </thead>\n",
       "  <tbody>\n",
       "    <tr>\n",
       "      <th>0</th>\n",
       "      <td>[0.037021384, 0.12410931, 0.05265385, 0.107855...</td>\n",
       "      <td>1</td>\n",
       "      <td>Zinc 1</td>\n",
       "    </tr>\n",
       "    <tr>\n",
       "      <th>1</th>\n",
       "      <td>[0.037021384, 0.12410931, 0.05265385, 0.107855...</td>\n",
       "      <td>2</td>\n",
       "      <td>Zinc 1</td>\n",
       "    </tr>\n",
       "    <tr>\n",
       "      <th>2</th>\n",
       "      <td>[0.037021384, 0.12410931, 0.05265385, 0.107855...</td>\n",
       "      <td>3</td>\n",
       "      <td>Zinc 2</td>\n",
       "    </tr>\n",
       "    <tr>\n",
       "      <th>3</th>\n",
       "      <td>[0.037021384, 0.12410931, 0.05265385, 0.107855...</td>\n",
       "      <td>4</td>\n",
       "      <td>Zinc 1</td>\n",
       "    </tr>\n",
       "    <tr>\n",
       "      <th>4</th>\n",
       "      <td>[0.037021384, 0.12410931, 0.05265385, 0.107855...</td>\n",
       "      <td>5</td>\n",
       "      <td>Zinc 2</td>\n",
       "    </tr>\n",
       "    <tr>\n",
       "      <th>5</th>\n",
       "      <td>[0.037021384, 0.12410931, 0.05265385, 0.107855...</td>\n",
       "      <td>6</td>\n",
       "      <td>Zinc 2</td>\n",
       "    </tr>\n",
       "    <tr>\n",
       "      <th>6</th>\n",
       "      <td>[-0.072982505, 0.09238166, 0.12222278, -0.0008...</td>\n",
       "      <td>89</td>\n",
       "      <td>Calcium 3</td>\n",
       "    </tr>\n",
       "    <tr>\n",
       "      <th>7</th>\n",
       "      <td>[-0.072982505, 0.09238166, 0.12222278, -0.0008...</td>\n",
       "      <td>91</td>\n",
       "      <td>Calcium 3</td>\n",
       "    </tr>\n",
       "    <tr>\n",
       "      <th>8</th>\n",
       "      <td>[-0.072982505, 0.09238166, 0.12222278, -0.0008...</td>\n",
       "      <td>96</td>\n",
       "      <td>Calcium 3</td>\n",
       "    </tr>\n",
       "    <tr>\n",
       "      <th>9</th>\n",
       "      <td>[-0.072982505, 0.09238166, 0.12222278, -0.0008...</td>\n",
       "      <td>175</td>\n",
       "      <td>Calcium 3</td>\n",
       "    </tr>\n",
       "  </tbody>\n",
       "</table>\n",
       "</div>"
      ],
      "text/plain": [
       "                                           embedding  site      metal\n",
       "0  [0.037021384, 0.12410931, 0.05265385, 0.107855...     1     Zinc 1\n",
       "1  [0.037021384, 0.12410931, 0.05265385, 0.107855...     2     Zinc 1\n",
       "2  [0.037021384, 0.12410931, 0.05265385, 0.107855...     3     Zinc 2\n",
       "3  [0.037021384, 0.12410931, 0.05265385, 0.107855...     4     Zinc 1\n",
       "4  [0.037021384, 0.12410931, 0.05265385, 0.107855...     5     Zinc 2\n",
       "5  [0.037021384, 0.12410931, 0.05265385, 0.107855...     6     Zinc 2\n",
       "6  [-0.072982505, 0.09238166, 0.12222278, -0.0008...    89  Calcium 3\n",
       "7  [-0.072982505, 0.09238166, 0.12222278, -0.0008...    91  Calcium 3\n",
       "8  [-0.072982505, 0.09238166, 0.12222278, -0.0008...    96  Calcium 3\n",
       "9  [-0.072982505, 0.09238166, 0.12222278, -0.0008...   175  Calcium 3"
      ]
     },
     "execution_count": 11,
     "metadata": {},
     "output_type": "execute_result"
    }
   ],
   "source": [
    "embedding_df=data_preparation(embedding,final_df['SITES'],final_df['METAL'])\n",
    "embedding_df.head(10)"
   ]
  },
  {
   "cell_type": "code",
   "execution_count": 12,
   "id": "12b3cf4f",
   "metadata": {},
   "outputs": [
    {
     "data": {
      "text/plain": [
       "str"
      ]
     },
     "execution_count": 12,
     "metadata": {},
     "output_type": "execute_result"
    }
   ],
   "source": [
    "type(embedding_df['metal'][0])"
   ]
  },
  {
   "cell_type": "code",
   "execution_count": 13,
   "id": "3e5478c2",
   "metadata": {},
   "outputs": [],
   "source": [
    "#regex module\n",
    "import re\n",
    "metal_list=[]\n",
    "#original string\n",
    "#string1 = \"Hello!James12,India2020\"\n",
    "for i in embedding_df['metal']:\n",
    "    \n",
    "    pattern = r'[0-9]'\n",
    "\n",
    "# Match all digits in the string and replace them with an empty string\n",
    "    new_string=re.sub(pattern, '',i)\n",
    "    metal_list.append(new_string)\n",
    "#print(new_string)"
   ]
  },
  {
   "cell_type": "code",
   "execution_count": 14,
   "id": "7a4cd920",
   "metadata": {},
   "outputs": [
    {
     "data": {
      "text/plain": [
       "0              Zinc 1\n",
       "1              Zinc 1\n",
       "2              Zinc 2\n",
       "3              Zinc 1\n",
       "4              Zinc 2\n",
       "             ...     \n",
       "126544    Magnesium 1\n",
       "126545    Magnesium 2\n",
       "126546    Magnesium 1\n",
       "126547    Magnesium 2\n",
       "126548    Magnesium 2\n",
       "Name: metal, Length: 126549, dtype: object"
      ]
     },
     "execution_count": 14,
     "metadata": {},
     "output_type": "execute_result"
    }
   ],
   "source": [
    "embedding_df['metal']"
   ]
  },
  {
   "cell_type": "code",
   "execution_count": 15,
   "id": "4f7cc38c",
   "metadata": {},
   "outputs": [
    {
     "data": {
      "text/plain": [
       "11"
      ]
     },
     "execution_count": 15,
     "metadata": {},
     "output_type": "execute_result"
    }
   ],
   "source": [
    "len(set(metal_list))"
   ]
  },
  {
   "cell_type": "code",
   "execution_count": 16,
   "id": "0b58b45f",
   "metadata": {},
   "outputs": [
    {
     "data": {
      "text/plain": [
       "(126549, 3)"
      ]
     },
     "execution_count": 16,
     "metadata": {},
     "output_type": "execute_result"
    }
   ],
   "source": [
    "embedding_df.shape"
   ]
  },
  {
   "cell_type": "code",
   "execution_count": 17,
   "id": "47902295",
   "metadata": {},
   "outputs": [],
   "source": [
    "def position_embeddings(max_binding_position, d=1280, n=10000):\n",
    "    P = np.zeros((max_binding_position, d))\n",
    "\n",
    "    for k in range(max_binding_position):\n",
    "        for i in np.arange(int(d/2)):\n",
    "            denominator = np.power(n, 2*i/d)\n",
    "            P[k, 2*i] = np.sin(k/denominator)\n",
    "            P[k, 2*i+1] = np.cos(k/denominator)\n",
    "    return P"
   ]
  },
  {
   "cell_type": "code",
   "execution_count": 18,
   "id": "9d136a47",
   "metadata": {},
   "outputs": [
    {
     "data": {
      "text/plain": [
       "963"
      ]
     },
     "execution_count": 18,
     "metadata": {},
     "output_type": "execute_result"
    }
   ],
   "source": [
    "max(embedding_df.site)"
   ]
  },
  {
   "cell_type": "code",
   "execution_count": 19,
   "id": "fc9dd9e7",
   "metadata": {},
   "outputs": [],
   "source": [
    "max_binding_site=max(embedding_df.site)+1\n",
    "pos_encodings=position_embeddings(max_binding_site)"
   ]
  },
  {
   "cell_type": "code",
   "execution_count": 20,
   "id": "998249be",
   "metadata": {},
   "outputs": [
    {
     "data": {
      "text/plain": [
       "(964, 1280)"
      ]
     },
     "execution_count": 20,
     "metadata": {},
     "output_type": "execute_result"
    }
   ],
   "source": [
    "pos_encodings.shape"
   ]
  },
  {
   "cell_type": "code",
   "execution_count": 21,
   "id": "98027401",
   "metadata": {},
   "outputs": [],
   "source": [
    "embedding_df['metal_list']=metal_list\n",
    "X_X=list(embedding_df.embedding)\n",
    "Y=list(embedding_df.metal_list)\n",
    "labels=list(set(metal_list))"
   ]
  },
  {
   "cell_type": "code",
   "execution_count": 22,
   "id": "950a0ba5",
   "metadata": {},
   "outputs": [
    {
     "data": {
      "text/plain": [
       "11"
      ]
     },
     "execution_count": 22,
     "metadata": {},
     "output_type": "execute_result"
    }
   ],
   "source": [
    "n_labels=len(labels)\n",
    "n_labels"
   ]
  },
  {
   "cell_type": "code",
   "execution_count": null,
   "id": "9e12cba4",
   "metadata": {},
   "outputs": [],
   "source": []
  },
  {
   "cell_type": "code",
   "execution_count": null,
   "id": "98a6303b",
   "metadata": {},
   "outputs": [],
   "source": []
  },
  {
   "cell_type": "code",
   "execution_count": 23,
   "id": "bca58bdd",
   "metadata": {},
   "outputs": [
    {
     "data": {
      "text/plain": [
       "126549"
      ]
     },
     "execution_count": 23,
     "metadata": {},
     "output_type": "execute_result"
    }
   ],
   "source": [
    "X_X=list(embedding_df.embedding)\n",
    "X_site=list(embedding_df.site)\n",
    "X_site=list(map(lambda x: pos_encodings[x, :], X_site))\n",
    "X_and_site=[x+s for x,s in zip(X_X, X_site)]\n",
    "len(X_and_site)"
   ]
  },
  {
   "cell_type": "code",
   "execution_count": 24,
   "id": "2eb0caac",
   "metadata": {},
   "outputs": [
    {
     "data": {
      "text/plain": [
       "1280"
      ]
     },
     "execution_count": 24,
     "metadata": {},
     "output_type": "execute_result"
    }
   ],
   "source": [
    "len(X_and_site[0])"
   ]
  },
  {
   "cell_type": "code",
   "execution_count": 25,
   "id": "f7e6ea16",
   "metadata": {},
   "outputs": [],
   "source": [
    "# Loading general data science packages\n",
    "import pandas as pd\n",
    "import numpy as np\n",
    "\n",
    "# For visualization support,we will load matplotlib\n",
    "import matplotlib.pyplot as plt\n",
    "import matplotlib.ticker as ticker\n",
    "import seaborn as sns\n",
    "%matplotlib inline\n",
    "\n",
    "# package for random choice generation\n",
    "import random\n",
    "from random import sample\n",
    "\n"
   ]
  },
  {
   "cell_type": "code",
   "execution_count": 26,
   "id": "eb84284f",
   "metadata": {},
   "outputs": [
    {
     "data": {
      "image/png": "[encoded data removed]",
      "text/plain": [
       "<Figure size 864x288 with 1 Axes>"
      ]
     },
     "metadata": {
      "needs_background": "light"
     },
     "output_type": "display_data"
    }
   ],
   "source": [
    "cnt_pro = embedding_df['metal_list'].value_counts()\n",
    "plt.figure(figsize=(12,4))\n",
    "#print(cnt_pro)\n",
    "sns.barplot(x=cnt_pro.index, y=cnt_pro.values, alpha=0.8)\n",
    "plt.ylabel('Number of Instances', fontsize=12)\n",
    "plt.xlabel('Metal Ions', fontsize=12)\n",
    "plt.xticks(rotation=90)\n",
    "plt.show();"
   ]
  },
  {
   "cell_type": "code",
   "execution_count": 27,
   "id": "e593b2a5",
   "metadata": {},
   "outputs": [],
   "source": [
    "\n",
    "from sklearn.model_selection import train_test_split\n",
    "from sklearn.linear_model import LogisticRegression\n",
    "from sklearn.metrics import classification_report\n",
    "from sklearn.metrics import confusion_matrix"
   ]
  },
  {
   "cell_type": "code",
   "execution_count": 28,
   "id": "7b00642f",
   "metadata": {},
   "outputs": [],
   "source": [
    "\n",
    "X=X_and_site"
   ]
  },
  {
   "cell_type": "code",
   "execution_count": 29,
   "id": "f03e40e1",
   "metadata": {},
   "outputs": [
    {
     "data": {
      "text/plain": [
       "126549"
      ]
     },
     "execution_count": 29,
     "metadata": {},
     "output_type": "execute_result"
    }
   ],
   "source": [
    "\n",
    "len(X)\n",
    "     "
   ]
  },
  {
   "cell_type": "code",
   "execution_count": 30,
   "id": "dc4ed828",
   "metadata": {},
   "outputs": [],
   "source": [
    "X=np.array(X)"
   ]
  },
  {
   "cell_type": "code",
   "execution_count": 31,
   "id": "9253781d",
   "metadata": {},
   "outputs": [],
   "source": [
    "Y=np.array(Y)"
   ]
  },
  {
   "cell_type": "code",
   "execution_count": 32,
   "id": "149ca132",
   "metadata": {},
   "outputs": [
    {
     "data": {
      "text/plain": [
       "1280"
      ]
     },
     "execution_count": 32,
     "metadata": {},
     "output_type": "execute_result"
    }
   ],
   "source": [
    "X.shape[1]"
   ]
  },
  {
   "cell_type": "code",
   "execution_count": 33,
   "id": "08ffeb8a",
   "metadata": {},
   "outputs": [
    {
     "name": "stdout",
     "output_type": "stream",
     "text": [
      "['cadmium' 'calcium' 'cobalt' 'copper' 'iron' 'magnesium' 'manganese'\n",
      " 'nickel' 'potassium' 'sodium' 'zinc']\n"
     ]
    }
   ],
   "source": [
    "from sklearn.feature_extraction.text import TfidfVectorizer\n",
    "vectorizer=TfidfVectorizer()\n",
    "encoded_metal=vectorizer.fit_transform(Y)\n",
    "print(vectorizer.get_feature_names_out())"
   ]
  },
  {
   "cell_type": "code",
   "execution_count": 35,
   "id": "0f70127e",
   "metadata": {},
   "outputs": [
    {
     "data": {
      "text/plain": [
       "array([[0., 0., 0., 0., 0., 0., 0., 0., 0., 0., 1.]])"
      ]
     },
     "execution_count": 35,
     "metadata": {},
     "output_type": "execute_result"
    }
   ],
   "source": [
    "encoded_metal[0].toarray()"
   ]
  },
  {
   "cell_type": "code",
   "execution_count": null,
   "id": "e1f52202",
   "metadata": {},
   "outputs": [],
   "source": [
    "\n",
    "x_train, x_test, y_train, y_test=train_test_split(X,Y, test_size=0.2, random_state=120, stratify=Y)"
   ]
  },
  {
   "cell_type": "code",
   "execution_count": null,
   "id": "d408cb39",
   "metadata": {},
   "outputs": [],
   "source": [
    "\n",
    "# model=LogisticRegression(penalty='l2', max_iter=300)\n",
    "# model.fit(x_train, y_train)"
   ]
  },
  {
   "cell_type": "code",
   "execution_count": null,
   "id": "9129489c",
   "metadata": {},
   "outputs": [],
   "source": [
    "\n",
    "cr=classification_report(model.predict(x_test), y_test)\n",
    "print(cr)"
   ]
  },
  {
   "cell_type": "code",
   "execution_count": null,
   "id": "652a4209",
   "metadata": {},
   "outputs": [],
   "source": [
    "\n",
    "m=confusion_matrix(y_test, model.predict(x_test))"
   ]
  },
  {
   "cell_type": "code",
   "execution_count": null,
   "id": "595c006c",
   "metadata": {},
   "outputs": [],
   "source": [
    "!pip install matplotlib"
   ]
  },
  {
   "cell_type": "code",
   "execution_count": null,
   "id": "d4a14a1c",
   "metadata": {},
   "outputs": [],
   "source": [
    "\n",
    "import matplotlib.pyplot as plt\n",
    "def plot_confusion(confusion_mat, unique_labels):\n",
    "\n",
    "  fig=plt.figure()\n",
    "  ax=fig.add_subplot(111)\n",
    "  cax=ax.matshow(confusion_mat)\n",
    "  fig.colorbar(cax)\n",
    "\n",
    "  ax.set_xticklabels(['']+unique_labels, rotation=90)\n",
    "  ax.set_yticklabels(['']+unique_labels)\n",
    "\n",
    "  ax.xaxis.set_major_locator(ticker.MultipleLocator(1))\n",
    "  ax.yaxis.set_major_locator(ticker.MultipleLocator(1))\n",
    "\n",
    "  plt.show()\n",
    "     "
   ]
  },
  {
   "cell_type": "code",
   "execution_count": null,
   "id": "6eae72c9",
   "metadata": {},
   "outputs": [],
   "source": [
    "\n",
    "plot_confusion(m, unique_labels=labels)"
   ]
  },
  {
   "cell_type": "code",
   "execution_count": null,
   "id": "5ea1c9ae",
   "metadata": {
    "scrolled": false
   },
   "outputs": [],
   "source": [
    "# mlp for multi-label classification\n",
    "from numpy import mean\n",
    "from numpy import std\n",
    "import tensorflow as tf\n",
    "from sklearn.model_selection import RepeatedKFold\n",
    "from tensorflow.keras.models import Sequential\n",
    "from tensorflow.keras.layers import Dense,Dropout\n",
    "from sklearn.metrics import accuracy_score\n",
    "from sklearn.model_selection import StratifiedKFold\n",
    "from sklearn.metrics import classification_report\n",
    "from sklearn.metrics import multilabel_confusion_matrix\n",
    "from sklearn.metrics import precision_recall_curve, roc_curve\n",
    "\n",
    "# configuration = tf.compat.v1.ConfigProto()\n",
    "# configuration.gpu_options.allow_growth = True\n",
    "# session = tf.compat.v1.Session(config=configuration)\n",
    " \n",
    "# get the model\n",
    "def get_model(n_inputs, n_outputs):\n",
    "\tmodel = Sequential()\n",
    "\tmodel.add(Dense(500, input_dim=n_inputs, kernel_initializer='he_uniform', activation='relu'))\n",
    "\tmodel.add(Dropout(0.2)) \n",
    "\tmodel.add(Dense(300, activation='relu'))\n",
    "\tmodel.add(Dropout(0.2))\n",
    "\tmodel.add(Dense(100, activation='relu'))\n",
    "\tmodel.add(Dense(n_outputs, activation='sigmoid'))\n",
    "\tmodel.compile(loss='binary_crossentropy', optimizer='adam',metrics=['accuracy'])\n",
    "\treturn model\n",
    " \n",
    "# evaluate a model using repeated k-fold cross-validation\n",
    "def evaluate_model(X, y):\n",
    "\tresults = list()\n",
    "\tn_inputs, n_outputs = X.shape[1], y.shape[1]\n",
    "\t# define evaluation procedure\n",
    "\t#cv = RepeatedKFold(n_splits=10, n_repeats=3, random_state=1)\n",
    "\tskf = StratifiedKFold(n_splits=10)\n",
    "\t# enumerate folds\n",
    "\tfor train_ix, test_ix in skf.split(X,np.zeros(shape=(X.shape[0], 1))):\n",
    "\t\t# prepare data\n",
    "\t\tX_train, X_test = X[train_ix], X[test_ix]\n",
    "\t\ty_train, y_test = y[train_ix], y[test_ix]\n",
    "\t\t#print(y_test)\n",
    "\t\tmodel = get_model(n_inputs, n_outputs)\n",
    "\t\t# fit model\n",
    "\t\thistory=model.fit(X_train, y_train,validation_split=0.2, verbose=0, epochs=200, batch_size=16)\n",
    "\t\tmodel.save(\"ESM_Positional_encoding.h5\")\n",
    "\t\tplt.plot(history.history['accuracy'])\n",
    "\t\tplt.plot(history.history['val_accuracy'])\n",
    "\t\tplt.title('model accuracy')\n",
    "\t\tplt.ylabel('accuracy')\n",
    "\t\tplt.xlabel('epoch')\n",
    "\t\tplt.legend(['train', 'validation'], loc='lower right')\n",
    "\t\tplt.show()\n",
    "\t\t# summarize history for loss\n",
    "\t\tplt.plot(history.history['loss'])\n",
    "\t\tplt.plot(history.history['val_loss'])\n",
    "\t\tplt.title('model loss')\n",
    "\t\tplt.ylabel('loss')\n",
    "\t\tplt.xlabel('epoch')\n",
    "\t\tplt.legend(['train', 'validation'], loc='upper left')\n",
    "\t\tplt.show()\n",
    "\t\tyhat = model.predict(X_test)\n",
    "\t\t# round probabilities to class labels\n",
    "\t\tyhat = yhat.round()\n",
    "\t\t#print(yhat)\n",
    "\t\t#print(multilabel_confusion_matrix(y_test, yhat))\n",
    "\t\tacc = accuracy_score(y_test, yhat)\n",
    "\t\tprint(classification_report(y_test, yhat))\n",
    "\t\t# precision recall curve\n",
    "# \t\tprecision = dict()\n",
    "# \t\trecall = dict()\n",
    "# \t\tfor i in range(11):\n",
    "# \t\t\tprecision[i], recall[i], _ = precision_recall_curve(y_test[:, i],\n",
    "#                                                         yhat[:, i])\n",
    "# \t\t\tplt.plot(recall[i], lw=2, label='class {}'.format(i))    \n",
    "# \t\tplt.xlabel(\"recall\")\n",
    "# \t\t#plt.ylabel(\"precision\")\n",
    "# \t\tplt.legend(loc=\"best\")\n",
    "# \t\tplt.title(\"precision vs. recall curve\")\n",
    "# \t\tplt.show()\n",
    "\t\t# store result\n",
    "\t\tprint('Accuracy is: >%.3f' % acc)\n",
    "\t\tresults.append(acc)\n",
    "\treturn results\n",
    " \n",
    "# load dataset\n",
    "\n",
    "# evaluate model\n",
    "results = evaluate_model(np.array(X).astype(np.uint8), encoded_metal.toarray().astype(np.uint8))\n",
    "# summarize performance\n",
    "print('Accuracy: %.3f (%.3f)' % (mean(results), std(results)))"
   ]
  },
  {
   "cell_type": "code",
   "execution_count": null,
   "id": "76f54e95",
   "metadata": {},
   "outputs": [],
   "source": []
  }
 ],
 "metadata": {
  "kernelspec": {
   "display_name": "Python 3 (ipykernel)",
   "language": "python",
   "name": "python3"
  },
  "language_info": {
   "codemirror_mode": {
    "name": "ipython",
    "version": 3
   },
   "file_extension": ".py",
   "mimetype": "text/x-python",
   "name": "python",
   "nbconvert_exporter": "python",
   "pygments_lexer": "ipython3",
   "version": "3.9.7"
  }
 },
 "nbformat": 4,
 "nbformat_minor": 5
}
