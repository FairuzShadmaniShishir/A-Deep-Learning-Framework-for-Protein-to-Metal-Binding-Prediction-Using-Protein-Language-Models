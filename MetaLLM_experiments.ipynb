{
 "cells": [
  {
   "cell_type": "code",
   "execution_count": 1,
   "id": "dbd133ad",
   "metadata": {},
   "outputs": [],
   "source": [
    "\n",
    "#import libraries\n",
    "import pandas as pd\n",
    "import numpy as np"
   ]
  },
  {
   "cell_type": "code",
   "execution_count": 2,
   "id": "40a5abcd",
   "metadata": {},
   "outputs": [],
   "source": [
    "#import the dataset\n",
    "df=pd.read_csv('metal_binding_data.csv')"
   ]
  },
  {
   "cell_type": "code",
   "execution_count": 3,
   "id": "acccd813",
   "metadata": {},
   "outputs": [
    {
     "data": {
      "text/html": [
       "<div>\n",
       "<style scoped>\n",
       "    .dataframe tbody tr th:only-of-type {\n",
       "        vertical-align: middle;\n",
       "    }\n",
       "\n",
       "    .dataframe tbody tr th {\n",
       "        vertical-align: top;\n",
       "    }\n",
       "\n",
       "    .dataframe thead th {\n",
       "        text-align: right;\n",
       "    }\n",
       "</style>\n",
       "<table border=\"1\" class=\"dataframe\">\n",
       "  <thead>\n",
       "    <tr style=\"text-align: right;\">\n",
       "      <th></th>\n",
       "      <th>Unnamed: 0</th>\n",
       "      <th>PID</th>\n",
       "      <th>SEQUENCE</th>\n",
       "      <th>SITES</th>\n",
       "      <th>METAL</th>\n",
       "    </tr>\n",
       "  </thead>\n",
       "  <tbody>\n",
       "    <tr>\n",
       "      <th>0</th>\n",
       "      <td>0</td>\n",
       "      <td>C7C422</td>\n",
       "      <td>MELPNIMHPVAKLSTALAAALMLSGCMPGEIRPTIGQQMETGDQRF...</td>\n",
       "      <td>1,2,3,4,5,6</td>\n",
       "      <td>Zinc 1,Zinc 1,Zinc 2,Zinc 1,Zinc 2,Zinc 2</td>\n",
       "    </tr>\n",
       "    <tr>\n",
       "      <th>1</th>\n",
       "      <td>1</td>\n",
       "      <td>Q07009</td>\n",
       "      <td>MAGIAMKLAKDREAAEGLGSHERAIKYLNQDYETLRNECLEAGALF...</td>\n",
       "      <td>89,91,96,175,229,230,292,299,319,323,542,545,5...</td>\n",
       "      <td>Calcium 3,Calcium 3,Calcium 3,Calcium 3,Calciu...</td>\n",
       "    </tr>\n",
       "    <tr>\n",
       "      <th>2</th>\n",
       "      <td>2</td>\n",
       "      <td>P09871</td>\n",
       "      <td>MWCIVLFSLLAWVYAEPTMYGEILSPNYPQAYPSEVEKSWDIEVPE...</td>\n",
       "      <td>NaN</td>\n",
       "      <td>NaN</td>\n",
       "    </tr>\n",
       "    <tr>\n",
       "      <th>3</th>\n",
       "      <td>3</td>\n",
       "      <td>P00917</td>\n",
       "      <td>MAHSDWGYDSPNGPZEWVKLYPIANGNNQSPIDIKTSETKHDTSLK...</td>\n",
       "      <td>95,97,120</td>\n",
       "      <td>Zinc 1,Zinc 1,Zinc 1</td>\n",
       "    </tr>\n",
       "    <tr>\n",
       "      <th>4</th>\n",
       "      <td>4</td>\n",
       "      <td>Q9ULX7</td>\n",
       "      <td>MLFSALLLEVIWILAADGGQHWTYEGPHGQDHWPASYPECGNNAQS...</td>\n",
       "      <td>NaN</td>\n",
       "      <td>NaN</td>\n",
       "    </tr>\n",
       "  </tbody>\n",
       "</table>\n",
       "</div>"
      ],
      "text/plain": [
       "   Unnamed: 0     PID                                           SEQUENCE  \\\n",
       "0           0  C7C422  MELPNIMHPVAKLSTALAAALMLSGCMPGEIRPTIGQQMETGDQRF...   \n",
       "1           1  Q07009  MAGIAMKLAKDREAAEGLGSHERAIKYLNQDYETLRNECLEAGALF...   \n",
       "2           2  P09871  MWCIVLFSLLAWVYAEPTMYGEILSPNYPQAYPSEVEKSWDIEVPE...   \n",
       "3           3  P00917  MAHSDWGYDSPNGPZEWVKLYPIANGNNQSPIDIKTSETKHDTSLK...   \n",
       "4           4  Q9ULX7  MLFSALLLEVIWILAADGGQHWTYEGPHGQDHWPASYPECGNNAQS...   \n",
       "\n",
       "                                               SITES  \\\n",
       "0                                        1,2,3,4,5,6   \n",
       "1  89,91,96,175,229,230,292,299,319,323,542,545,5...   \n",
       "2                                                NaN   \n",
       "3                                          95,97,120   \n",
       "4                                                NaN   \n",
       "\n",
       "                                               METAL  \n",
       "0          Zinc 1,Zinc 1,Zinc 2,Zinc 1,Zinc 2,Zinc 2  \n",
       "1  Calcium 3,Calcium 3,Calcium 3,Calcium 3,Calciu...  \n",
       "2                                                NaN  \n",
       "3                               Zinc 1,Zinc 1,Zinc 1  \n",
       "4                                                NaN  "
      ]
     },
     "execution_count": 3,
     "metadata": {},
     "output_type": "execute_result"
    }
   ],
   "source": [
    "df.head()"
   ]
  },
  {
   "cell_type": "code",
   "execution_count": 4,
   "id": "675131ac",
   "metadata": {},
   "outputs": [],
   "source": [
    "#Drop Nan values\n",
    "df2=df.dropna(axis=0)"
   ]
  },
  {
   "cell_type": "code",
   "execution_count": 5,
   "id": "90bb2338",
   "metadata": {},
   "outputs": [
    {
     "data": {
      "text/html": [
       "<div>\n",
       "<style scoped>\n",
       "    .dataframe tbody tr th:only-of-type {\n",
       "        vertical-align: middle;\n",
       "    }\n",
       "\n",
       "    .dataframe tbody tr th {\n",
       "        vertical-align: top;\n",
       "    }\n",
       "\n",
       "    .dataframe thead th {\n",
       "        text-align: right;\n",
       "    }\n",
       "</style>\n",
       "<table border=\"1\" class=\"dataframe\">\n",
       "  <thead>\n",
       "    <tr style=\"text-align: right;\">\n",
       "      <th></th>\n",
       "      <th>Unnamed: 0</th>\n",
       "      <th>PID</th>\n",
       "      <th>SEQUENCE</th>\n",
       "      <th>SITES</th>\n",
       "      <th>METAL</th>\n",
       "    </tr>\n",
       "  </thead>\n",
       "  <tbody>\n",
       "    <tr>\n",
       "      <th>0</th>\n",
       "      <td>0</td>\n",
       "      <td>C7C422</td>\n",
       "      <td>MELPNIMHPVAKLSTALAAALMLSGCMPGEIRPTIGQQMETGDQRF...</td>\n",
       "      <td>1,2,3,4,5,6</td>\n",
       "      <td>Zinc 1,Zinc 1,Zinc 2,Zinc 1,Zinc 2,Zinc 2</td>\n",
       "    </tr>\n",
       "    <tr>\n",
       "      <th>1</th>\n",
       "      <td>1</td>\n",
       "      <td>Q07009</td>\n",
       "      <td>MAGIAMKLAKDREAAEGLGSHERAIKYLNQDYETLRNECLEAGALF...</td>\n",
       "      <td>89,91,96,175,229,230,292,299,319,323,542,545,5...</td>\n",
       "      <td>Calcium 3,Calcium 3,Calcium 3,Calcium 3,Calciu...</td>\n",
       "    </tr>\n",
       "    <tr>\n",
       "      <th>3</th>\n",
       "      <td>3</td>\n",
       "      <td>P00917</td>\n",
       "      <td>MAHSDWGYDSPNGPZEWVKLYPIANGNNQSPIDIKTSETKHDTSLK...</td>\n",
       "      <td>95,97,120</td>\n",
       "      <td>Zinc 1,Zinc 1,Zinc 1</td>\n",
       "    </tr>\n",
       "    <tr>\n",
       "      <th>11</th>\n",
       "      <td>11</td>\n",
       "      <td>P51399</td>\n",
       "      <td>MPSYTVTVATGSQWFAGTDDYIYLSLIGSAGCSEKHLLDKAFYNDF...</td>\n",
       "      <td>17,18,19,44,45,47,79,80</td>\n",
       "      <td>Calcium 1,Calcium 2,Calcium 2,Calcium 2,Calciu...</td>\n",
       "    </tr>\n",
       "    <tr>\n",
       "      <th>17</th>\n",
       "      <td>17</td>\n",
       "      <td>P00433</td>\n",
       "      <td>MHFSSSSTLFTCITLIPLVCLILHASLSDAQLTPTFYDNSCPNVSN...</td>\n",
       "      <td>73,76,78,80,82,94,201,252,255,260</td>\n",
       "      <td>Calcium 1,Calcium 1,Calcium 1,Calcium 1,Calciu...</td>\n",
       "    </tr>\n",
       "  </tbody>\n",
       "</table>\n",
       "</div>"
      ],
      "text/plain": [
       "    Unnamed: 0     PID                                           SEQUENCE  \\\n",
       "0            0  C7C422  MELPNIMHPVAKLSTALAAALMLSGCMPGEIRPTIGQQMETGDQRF...   \n",
       "1            1  Q07009  MAGIAMKLAKDREAAEGLGSHERAIKYLNQDYETLRNECLEAGALF...   \n",
       "3            3  P00917  MAHSDWGYDSPNGPZEWVKLYPIANGNNQSPIDIKTSETKHDTSLK...   \n",
       "11          11  P51399  MPSYTVTVATGSQWFAGTDDYIYLSLIGSAGCSEKHLLDKAFYNDF...   \n",
       "17          17  P00433  MHFSSSSTLFTCITLIPLVCLILHASLSDAQLTPTFYDNSCPNVSN...   \n",
       "\n",
       "                                                SITES  \\\n",
       "0                                         1,2,3,4,5,6   \n",
       "1   89,91,96,175,229,230,292,299,319,323,542,545,5...   \n",
       "3                                           95,97,120   \n",
       "11                            17,18,19,44,45,47,79,80   \n",
       "17                  73,76,78,80,82,94,201,252,255,260   \n",
       "\n",
       "                                                METAL  \n",
       "0           Zinc 1,Zinc 1,Zinc 2,Zinc 1,Zinc 2,Zinc 2  \n",
       "1   Calcium 3,Calcium 3,Calcium 3,Calcium 3,Calciu...  \n",
       "3                                Zinc 1,Zinc 1,Zinc 1  \n",
       "11  Calcium 1,Calcium 2,Calcium 2,Calcium 2,Calciu...  \n",
       "17  Calcium 1,Calcium 1,Calcium 1,Calcium 1,Calciu...  "
      ]
     },
     "execution_count": 5,
     "metadata": {},
     "output_type": "execute_result"
    }
   ],
   "source": [
    "#Consider the protein sequence between 50 to 1000\n",
    "df2[(df2['SEQUENCE'].str.len()>50) & (df2['SEQUENCE'].str.len()<1000)].head()"
   ]
  },
  {
   "cell_type": "code",
   "execution_count": 6,
   "id": "0344f891",
   "metadata": {},
   "outputs": [],
   "source": [
    "final_sequence=df2[(df2['SEQUENCE'].str.len()>50) & (df2['SEQUENCE'].str.len()<1000)]['SEQUENCE']"
   ]
  },
  {
   "cell_type": "code",
   "execution_count": 7,
   "id": "08a60179",
   "metadata": {},
   "outputs": [
    {
     "data": {
      "text/plain": [
       "(18531,)"
      ]
     },
     "execution_count": 7,
     "metadata": {},
     "output_type": "execute_result"
    }
   ],
   "source": [
    "final_sequence.shape"
   ]
  },
  {
   "cell_type": "code",
   "execution_count": 8,
   "id": "f883ed9a",
   "metadata": {},
   "outputs": [
    {
     "name": "stdout",
     "output_type": "stream",
     "text": [
      "['cadmium' 'calcium' 'cobalt' 'copper' 'iron' 'magnesium' 'manganese'\n",
      " 'nickel' 'potassium' 'sodium' 'zinc']\n"
     ]
    }
   ],
   "source": [
    "from sklearn.feature_extraction.text import TfidfVectorizer\n",
    "vectorizer=TfidfVectorizer()\n",
    "encoded_metal=vectorizer.fit_transform(df2[(df2['SEQUENCE'].str.len()>50) & (df2['SEQUENCE'].str.len()<1000)]['METAL'])\n",
    "print(vectorizer.get_feature_names_out())"
   ]
  },
  {
   "cell_type": "code",
   "execution_count": 9,
   "id": "844c24d2",
   "metadata": {},
   "outputs": [
    {
     "data": {
      "text/plain": [
       "(18531, 11)"
      ]
     },
     "execution_count": 9,
     "metadata": {},
     "output_type": "execute_result"
    }
   ],
   "source": [
    "encoded_metal.shape"
   ]
  },
  {
   "cell_type": "code",
   "execution_count": 10,
   "id": "9daf2dc3",
   "metadata": {},
   "outputs": [
    {
     "data": {
      "text/plain": [
       "array([[0., 0., 0., ..., 0., 0., 1.],\n",
       "       [0., 1., 0., ..., 0., 0., 0.],\n",
       "       [0., 0., 0., ..., 0., 0., 1.],\n",
       "       ...,\n",
       "       [0., 0., 0., ..., 0., 0., 0.],\n",
       "       [0., 0., 0., ..., 0., 0., 0.],\n",
       "       [0., 0., 0., ..., 0., 0., 0.]])"
      ]
     },
     "execution_count": 10,
     "metadata": {},
     "output_type": "execute_result"
    }
   ],
   "source": [
    "encoded_metal.toarray()"
   ]
  },
  {
   "cell_type": "code",
   "execution_count": 11,
   "id": "091ddd49",
   "metadata": {},
   "outputs": [],
   "source": [
    "#vectorizer.get_feature_names()[0]=='cadmium'"
   ]
  },
  {
   "cell_type": "code",
   "execution_count": 12,
   "id": "b12be6ee",
   "metadata": {},
   "outputs": [],
   "source": [
    "#metals=vectorizer.get_feature_names()"
   ]
  },
  {
   "cell_type": "code",
   "execution_count": 13,
   "id": "6bbbad12",
   "metadata": {},
   "outputs": [],
   "source": [
    "#type(metals[0])"
   ]
  },
  {
   "cell_type": "code",
   "execution_count": 14,
   "id": "1ba0f6b0",
   "metadata": {},
   "outputs": [],
   "source": [
    "metals_list=['calcium','copper','iron','magnesium','manganese','zinc']\n",
    "values=[1812,213,2743,5557,2491,5532]"
   ]
  },
  {
   "cell_type": "code",
   "execution_count": 15,
   "id": "fb9efeba",
   "metadata": {},
   "outputs": [
    {
     "data": {
      "image/png": "[encoded data removed]",
      "text/plain": [
       "<Figure size 600x375 with 1 Axes>"
      ]
     },
     "metadata": {
      "needs_background": "light"
     },
     "output_type": "display_data"
    }
   ],
   "source": [
    "import seaborn as sns\n",
    "from matplotlib import pyplot as plt\n",
    "%matplotlib inline\n",
    "plt.figure(figsize=(8,5),dpi=75)\n",
    "ax=sns.barplot(x=metals_list,y=values)\n",
    "ax.set_title(\"Sample Distribution of the Metals \")\n",
    "ax.set_ylabel(\"Number of samples\")\n",
    "#ax.set_xlabel(\"Number of samples\")\n",
    "plt.show()"
   ]
  },
  {
   "cell_type": "code",
   "execution_count": 16,
   "id": "d30594ec",
   "metadata": {},
   "outputs": [],
   "source": [
    "#encoded_metal[:5000].toarray()"
   ]
  },
  {
   "cell_type": "code",
   "execution_count": 16,
   "id": "275d7ad2",
   "metadata": {},
   "outputs": [],
   "source": [
    "#print(np.count_nonzero(encoded_metal.toarray() > 0, axis=0))"
   ]
  },
  {
   "cell_type": "code",
   "execution_count": 17,
   "id": "9406b34c",
   "metadata": {},
   "outputs": [],
   "source": [
    "# #!conda install -c conda-forge matplotlib\n",
    "# from matplotlib import pyplot as plt\n",
    "# plt.hist(values)\n",
    "# plt.show()"
   ]
  },
  {
   "cell_type": "code",
   "execution_count": 19,
   "id": "24a1077a",
   "metadata": {},
   "outputs": [],
   "source": [
    "#np.save('5000_metal_emb.npy', encoded_metal[:5000].toarray())"
   ]
  },
  {
   "cell_type": "code",
   "execution_count": 18,
   "id": "be99aa03",
   "metadata": {},
   "outputs": [],
   "source": [
    "#load the embeddings\n",
    "embedded_sequence1=np.load('5000_sequence_emb.npy')\n",
    "embedded_sequence2=np.load('5000_10000sequence.npy')\n",
    "embedded_sequence3=np.load('10000_15000sequence.npy')\n",
    "embedded_sequence4=np.load('15000_18000sequence.npy')"
   ]
  },
  {
   "cell_type": "code",
   "execution_count": 19,
   "id": "1a1d18da",
   "metadata": {},
   "outputs": [],
   "source": [
    "embedded_sequence11=np.vstack((embedded_sequence1, embedded_sequence2))"
   ]
  },
  {
   "cell_type": "code",
   "execution_count": 20,
   "id": "4c1dc39f",
   "metadata": {},
   "outputs": [],
   "source": [
    "embedded_sequence12=np.vstack((embedded_sequence11, embedded_sequence3))"
   ]
  },
  {
   "cell_type": "code",
   "execution_count": 21,
   "id": "a3b89086",
   "metadata": {},
   "outputs": [],
   "source": [
    "embedded_sequence=np.vstack((embedded_sequence12, embedded_sequence4))"
   ]
  },
  {
   "cell_type": "code",
   "execution_count": 22,
   "id": "4a310538",
   "metadata": {},
   "outputs": [
    {
     "data": {
      "text/plain": [
       "(18531, 1024)"
      ]
     },
     "execution_count": 22,
     "metadata": {},
     "output_type": "execute_result"
    }
   ],
   "source": [
    "embedded_sequence.shape"
   ]
  },
  {
   "cell_type": "code",
   "execution_count": 25,
   "id": "cbebae82",
   "metadata": {},
   "outputs": [],
   "source": [
    "# Embedding generation\n",
    "from biotransformers import BioTransformers\n",
    "bio_trans = BioTransformers(backend=\"protbert\")\n",
    "embeddings = bio_trans.compute_embeddings(final_sequence, pool_mode=('cls'),batch_size=64)\n",
    "\n",
    "cls_emb = embeddings['cls']"
   ]
  },
  {
   "cell_type": "code",
   "execution_count": 23,
   "id": "67ed6102",
   "metadata": {},
   "outputs": [],
   "source": [
    "#cls_emb"
   ]
  },
  {
   "cell_type": "code",
   "execution_count": 24,
   "id": "b4b845c3",
   "metadata": {},
   "outputs": [],
   "source": [
    "#np.save('5000_1000_sequence.npy',cls_emb)"
   ]
  },
  {
   "cell_type": "code",
   "execution_count": 25,
   "id": "a6c11933",
   "metadata": {},
   "outputs": [],
   "source": [
    "#np.array(final_site[0].split(','),int)"
   ]
  },
  {
   "cell_type": "code",
   "execution_count": 26,
   "id": "d9dc943c",
   "metadata": {},
   "outputs": [],
   "source": [
    "#embedded_sequence=np.load('5000_sequence_emb.npy')"
   ]
  },
  {
   "cell_type": "code",
   "execution_count": 27,
   "id": "348ffd3d",
   "metadata": {},
   "outputs": [],
   "source": [
    "#embedded_sequence.shape"
   ]
  },
  {
   "cell_type": "code",
   "execution_count": 28,
   "id": "06ea523e",
   "metadata": {},
   "outputs": [],
   "source": [
    "final_site=df2[(df2['SEQUENCE'].str.len()>50) & (df2['SEQUENCE'].str.len()<1000)]['SITES']"
   ]
  },
  {
   "cell_type": "code",
   "execution_count": 29,
   "id": "92316989",
   "metadata": {},
   "outputs": [
    {
     "data": {
      "text/plain": [
       "0                                               1,2,3,4,5,6\n",
       "1         89,91,96,175,229,230,292,299,319,323,542,545,5...\n",
       "3                                                 95,97,120\n",
       "11                                  17,18,19,44,45,47,79,80\n",
       "17                        73,76,78,80,82,94,201,252,255,260\n",
       "                                ...                        \n",
       "101350                               92,114,114,116,117,200\n",
       "101351                               92,114,114,116,117,200\n",
       "101352                               87,106,106,108,109,200\n",
       "101353                               90,112,112,114,115,200\n",
       "101354                               92,115,115,117,118,200\n",
       "Name: SITES, Length: 18531, dtype: object"
      ]
     },
     "execution_count": 29,
     "metadata": {},
     "output_type": "execute_result"
    }
   ],
   "source": [
    "final_site"
   ]
  },
  {
   "cell_type": "code",
   "execution_count": 30,
   "id": "5ef54384",
   "metadata": {},
   "outputs": [],
   "source": [
    "final_site.index=np.arange(18531)"
   ]
  },
  {
   "cell_type": "code",
   "execution_count": 31,
   "id": "55d1e136",
   "metadata": {},
   "outputs": [
    {
     "data": {
      "text/plain": [
       "0                                          1,2,3,4,5,6\n",
       "1    89,91,96,175,229,230,292,299,319,323,542,545,5...\n",
       "2                                            95,97,120\n",
       "3                              17,18,19,44,45,47,79,80\n",
       "4                    73,76,78,80,82,94,201,252,255,260\n",
       "Name: SITES, dtype: object"
      ]
     },
     "execution_count": 31,
     "metadata": {},
     "output_type": "execute_result"
    }
   ],
   "source": [
    "final_site.head()"
   ]
  },
  {
   "cell_type": "code",
   "execution_count": 32,
   "id": "b9355792",
   "metadata": {},
   "outputs": [
    {
     "data": {
      "text/plain": [
       "'1.23.4'"
      ]
     },
     "execution_count": 32,
     "metadata": {},
     "output_type": "execute_result"
    }
   ],
   "source": [
    "np.__version__"
   ]
  },
  {
   "cell_type": "code",
   "execution_count": 36,
   "id": "fe8e1983",
   "metadata": {},
   "outputs": [],
   "source": [
    "#List of the site information\n",
    "li=[]"
   ]
  },
  {
   "cell_type": "code",
   "execution_count": 37,
   "id": "0e58d6a8",
   "metadata": {},
   "outputs": [],
   "source": [
    "for i in range(0,18531):\n",
    "    li.append(np.array(final_site[i].split(','),int))"
   ]
  },
  {
   "cell_type": "code",
   "execution_count": 38,
   "id": "7c90dfe9",
   "metadata": {},
   "outputs": [
    {
     "name": "stderr",
     "output_type": "stream",
     "text": [
      "C:\\Users\\fsshi\\AppData\\Local\\Temp/ipykernel_5816/388172736.py:1: VisibleDeprecationWarning: Creating an ndarray from ragged nested sequences (which is a list-or-tuple of lists-or-tuples-or ndarrays with different lengths or shapes) is deprecated. If you meant to do this, you must specify 'dtype=object' when creating the ndarray.\n",
      "  li=np.array(li)\n"
     ]
    }
   ],
   "source": [
    "li=np.array(li)"
   ]
  },
  {
   "cell_type": "code",
   "execution_count": 39,
   "id": "8d2fefca",
   "metadata": {},
   "outputs": [
    {
     "data": {
      "text/plain": [
       "array([array([1, 2, 3, 4, 5, 6]),\n",
       "       array([ 89,  91,  96, 175, 229, 230, 292, 299, 319, 323, 542, 545, 547,\n",
       "              552, 585, 587, 589, 591, 596, 615, 617, 619, 621, 626, 658, 661]),\n",
       "       array([ 95,  97, 120]), ..., array([ 87, 106, 106, 108, 109, 200]),\n",
       "       array([ 90, 112, 112, 114, 115, 200]),\n",
       "       array([ 92, 115, 115, 117, 118, 200])], dtype=object)"
      ]
     },
     "execution_count": 39,
     "metadata": {},
     "output_type": "execute_result"
    }
   ],
   "source": [
    "li"
   ]
  },
  {
   "cell_type": "code",
   "execution_count": 40,
   "id": "9e7d4ecc",
   "metadata": {},
   "outputs": [
    {
     "data": {
      "text/plain": [
       "numpy.int32"
      ]
     },
     "execution_count": 40,
     "metadata": {},
     "output_type": "execute_result"
    }
   ],
   "source": [
    "type(li[0][0])"
   ]
  },
  {
   "cell_type": "code",
   "execution_count": 41,
   "id": "6b32b666",
   "metadata": {},
   "outputs": [
    {
     "data": {
      "text/plain": [
       "(18531,)"
      ]
     },
     "execution_count": 41,
     "metadata": {},
     "output_type": "execute_result"
    }
   ],
   "source": [
    "li.shape"
   ]
  },
  {
   "cell_type": "code",
   "execution_count": 42,
   "id": "a55bd952",
   "metadata": {},
   "outputs": [],
   "source": [
    "#np.array(final_site[0].split(','),int)"
   ]
  },
  {
   "cell_type": "code",
   "execution_count": null,
   "id": "2d4d996c",
   "metadata": {},
   "outputs": [],
   "source": []
  },
  {
   "cell_type": "code",
   "execution_count": 43,
   "id": "a02f277e",
   "metadata": {},
   "outputs": [],
   "source": [
    "# embeddings and sites array\n",
    "arr=np.zeros((18531,1024))\n",
    "sites=np.zeros((18531,1000))"
   ]
  },
  {
   "cell_type": "code",
   "execution_count": 44,
   "id": "5a5a1815",
   "metadata": {},
   "outputs": [
    {
     "data": {
      "text/plain": [
       "(18531, 1024)"
      ]
     },
     "execution_count": 44,
     "metadata": {},
     "output_type": "execute_result"
    }
   ],
   "source": [
    "arr.shape"
   ]
  },
  {
   "cell_type": "code",
   "execution_count": 45,
   "id": "5eacb7ac",
   "metadata": {},
   "outputs": [
    {
     "data": {
      "text/plain": [
       "'1,2,3,4,5,6'"
      ]
     },
     "execution_count": 45,
     "metadata": {},
     "output_type": "execute_result"
    }
   ],
   "source": [
    "final_site[0]"
   ]
  },
  {
   "cell_type": "code",
   "execution_count": 46,
   "id": "efa5033e",
   "metadata": {},
   "outputs": [],
   "source": [
    "for i in range(0,18531):\n",
    "    for j in li[i]:\n",
    "        arr[i][j]=1"
   ]
  },
  {
   "cell_type": "code",
   "execution_count": 47,
   "id": "c3793982",
   "metadata": {},
   "outputs": [],
   "source": [
    "for i in range(0,18531):\n",
    "    for j in li[i]:\n",
    "        sites[i][j]=1"
   ]
  },
  {
   "cell_type": "code",
   "execution_count": 48,
   "id": "ee974488",
   "metadata": {},
   "outputs": [
    {
     "data": {
      "text/plain": [
       "(18531, 1024)"
      ]
     },
     "execution_count": 48,
     "metadata": {},
     "output_type": "execute_result"
    }
   ],
   "source": [
    "arr.shape"
   ]
  },
  {
   "cell_type": "code",
   "execution_count": 49,
   "id": "394d78c7",
   "metadata": {},
   "outputs": [
    {
     "data": {
      "text/plain": [
       "array([[0., 1., 1., ..., 0., 0., 0.],\n",
       "       [0., 0., 0., ..., 0., 0., 0.],\n",
       "       [0., 0., 0., ..., 0., 0., 0.],\n",
       "       ...,\n",
       "       [0., 0., 0., ..., 0., 0., 0.],\n",
       "       [0., 0., 0., ..., 0., 0., 0.],\n",
       "       [0., 0., 0., ..., 0., 0., 0.]])"
      ]
     },
     "execution_count": 49,
     "metadata": {},
     "output_type": "execute_result"
    }
   ],
   "source": [
    "arr"
   ]
  },
  {
   "cell_type": "code",
   "execution_count": 50,
   "id": "a35b51c5",
   "metadata": {},
   "outputs": [
    {
     "data": {
      "text/plain": [
       "(18531, 1000)"
      ]
     },
     "execution_count": 50,
     "metadata": {},
     "output_type": "execute_result"
    }
   ],
   "source": [
    "sites.shape"
   ]
  },
  {
   "cell_type": "code",
   "execution_count": 51,
   "id": "2db61fba",
   "metadata": {},
   "outputs": [],
   "source": [
    "#np.save('18531_sites_emb.npy', arr)"
   ]
  },
  {
   "cell_type": "code",
   "execution_count": 52,
   "id": "0413b6c9",
   "metadata": {},
   "outputs": [],
   "source": [
    "#concatanate_sequence=np.add(embedded_sequence[:4800],arr[:4800].astype(np.int64),dtype=None)"
   ]
  },
  {
   "cell_type": "code",
   "execution_count": 53,
   "id": "0df6e503",
   "metadata": {},
   "outputs": [],
   "source": [
    "#concatanate_sequence"
   ]
  },
  {
   "cell_type": "code",
   "execution_count": null,
   "id": "62aa920d",
   "metadata": {},
   "outputs": [],
   "source": []
  },
  {
   "cell_type": "code",
   "execution_count": 54,
   "id": "305d8f47",
   "metadata": {},
   "outputs": [],
   "source": [
    "# from tensorflow.keras.models import load_model"
   ]
  },
  {
   "cell_type": "code",
   "execution_count": 55,
   "id": "e92f0e95",
   "metadata": {},
   "outputs": [],
   "source": [
    "#model = load_model('model.h5')"
   ]
  },
  {
   "cell_type": "code",
   "execution_count": 56,
   "id": "53cc408e",
   "metadata": {},
   "outputs": [],
   "source": [
    "#test_data1=np.add(embedded_sequence[4800:5000],arr[4800:5000].astype(np.int64),dtype=None)"
   ]
  },
  {
   "cell_type": "code",
   "execution_count": 57,
   "id": "e07043fa",
   "metadata": {},
   "outputs": [],
   "source": [
    "# yhat = model.predict(test_data1)\n",
    "# yhat = yhat.round()\n",
    "# acc = accuracy_score(embedded_metal[4800:5000].astype(np.int64), yhat)"
   ]
  },
  {
   "cell_type": "code",
   "execution_count": 58,
   "id": "ce9ffa8f",
   "metadata": {},
   "outputs": [],
   "source": [
    "#acc"
   ]
  },
  {
   "cell_type": "code",
   "execution_count": 59,
   "id": "ac82ba3d",
   "metadata": {},
   "outputs": [],
   "source": [
    "#test_data2=np.add(embedded_sequence[4800:5000],arr[4600:4800].astype(np.int64),dtype=None)"
   ]
  },
  {
   "cell_type": "code",
   "execution_count": 60,
   "id": "a4b7297b",
   "metadata": {},
   "outputs": [],
   "source": [
    "# yhat = model.predict(test_data2)\n",
    "# yhat = yhat.round()\n",
    "# acc = accuracy_score(embedded_metal[4800:5000].astype(np.int64), yhat)\n",
    "# print(acc)"
   ]
  },
  {
   "cell_type": "code",
   "execution_count": 61,
   "id": "d1b87a75",
   "metadata": {},
   "outputs": [],
   "source": [
    "# yhat"
   ]
  },
  {
   "cell_type": "code",
   "execution_count": 56,
   "id": "bd6a9fb1",
   "metadata": {},
   "outputs": [],
   "source": [
    "concatanate_sequence_final=np.add(embedded_sequence,arr.astype(np.int64),dtype=None)"
   ]
  },
  {
   "cell_type": "code",
   "execution_count": 57,
   "id": "f785d3ec",
   "metadata": {},
   "outputs": [
    {
     "data": {
      "text/plain": [
       "(18531, 1024)"
      ]
     },
     "execution_count": 57,
     "metadata": {},
     "output_type": "execute_result"
    }
   ],
   "source": [
    "concatanate_sequence_final.shape"
   ]
  },
  {
   "cell_type": "code",
   "execution_count": 58,
   "id": "1c4f9922",
   "metadata": {},
   "outputs": [
    {
     "data": {
      "text/plain": [
       "(18531, 11)"
      ]
     },
     "execution_count": 58,
     "metadata": {},
     "output_type": "execute_result"
    }
   ],
   "source": [
    "encoded_metal.shape"
   ]
  },
  {
   "cell_type": "code",
   "execution_count": null,
   "id": "5fe5e338",
   "metadata": {
    "scrolled": false
   },
   "outputs": [
    {
     "name": "stdout",
     "output_type": "stream",
     "text": [
      "Model: \"model\"\n",
      "__________________________________________________________________________________________________\n",
      "Layer (type)                    Output Shape         Param #     Connected to                     \n",
      "==================================================================================================\n",
      "input_1 (InputLayer)            [(None, 1280)]       0                                            \n",
      "__________________________________________________________________________________________________\n",
      "dense (Dense)                   (None, 500)          640500      input_1[0][0]                    \n",
      "__________________________________________________________________________________________________\n",
      "dense_1 (Dense)                 (None, 300)          150300      dense[0][0]                      \n",
      "__________________________________________________________________________________________________\n",
      "dense_2 (Dense)                 (None, 100)          30100       dense_1[0][0]                    \n",
      "__________________________________________________________________________________________________\n",
      "dense_3 (Dense)                 (None, 11)           1111        dense_2[0][0]                    \n",
      "__________________________________________________________________________________________________\n",
      "dense_4 (Dense)                 (None, 1000)         101000      dense_2[0][0]                    \n",
      "==================================================================================================\n",
      "Total params: 923,011\n",
      "Trainable params: 923,011\n",
      "Non-trainable params: 0\n",
      "__________________________________________________________________________________________________\n",
      "None\n"
     ]
    },
    {
     "data": {
      "image/png": "[encoded data removed]",
      "text/plain": [
       "<Figure size 432x288 with 1 Axes>"
      ]
     },
     "metadata": {
      "needs_background": "light"
     },
     "output_type": "display_data"
    },
    {
     "name": "stdout",
     "output_type": "stream",
     "text": [
      "[array([[1.72899625e-33, 1.81858741e-16, 0.00000000e+00, ...,\n",
      "        1.53824890e-38, 0.00000000e+00, 1.00000000e+00],\n",
      "       [0.00000000e+00, 1.00000000e+00, 0.00000000e+00, ...,\n",
      "        1.19087205e-31, 0.00000000e+00, 0.00000000e+00],\n",
      "       [0.00000000e+00, 9.06434375e-17, 0.00000000e+00, ...,\n",
      "        0.00000000e+00, 0.00000000e+00, 1.00000000e+00],\n",
      "       ...,\n",
      "       [0.00000000e+00, 8.72538928e-22, 0.00000000e+00, ...,\n",
      "        0.00000000e+00, 0.00000000e+00, 6.98759936e-16],\n",
      "       [3.67026436e-20, 1.76772896e-09, 5.71480580e-24, ...,\n",
      "        1.05906968e-25, 2.62976900e-15, 1.00000000e+00],\n",
      "       [1.11829929e-37, 2.66806840e-13, 1.24857692e-29, ...,\n",
      "        2.02000726e-32, 1.06525136e-35, 9.99945045e-01]], dtype=float32), array([[8.1233038e-06, 6.1435939e-24, 9.5682383e-01, ..., 4.8213736e-23,\n",
      "        1.4134956e-22, 9.9520149e-23],\n",
      "       [1.6534321e-23, 1.1703091e-31, 0.0000000e+00, ..., 1.0103617e-28,\n",
      "        2.7101030e-22, 4.7364763e-31],\n",
      "       [9.4202819e-18, 9.7254551e-36, 5.2818472e-23, ..., 3.5367287e-31,\n",
      "        3.6834441e-30, 4.6829429e-29],\n",
      "       ...,\n",
      "       [1.7363131e-03, 2.7030222e-28, 7.5027426e-33, ..., 1.3551186e-25,\n",
      "        6.1438515e-24, 2.0430130e-27],\n",
      "       [4.8290253e-01, 4.4916217e-20, 2.2339907e-18, ..., 3.4814963e-17,\n",
      "        5.7742110e-17, 1.5910786e-16],\n",
      "       [1.4088810e-16, 5.6023347e-21, 2.4522294e-26, ..., 5.5961167e-22,\n",
      "        6.9532342e-19, 4.7018216e-24]], dtype=float32)]\n",
      "Model: \"model_1\"\n",
      "__________________________________________________________________________________________________\n",
      "Layer (type)                    Output Shape         Param #     Connected to                     \n",
      "==================================================================================================\n",
      "input_2 (InputLayer)            [(None, 1280)]       0                                            \n",
      "__________________________________________________________________________________________________\n",
      "dense_5 (Dense)                 (None, 500)          640500      input_2[0][0]                    \n",
      "__________________________________________________________________________________________________\n",
      "dense_6 (Dense)                 (None, 300)          150300      dense_5[0][0]                    \n",
      "__________________________________________________________________________________________________\n",
      "dense_7 (Dense)                 (None, 100)          30100       dense_6[0][0]                    \n",
      "__________________________________________________________________________________________________\n",
      "dense_8 (Dense)                 (None, 11)           1111        dense_7[0][0]                    \n",
      "__________________________________________________________________________________________________\n",
      "dense_9 (Dense)                 (None, 1000)         101000      dense_7[0][0]                    \n",
      "==================================================================================================\n",
      "Total params: 923,011\n",
      "Trainable params: 923,011\n",
      "Non-trainable params: 0\n",
      "__________________________________________________________________________________________________\n",
      "None\n"
     ]
    },
    {
     "data": {
      "image/png": "[encoded data removed]",
      "text/plain": [
       "<Figure size 432x288 with 1 Axes>"
      ]
     },
     "metadata": {
      "needs_background": "light"
     },
     "output_type": "display_data"
    },
    {
     "name": "stdout",
     "output_type": "stream",
     "text": [
      "[array([[0.00000000e+00, 1.62230262e-34, 0.00000000e+00, ...,\n",
      "        0.00000000e+00, 0.00000000e+00, 1.00000000e+00],\n",
      "       [0.00000000e+00, 0.00000000e+00, 0.00000000e+00, ...,\n",
      "        0.00000000e+00, 0.00000000e+00, 1.00000000e+00],\n",
      "       [0.00000000e+00, 4.17498589e-31, 0.00000000e+00, ...,\n",
      "        0.00000000e+00, 0.00000000e+00, 1.00000000e+00],\n",
      "       ...,\n",
      "       [0.00000000e+00, 5.36005300e-23, 0.00000000e+00, ...,\n",
      "        0.00000000e+00, 0.00000000e+00, 1.00000000e+00],\n",
      "       [6.27004594e-25, 2.15304385e-10, 1.15645176e-35, ...,\n",
      "        2.31406219e-30, 1.65722875e-36, 3.01796174e-19],\n",
      "       [3.51359658e-25, 5.16509985e-14, 2.18332667e-22, ...,\n",
      "        3.44779705e-23, 5.35556629e-27, 9.69476439e-14]], dtype=float32), array([[6.7615122e-24, 0.0000000e+00, 0.0000000e+00, ..., 0.0000000e+00,\n",
      "        0.0000000e+00, 0.0000000e+00],\n",
      "       [2.1356520e-26, 0.0000000e+00, 0.0000000e+00, ..., 1.1286880e-37,\n",
      "        4.8800588e-34, 8.4956458e-36],\n",
      "       [7.5307863e-18, 2.2537514e-36, 0.0000000e+00, ..., 1.2191875e-38,\n",
      "        1.5519617e-34, 4.6776795e-35],\n",
      "       ...,\n",
      "       [1.0000000e+00, 0.0000000e+00, 0.0000000e+00, ..., 0.0000000e+00,\n",
      "        0.0000000e+00, 0.0000000e+00],\n",
      "       [1.7330926e-06, 1.9245650e-25, 5.6981469e-26, ..., 4.7517483e-17,\n",
      "        1.6235301e-17, 8.2660936e-18],\n",
      "       [7.6100133e-11, 4.6821472e-33, 8.4451384e-37, ..., 1.3555525e-18,\n",
      "        1.0492259e-17, 3.3918250e-20]], dtype=float32)]\n",
      "Model: \"model_2\"\n",
      "__________________________________________________________________________________________________\n",
      "Layer (type)                    Output Shape         Param #     Connected to                     \n",
      "==================================================================================================\n",
      "input_3 (InputLayer)            [(None, 1280)]       0                                            \n",
      "__________________________________________________________________________________________________\n",
      "dense_10 (Dense)                (None, 500)          640500      input_3[0][0]                    \n",
      "__________________________________________________________________________________________________\n",
      "dense_11 (Dense)                (None, 300)          150300      dense_10[0][0]                   \n",
      "__________________________________________________________________________________________________\n",
      "dense_12 (Dense)                (None, 100)          30100       dense_11[0][0]                   \n",
      "__________________________________________________________________________________________________\n",
      "dense_13 (Dense)                (None, 11)           1111        dense_12[0][0]                   \n",
      "__________________________________________________________________________________________________\n",
      "dense_14 (Dense)                (None, 1000)         101000      dense_12[0][0]                   \n",
      "==================================================================================================\n",
      "Total params: 923,011\n",
      "Trainable params: 923,011\n",
      "Non-trainable params: 0\n",
      "__________________________________________________________________________________________________\n",
      "None\n"
     ]
    }
   ],
   "source": [
    "import pandas as pd\n",
    "import numpy as np\n",
    "from numpy import mean\n",
    "from numpy import std\n",
    "from sklearn.model_selection import RepeatedKFold\n",
    "from tensorflow.keras.models import Sequential\n",
    "from tensorflow.keras.layers import Dense,Dropout,Flatten\n",
    "from sklearn.metrics import accuracy_score\n",
    "from sklearn.model_selection import StratifiedKFold\n",
    "from sklearn.metrics import classification_report\n",
    "from sklearn.metrics import multilabel_confusion_matrix\n",
    "from sklearn.metrics import precision_recall_curve, roc_curve\n",
    "from tensorflow.keras.layers import Convolution1D\n",
    "from tensorflow.keras.layers import MaxPooling1D\n",
    "from tensorflow.keras.layers import Dense\n",
    "from tensorflow.keras import Input, Model\n",
    "\n",
    "arr=np.zeros((18531, 1280))\n",
    "for i in range(0,18531):\n",
    "    for j in li[i]:\n",
    "        arr[i][j]=1\n",
    "        \n",
    "sites=np.zeros((18531, 1000))\n",
    "for i in range(0,18531):\n",
    "    for j in li[i]:\n",
    "        sites[i][j]=1  \n",
    "\n",
    "embedding=np.load('E:\\PHD_Research\\Biomedical_Research\\MetaLLM_for_Journal\\Lmeatlsite data\\metallm_esm_embedding.npy')        \n",
    "merged_embedding=np.add(embedding,arr.astype(np.int64),dtype=None)\n",
    "\n",
    "\n",
    "\n",
    "# get the model\n",
    "def get_model(n_inputs, n_outputs):\n",
    "\tinputs = Input(shape=(n_inputs,))\n",
    "\t#model = Sequential()\n",
    "\tx=Dense(500, input_dim=n_inputs, kernel_initializer='he_uniform', activation='relu')(inputs)\n",
    "\t#model.add(Dropout(0.2)) \n",
    "\tx=(Dense(300, activation='relu'))(x)\n",
    "\t#model.add(Dropout(0.2))\n",
    "\tx=Dense(100, activation='relu')(x)\n",
    "\t#model.add(Dense(n_outputs, activation='sigmoid'))\n",
    "\tout1=Dense(n_outputs, activation='sigmoid')(x)\n",
    "\tout2=Dense(sites.shape[1], activation='sigmoid')(x)\n",
    "\tmodel=Model(inputs, [out1,out2])\n",
    "\tmodel.compile(loss='binary_crossentropy', optimizer='adam',metrics=['accuracy'])\n",
    "\treturn model\n",
    "\n",
    " \n",
    "# evaluate a model using repeated k-fold cross-validation\n",
    "def evaluate_model(X, y,seq):\n",
    "\tresults = list()\n",
    "\tn_inputs, n_outputs = X.shape[1], y.shape[1]\n",
    "\tseq_len=seq.shape[1]\n",
    "\t#cv = RepeatedKFold(n_splits=10, n_repeats=3, random_state=1)\n",
    "\tskf = StratifiedKFold(n_splits=10)\n",
    "\t# enumerate folds\n",
    "\tfor train_ix, test_ix in skf.split(X,np.zeros(shape=(X.shape[0], 1))):\n",
    "\t\t# prepare data\n",
    "\t\tX_train, X_test = X[train_ix], X[test_ix]\n",
    "\t\ty_train, y_test = y[train_ix], y[test_ix]\n",
    "\t\tsites_train,sites_test=seq[train_ix],seq[test_ix]\n",
    "\t\tmodel = get_model(n_inputs, n_outputs)\n",
    "\t\tprint(model.summary())\n",
    "\t\t#model.save(\"protein_model.h5\")\n",
    "\t\thistory=model.fit(X_train, [y_train,sites_train],validation_split=0.2, verbose=0, epochs=200)\n",
    "\t\tmodel.save(\"sites_model.h5\")        \n",
    "\t\thistory_dict = history.history\n",
    "\t\t#print(history_dict)\n",
    "\t\t#print(\"In the middle of a string: {}\".format(list(history_dict.key())))\n",
    "\t\t#plt.plot(history.history['accuracy'])\n",
    "\t\t#plt.plot(history.history['val_accuracy'])\n",
    "\t\t#plt.title('model accuracy')\n",
    "\t\t#plt.ylabel('accuracy')\n",
    "\t\t#plt.xlabel('epoch')\n",
    "\t\t#plt.legend(['train', 'validation'], loc='lower right')\n",
    "\t\t#plt.show()\n",
    "\t\t# summarize history for loss\n",
    "\t\tplt.plot(history.history['loss'])\n",
    "\t\tplt.plot(history.history['val_loss'])\n",
    "\t\tplt.title('model loss')\n",
    "\t\tplt.ylabel('loss')\n",
    "\t\tplt.xlabel('epoch')\n",
    "\t\tplt.legend(['train', 'validation'], loc='upper left')\n",
    "\t\tplt.show()\n",
    "\t\tyhat = model.predict(X_test)\n",
    "\t\tprint(yhat)\n",
    "\t\t#yhat = yhat.round()\n",
    "\t\t#print(yhat)\n",
    "\t\t#print(multilabel_confusion_matrix(y_test, yhat))\n",
    "\t\t#acc = accuracy_score(y_test, yhat)\n",
    "\t\t#print(classification_report(y_test, yhat))\n",
    "# \t\t# precision recall curve\n",
    "# \t\tprecision = dict()\n",
    "# \t\trecall = dict()\n",
    "# \t\tfor i in range(11):\n",
    "# \t\t\tprecision[i], recall[i], _ = precision_recall_curve(y_test[:, i],\n",
    "#                                                         yhat[:, i])\n",
    "# \t\t\tplt.plot(recall[i], lw=2, label='class {}'.format(i))    \n",
    "# \t\tplt.xlabel(\"recall\")\n",
    "# \t\t#plt.ylabel(\"precision\")\n",
    "# \t\tplt.legend(loc=\"best\")\n",
    "# \t\tplt.title(\"precision vs. recall curve\")\n",
    "# \t\tplt.show()\n",
    "# \t\t# store result\n",
    "\t\t#print('Accuracy is: >%.3f' % acc)\n",
    "\t\tresults.append(yhat)\n",
    "\treturn results\n",
    " \n",
    "# load dataset\n",
    "\n",
    "# evaluate model\n",
    "results = evaluate_model(merged_embedding, encoded_metal.toarray().astype(np.int64),sites)\n",
    "\n",
    "# summarize performance\n",
    "#print('Accuracy: %.3f (%.3f)' % (mean(results), std(results)))"
   ]
  },
  {
   "cell_type": "code",
   "execution_count": null,
   "id": "f00f899d",
   "metadata": {},
   "outputs": [],
   "source": []
  },
  {
   "cell_type": "code",
   "execution_count": 94,
   "id": "27a74fe7",
   "metadata": {},
   "outputs": [
    {
     "ename": "NameError",
     "evalue": "name 'model' is not defined",
     "output_type": "error",
     "traceback": [
      "\u001b[1;31m---------------------------------------------------------------------------\u001b[0m",
      "\u001b[1;31mNameError\u001b[0m                                 Traceback (most recent call last)",
      "\u001b[1;32m~\\AppData\\Local\\Temp/ipykernel_12728/3470139634.py\u001b[0m in \u001b[0;36m<module>\u001b[1;34m\u001b[0m\n\u001b[1;32m----> 1\u001b[1;33m \u001b[0mmodel\u001b[0m\u001b[1;33m.\u001b[0m\u001b[0msummary\u001b[0m\u001b[1;33m(\u001b[0m\u001b[1;33m)\u001b[0m\u001b[1;33m\u001b[0m\u001b[1;33m\u001b[0m\u001b[0m\n\u001b[0m",
      "\u001b[1;31mNameError\u001b[0m: name 'model' is not defined"
     ]
    }
   ],
   "source": [
    "model.summary()"
   ]
  },
  {
   "cell_type": "code",
   "execution_count": 59,
   "id": "90e99e96",
   "metadata": {},
   "outputs": [],
   "source": [
    "from tensorflow.keras.models import load_model\n",
    "model = load_model('binding_site_model.h5')"
   ]
  },
  {
   "cell_type": "code",
   "execution_count": 60,
   "id": "8254103b",
   "metadata": {},
   "outputs": [],
   "source": [
    "#merged_embedding.shape"
   ]
  },
  {
   "cell_type": "code",
   "execution_count": 61,
   "id": "b9a48f3b",
   "metadata": {},
   "outputs": [
    {
     "name": "stdout",
     "output_type": "stream",
     "text": [
      "Model: \"sequential_4\"\n",
      "_________________________________________________________________\n",
      "Layer (type)                 Output Shape              Param #   \n",
      "=================================================================\n",
      "dense_16 (Dense)             (None, 500)               640500    \n",
      "_________________________________________________________________\n",
      "dropout_8 (Dropout)          (None, 500)               0         \n",
      "_________________________________________________________________\n",
      "dense_17 (Dense)             (None, 300)               150300    \n",
      "_________________________________________________________________\n",
      "dropout_9 (Dropout)          (None, 300)               0         \n",
      "_________________________________________________________________\n",
      "dense_18 (Dense)             (None, 100)               30100     \n",
      "_________________________________________________________________\n",
      "dense_19 (Dense)             (None, 11)                1111      \n",
      "=================================================================\n",
      "Total params: 822,011\n",
      "Trainable params: 822,011\n",
      "Non-trainable params: 0\n",
      "_________________________________________________________________\n"
     ]
    },
    {
     "ename": "NameError",
     "evalue": "name 'merged_embedding' is not defined",
     "output_type": "error",
     "traceback": [
      "\u001b[1;31m---------------------------------------------------------------------------\u001b[0m",
      "\u001b[1;31mNameError\u001b[0m                                 Traceback (most recent call last)",
      "\u001b[1;32m~\\AppData\\Local\\Temp/ipykernel_5816/303821772.py\u001b[0m in \u001b[0;36m<module>\u001b[1;34m\u001b[0m\n\u001b[0;32m      1\u001b[0m \u001b[0mmodel\u001b[0m\u001b[1;33m.\u001b[0m\u001b[0msummary\u001b[0m\u001b[1;33m(\u001b[0m\u001b[1;33m)\u001b[0m\u001b[1;33m\u001b[0m\u001b[1;33m\u001b[0m\u001b[0m\n\u001b[1;32m----> 2\u001b[1;33m \u001b[0myhat\u001b[0m \u001b[1;33m=\u001b[0m \u001b[0mmodel\u001b[0m\u001b[1;33m.\u001b[0m\u001b[0mpredict\u001b[0m\u001b[1;33m(\u001b[0m\u001b[0mmerged_embedding\u001b[0m\u001b[1;33m)\u001b[0m\u001b[1;33m\u001b[0m\u001b[1;33m\u001b[0m\u001b[0m\n\u001b[0m",
      "\u001b[1;31mNameError\u001b[0m: name 'merged_embedding' is not defined"
     ]
    }
   ],
   "source": [
    "model.summary()\n",
    "yhat = model.predict(merged_embedding)"
   ]
  },
  {
   "cell_type": "code",
   "execution_count": 147,
   "id": "79d22f48",
   "metadata": {},
   "outputs": [
    {
     "data": {
      "text/plain": [
       "array([1., 0., 0., 0., 0., 0., 0., 0., 0., 0., 0., 0., 0., 0., 0., 0., 0.,\n",
       "       0., 0., 0., 0., 0., 0., 0., 0., 0., 0., 0., 0., 0., 0., 0., 0., 0.,\n",
       "       0., 0., 0., 0., 0., 0., 0., 0., 0., 0., 0., 0., 0., 0., 0., 0., 0.,\n",
       "       0., 0., 0., 0., 0., 0., 0., 0., 0., 0., 0., 0., 0., 0., 0., 0., 0.,\n",
       "       0., 0., 0., 0., 0., 0., 0., 0., 0., 0., 0., 0., 0., 0., 0., 0., 0.,\n",
       "       0., 0., 0., 0., 0., 0., 0., 0., 0., 0., 0., 0., 0., 0., 0., 0., 0.,\n",
       "       0., 0., 0., 0., 0., 0., 0., 0., 0., 0., 0., 0., 0., 0., 0., 0., 0.,\n",
       "       0., 0., 0., 0., 0., 0., 0., 0., 0., 0., 0., 0., 0., 0., 0., 0., 0.,\n",
       "       0., 0., 0., 0., 0., 0., 0., 0., 0., 0., 0., 0., 0., 0., 0., 0., 0.,\n",
       "       0., 0., 0., 0., 0., 0., 0., 0., 0., 0., 0., 0., 0., 0., 0., 0., 0.,\n",
       "       0., 0., 0., 0., 0., 0., 0., 0., 0., 0., 0., 0., 0., 0., 0., 0., 0.,\n",
       "       0., 0., 0., 0., 0., 0., 0., 0., 0., 0., 0., 0., 0., 0., 0., 0., 0.,\n",
       "       0., 0., 0., 0., 0., 0., 0., 0., 0., 0., 0., 0., 0., 0., 0., 0., 0.,\n",
       "       0., 0., 0., 0., 0., 0., 0., 0., 0., 0., 0., 0., 0., 0., 0., 0., 0.,\n",
       "       0., 0., 0., 0., 0., 0., 0., 0., 0., 0., 0., 0., 0., 0., 0., 0., 0.,\n",
       "       0., 0., 0., 0., 0., 0., 0., 0., 0., 0., 0., 0., 0., 0., 0., 0., 0.,\n",
       "       0., 0., 0., 0., 0., 0., 0., 0., 0., 0., 0., 0., 0., 0., 0., 0., 0.,\n",
       "       0., 0., 0., 0., 0., 0., 0., 0., 0., 0., 0., 0., 0., 0., 0., 0., 0.,\n",
       "       0., 0., 0., 0., 0., 0., 0., 0., 0., 0., 0., 0., 0., 0., 0., 0., 0.,\n",
       "       0., 0., 0., 0., 0., 0., 0., 0., 0., 0., 0., 0., 0., 0., 0., 0., 0.,\n",
       "       0., 0., 0., 0., 0., 0., 0., 0., 0., 0., 0., 0., 0., 0., 0., 0., 0.,\n",
       "       0., 0., 0., 0., 0., 0., 0., 0., 0., 0., 0., 0., 0., 0., 0., 0., 0.,\n",
       "       0., 0., 0., 0., 0., 0., 0., 0., 0., 0., 0., 0., 0., 0., 0., 0., 0.,\n",
       "       0., 0., 0., 0., 0., 0., 0., 0., 0., 0., 0., 0., 0., 0., 0., 0., 0.,\n",
       "       0., 0., 0., 0., 0., 0., 0., 0., 0., 0., 0., 0., 0., 0., 0., 0., 0.,\n",
       "       0., 0., 0., 0., 0., 0., 0., 0., 0., 0., 0., 0., 0., 0., 0., 0., 0.,\n",
       "       0., 0., 0., 0., 0., 0., 0., 0., 0., 0., 0., 0., 0., 0., 0., 0., 0.,\n",
       "       0., 0., 0., 0., 0., 0., 0., 0., 0., 0., 0., 0., 0., 0., 0., 0., 0.,\n",
       "       0., 0., 0., 0., 0., 0., 0., 0., 0., 0., 0., 0., 0., 0., 0., 0., 0.,\n",
       "       0., 0., 0., 0., 0., 0., 0., 0., 0., 0., 0., 0., 0., 0., 0., 0., 0.,\n",
       "       0., 0., 0., 0., 0., 0., 0., 0., 0., 0., 0., 0., 0., 0., 0., 0., 0.,\n",
       "       0., 0., 0., 0., 0., 0., 0., 0., 0., 0., 0., 0., 0., 0., 0., 0., 0.,\n",
       "       0., 0., 0., 0., 0., 0., 0., 0., 0., 0., 0., 0., 0., 0., 0., 0., 0.,\n",
       "       0., 0., 0., 0., 0., 0., 0., 0., 0., 0., 0., 0., 0., 0., 0., 0., 0.,\n",
       "       0., 0., 0., 0., 0., 0., 0., 0., 0., 0., 0., 0., 0., 0., 0., 0., 0.,\n",
       "       0., 0., 0., 0., 0., 0., 0., 0., 0., 0., 0., 0., 0., 0., 0., 0., 0.,\n",
       "       0., 0., 0., 0., 0., 0., 0., 0., 0., 0., 0., 0., 0., 0., 0., 0., 0.,\n",
       "       0., 0., 0., 0., 0., 0., 0., 0., 0., 0., 0., 0., 0., 0., 0., 0., 0.,\n",
       "       0., 0., 0., 0., 0., 0., 0., 0., 0., 0., 0., 0., 0., 0., 0., 0., 0.,\n",
       "       0., 0., 0., 0., 0., 0., 0., 0., 0., 0., 0., 0., 0., 0., 0., 0., 0.,\n",
       "       0., 0., 0., 0., 0., 0., 0., 0., 0., 0., 0., 0., 0., 0., 0., 0., 0.,\n",
       "       0., 0., 0., 0., 0., 0., 0., 0., 0., 0., 0., 0., 0., 0., 0., 0., 0.,\n",
       "       0., 0., 0., 0., 0., 0., 0., 0., 0., 0., 0., 0., 0., 0., 0., 0., 0.,\n",
       "       0., 0., 0., 0., 0., 0., 0., 0., 0., 0., 0., 0., 0., 0., 0., 0., 0.,\n",
       "       0., 0., 0., 0., 0., 0., 0., 0., 0., 0., 0., 0., 0., 0., 0., 0., 0.,\n",
       "       0., 0., 0., 0., 0., 0., 0., 0., 0., 0., 0., 0., 0., 0., 0., 0., 0.,\n",
       "       0., 0., 0., 0., 0., 0., 0., 0., 0., 0., 0., 0., 0., 0., 0., 0., 0.,\n",
       "       0., 0., 0., 0., 0., 0., 0., 0., 0., 0., 0., 0., 0., 0., 0., 0., 0.,\n",
       "       0., 0., 0., 0., 0., 0., 0., 0., 0., 0., 0., 0., 0., 0., 0., 0., 0.,\n",
       "       0., 0., 0., 0., 0., 0., 0., 0., 0., 0., 0., 0., 0., 0., 0., 0., 0.,\n",
       "       0., 0., 0., 0., 0., 0., 0., 0., 0., 0., 0., 0., 0., 0., 0., 0., 0.,\n",
       "       0., 0., 0., 0., 0., 0., 0., 0., 0., 0., 0., 0., 0., 0., 0., 0., 0.,\n",
       "       0., 0., 0., 0., 0., 0., 0., 0., 0., 0., 0., 0., 0., 0., 0., 0., 0.,\n",
       "       0., 0., 0., 0., 0., 0., 0., 0., 0., 0., 0., 0., 0., 0., 0., 0., 0.,\n",
       "       0., 0., 0., 0., 0., 0., 0., 0., 0., 0., 0., 0., 0., 0., 0., 0., 0.,\n",
       "       0., 0., 0., 0., 0., 0., 0., 0., 0., 0., 0., 0., 0., 0., 0., 0., 0.,\n",
       "       0., 0., 0., 0., 0., 0., 0., 0., 0., 0., 0., 0., 0., 0., 0., 0., 0.,\n",
       "       0., 0., 0., 0., 0., 0., 0., 0., 0., 0., 0., 0., 0., 0., 0., 0., 0.,\n",
       "       0., 0., 0., 0., 0., 0., 0., 0., 0., 0., 0., 0., 0., 0.],\n",
       "      dtype=float32)"
      ]
     },
     "execution_count": 147,
     "metadata": {},
     "output_type": "execute_result"
    }
   ],
   "source": [
    "yhat[1][0].round()"
   ]
  },
  {
   "cell_type": "code",
   "execution_count": 62,
   "id": "6a8f8f81",
   "metadata": {},
   "outputs": [],
   "source": [
    "import numpy as np\n",
    "zn_embedding=np.load('E:\\PHD_Research\\Biomedical_Research\\MetaLLM_for_Journal\\Lmeatlsite data\\Zn_esm_embedding.npy')\n",
    "ca_embedding=np.load('E:\\PHD_Research\\Biomedical_Research\\MetaLLM_for_Journal\\Lmeatlsite data\\Ca_esm_embedding.npy')\n",
    "mn_embedding=np.load('E:\\PHD_Research\\Biomedical_Research\\MetaLLM_for_Journal\\Lmeatlsite data\\Mn_esm_embedding.npy')\n",
    "mg_embedding=np.load('E:\\PHD_Research\\Biomedical_Research\\MetaLLM_for_Journal\\Lmeatlsite data\\Mg_esm_embedding.npy')"
   ]
  },
  {
   "cell_type": "code",
   "execution_count": 63,
   "id": "998bea20",
   "metadata": {},
   "outputs": [],
   "source": [
    "import pandas as pd\n",
    "zn_df=pd.read_csv('E:\\PHD_Research\\Biomedical_Research\\MetaLLM_for_Journal\\Lmeatlsite data\\Zn.txt')"
   ]
  },
  {
   "cell_type": "code",
   "execution_count": 64,
   "id": "51cc2a6e",
   "metadata": {},
   "outputs": [
    {
     "data": {
      "text/plain": [
       "200"
      ]
     },
     "execution_count": 64,
     "metadata": {},
     "output_type": "execute_result"
    }
   ],
   "source": [
    "len(zn_df.iloc[0::3].values[0][0])"
   ]
  },
  {
   "cell_type": "code",
   "execution_count": 65,
   "id": "3bd6fee3",
   "metadata": {},
   "outputs": [],
   "source": [
    "k=[]\n",
    "for i in range(len(zn_df.iloc[0::3].values[0][0])):\n",
    "    k.append(zn_df.iloc[0::3].values[0][0][i])"
   ]
  },
  {
   "cell_type": "code",
   "execution_count": 66,
   "id": "99bfa790",
   "metadata": {},
   "outputs": [
    {
     "data": {
      "text/plain": [
       "['L',\n",
       " 'T',\n",
       " 'E',\n",
       " 'Q',\n",
       " 'Q',\n",
       " 'R',\n",
       " 'R',\n",
       " 'E',\n",
       " 'L',\n",
       " 'D',\n",
       " 'W',\n",
       " 'E',\n",
       " 'K',\n",
       " 'T',\n",
       " 'D',\n",
       " 'G',\n",
       " 'L',\n",
       " 'M',\n",
       " 'P',\n",
       " 'V',\n",
       " 'I',\n",
       " 'V',\n",
       " 'Q',\n",
       " 'H',\n",
       " 'A',\n",
       " 'V',\n",
       " 'S',\n",
       " 'G',\n",
       " 'E',\n",
       " 'V',\n",
       " 'L',\n",
       " 'M',\n",
       " 'L',\n",
       " 'G',\n",
       " 'Y',\n",
       " 'M',\n",
       " 'N',\n",
       " 'P',\n",
       " 'E',\n",
       " 'A',\n",
       " 'L',\n",
       " 'D',\n",
       " 'K',\n",
       " 'T',\n",
       " 'I',\n",
       " 'E',\n",
       " 'S',\n",
       " 'G',\n",
       " 'K',\n",
       " 'V',\n",
       " 'T',\n",
       " 'F',\n",
       " 'F',\n",
       " 'S',\n",
       " 'R',\n",
       " 'T',\n",
       " 'K',\n",
       " 'Q',\n",
       " 'R',\n",
       " 'L',\n",
       " 'W',\n",
       " 'I',\n",
       " 'K',\n",
       " 'G',\n",
       " 'E',\n",
       " 'T',\n",
       " 'S',\n",
       " 'G',\n",
       " 'N',\n",
       " 'F',\n",
       " 'L',\n",
       " 'N',\n",
       " 'V',\n",
       " 'V',\n",
       " 'S',\n",
       " 'I',\n",
       " 'A',\n",
       " 'P',\n",
       " 'D',\n",
       " 'C',\n",
       " 'D',\n",
       " 'N',\n",
       " 'D',\n",
       " 'T',\n",
       " 'L',\n",
       " 'L',\n",
       " 'V',\n",
       " 'L',\n",
       " 'A',\n",
       " 'N',\n",
       " 'P',\n",
       " 'I',\n",
       " 'G',\n",
       " 'P',\n",
       " 'T',\n",
       " 'C',\n",
       " 'H',\n",
       " 'K',\n",
       " 'G',\n",
       " 'T',\n",
       " 'S',\n",
       " 'S',\n",
       " 'C',\n",
       " 'F',\n",
       " 'G',\n",
       " 'N',\n",
       " 'T',\n",
       " 'A',\n",
       " 'H',\n",
       " 'Q',\n",
       " 'W',\n",
       " 'L',\n",
       " 'F',\n",
       " 'L',\n",
       " 'Y',\n",
       " 'Q',\n",
       " 'L',\n",
       " 'E',\n",
       " 'Q',\n",
       " 'L',\n",
       " 'L',\n",
       " 'A',\n",
       " 'E',\n",
       " 'R',\n",
       " 'K',\n",
       " 'Y',\n",
       " 'A',\n",
       " 'D',\n",
       " 'P',\n",
       " 'E',\n",
       " 'T',\n",
       " 'S',\n",
       " 'Y',\n",
       " 'T',\n",
       " 'A',\n",
       " 'K',\n",
       " 'L',\n",
       " 'Y',\n",
       " 'A',\n",
       " 'S',\n",
       " 'G',\n",
       " 'T',\n",
       " 'K',\n",
       " 'R',\n",
       " 'I',\n",
       " 'A',\n",
       " 'Q',\n",
       " 'K',\n",
       " 'V',\n",
       " 'G',\n",
       " 'E',\n",
       " 'E',\n",
       " 'G',\n",
       " 'V',\n",
       " 'E',\n",
       " 'T',\n",
       " 'A',\n",
       " 'L',\n",
       " 'A',\n",
       " 'A',\n",
       " 'T',\n",
       " 'V',\n",
       " 'H',\n",
       " 'D',\n",
       " 'R',\n",
       " 'F',\n",
       " 'E',\n",
       " 'L',\n",
       " 'T',\n",
       " 'N',\n",
       " 'E',\n",
       " 'A',\n",
       " 'S',\n",
       " 'D',\n",
       " 'L',\n",
       " 'M',\n",
       " 'Y',\n",
       " 'H',\n",
       " 'L',\n",
       " 'L',\n",
       " 'V',\n",
       " 'L',\n",
       " 'L',\n",
       " 'Q',\n",
       " 'D',\n",
       " 'Q',\n",
       " 'D',\n",
       " 'L',\n",
       " 'D',\n",
       " 'L',\n",
       " 'T',\n",
       " 'T',\n",
       " 'V',\n",
       " 'I',\n",
       " 'E',\n",
       " 'N',\n",
       " 'L',\n",
       " 'H',\n",
       " 'K',\n",
       " 'R']"
      ]
     },
     "execution_count": 66,
     "metadata": {},
     "output_type": "execute_result"
    }
   ],
   "source": [
    "k"
   ]
  },
  {
   "cell_type": "code",
   "execution_count": null,
   "id": "abd7860c",
   "metadata": {},
   "outputs": [],
   "source": []
  },
  {
   "cell_type": "code",
   "execution_count": 67,
   "id": "c968c403",
   "metadata": {},
   "outputs": [],
   "source": [
    "sitess=list(range(len(zn_df.iloc[::3].values[0][0])))"
   ]
  },
  {
   "cell_type": "code",
   "execution_count": 68,
   "id": "227df9b0",
   "metadata": {},
   "outputs": [
    {
     "data": {
      "text/plain": [
       "[0,\n",
       " 1,\n",
       " 2,\n",
       " 3,\n",
       " 4,\n",
       " 5,\n",
       " 6,\n",
       " 7,\n",
       " 8,\n",
       " 9,\n",
       " 10,\n",
       " 11,\n",
       " 12,\n",
       " 13,\n",
       " 14,\n",
       " 15,\n",
       " 16,\n",
       " 17,\n",
       " 18,\n",
       " 19,\n",
       " 20,\n",
       " 21,\n",
       " 22,\n",
       " 23,\n",
       " 24,\n",
       " 25,\n",
       " 26,\n",
       " 27,\n",
       " 28,\n",
       " 29,\n",
       " 30,\n",
       " 31,\n",
       " 32,\n",
       " 33,\n",
       " 34,\n",
       " 35,\n",
       " 36,\n",
       " 37,\n",
       " 38,\n",
       " 39,\n",
       " 40,\n",
       " 41,\n",
       " 42,\n",
       " 43,\n",
       " 44,\n",
       " 45,\n",
       " 46,\n",
       " 47,\n",
       " 48,\n",
       " 49,\n",
       " 50,\n",
       " 51,\n",
       " 52,\n",
       " 53,\n",
       " 54,\n",
       " 55,\n",
       " 56,\n",
       " 57,\n",
       " 58,\n",
       " 59,\n",
       " 60,\n",
       " 61,\n",
       " 62,\n",
       " 63,\n",
       " 64,\n",
       " 65,\n",
       " 66,\n",
       " 67,\n",
       " 68,\n",
       " 69,\n",
       " 70,\n",
       " 71,\n",
       " 72,\n",
       " 73,\n",
       " 74,\n",
       " 75,\n",
       " 76,\n",
       " 77,\n",
       " 78,\n",
       " 79,\n",
       " 80,\n",
       " 81,\n",
       " 82,\n",
       " 83,\n",
       " 84,\n",
       " 85,\n",
       " 86,\n",
       " 87,\n",
       " 88,\n",
       " 89,\n",
       " 90,\n",
       " 91,\n",
       " 92,\n",
       " 93,\n",
       " 94,\n",
       " 95,\n",
       " 96,\n",
       " 97,\n",
       " 98,\n",
       " 99,\n",
       " 100,\n",
       " 101,\n",
       " 102,\n",
       " 103,\n",
       " 104,\n",
       " 105,\n",
       " 106,\n",
       " 107,\n",
       " 108,\n",
       " 109,\n",
       " 110,\n",
       " 111,\n",
       " 112,\n",
       " 113,\n",
       " 114,\n",
       " 115,\n",
       " 116,\n",
       " 117,\n",
       " 118,\n",
       " 119,\n",
       " 120,\n",
       " 121,\n",
       " 122,\n",
       " 123,\n",
       " 124,\n",
       " 125,\n",
       " 126,\n",
       " 127,\n",
       " 128,\n",
       " 129,\n",
       " 130,\n",
       " 131,\n",
       " 132,\n",
       " 133,\n",
       " 134,\n",
       " 135,\n",
       " 136,\n",
       " 137,\n",
       " 138,\n",
       " 139,\n",
       " 140,\n",
       " 141,\n",
       " 142,\n",
       " 143,\n",
       " 144,\n",
       " 145,\n",
       " 146,\n",
       " 147,\n",
       " 148,\n",
       " 149,\n",
       " 150,\n",
       " 151,\n",
       " 152,\n",
       " 153,\n",
       " 154,\n",
       " 155,\n",
       " 156,\n",
       " 157,\n",
       " 158,\n",
       " 159,\n",
       " 160,\n",
       " 161,\n",
       " 162,\n",
       " 163,\n",
       " 164,\n",
       " 165,\n",
       " 166,\n",
       " 167,\n",
       " 168,\n",
       " 169,\n",
       " 170,\n",
       " 171,\n",
       " 172,\n",
       " 173,\n",
       " 174,\n",
       " 175,\n",
       " 176,\n",
       " 177,\n",
       " 178,\n",
       " 179,\n",
       " 180,\n",
       " 181,\n",
       " 182,\n",
       " 183,\n",
       " 184,\n",
       " 185,\n",
       " 186,\n",
       " 187,\n",
       " 188,\n",
       " 189,\n",
       " 190,\n",
       " 191,\n",
       " 192,\n",
       " 193,\n",
       " 194,\n",
       " 195,\n",
       " 196,\n",
       " 197,\n",
       " 198,\n",
       " 199]"
      ]
     },
     "execution_count": 68,
     "metadata": {},
     "output_type": "execute_result"
    }
   ],
   "source": [
    "sitess"
   ]
  },
  {
   "cell_type": "code",
   "execution_count": 72,
   "id": "6f54511c",
   "metadata": {},
   "outputs": [],
   "source": [
    "\n",
    "#positinal encoding\n",
    "def data_preparation(embedded_sequence,site):\n",
    "    X=[]\n",
    "    binding_sites=[]\n",
    "      #Y=[]\n",
    "\n",
    "  #embeds=list(embedded_sequence)\n",
    "  #sites=list(site)\n",
    "  #metal=list(metalss)\n",
    "    for j in range(site.iloc[::3].shape[0]):\n",
    "        \n",
    "          #for i in range(len(site.iloc[::3].values[j][0])):\n",
    "\n",
    "            embed=embedded_sequence[j]\n",
    "\n",
    "            sitess=list(range(len(site.iloc[::3].values[j][0])))\n",
    "            #print(sites)\n",
    "            X=X+[embed]*len(sitess)\n",
    "            binding_sites=binding_sites+sitess\n",
    "            #Y=Y+metals\n",
    "\n",
    "    return pd.DataFrame({'embedding':X, 'site':binding_sites})"
   ]
  },
  {
   "cell_type": "code",
   "execution_count": 73,
   "id": "adbb0868",
   "metadata": {},
   "outputs": [],
   "source": [
    "embedding_df=data_preparation(zn_embedding,zn_df)\n"
   ]
  },
  {
   "cell_type": "code",
   "execution_count": 74,
   "id": "29b7c8a1",
   "metadata": {},
   "outputs": [
    {
     "data": {
      "text/html": [
       "<div>\n",
       "<style scoped>\n",
       "    .dataframe tbody tr th:only-of-type {\n",
       "        vertical-align: middle;\n",
       "    }\n",
       "\n",
       "    .dataframe tbody tr th {\n",
       "        vertical-align: top;\n",
       "    }\n",
       "\n",
       "    .dataframe thead th {\n",
       "        text-align: right;\n",
       "    }\n",
       "</style>\n",
       "<table border=\"1\" class=\"dataframe\">\n",
       "  <thead>\n",
       "    <tr style=\"text-align: right;\">\n",
       "      <th></th>\n",
       "      <th>embedding</th>\n",
       "      <th>site</th>\n",
       "    </tr>\n",
       "  </thead>\n",
       "  <tbody>\n",
       "    <tr>\n",
       "      <th>0</th>\n",
       "      <td>[0.06377882, 0.20964034, 0.112154365, -0.05810...</td>\n",
       "      <td>0</td>\n",
       "    </tr>\n",
       "    <tr>\n",
       "      <th>1</th>\n",
       "      <td>[0.06377882, 0.20964034, 0.112154365, -0.05810...</td>\n",
       "      <td>1</td>\n",
       "    </tr>\n",
       "    <tr>\n",
       "      <th>2</th>\n",
       "      <td>[0.06377882, 0.20964034, 0.112154365, -0.05810...</td>\n",
       "      <td>2</td>\n",
       "    </tr>\n",
       "    <tr>\n",
       "      <th>3</th>\n",
       "      <td>[0.06377882, 0.20964034, 0.112154365, -0.05810...</td>\n",
       "      <td>3</td>\n",
       "    </tr>\n",
       "    <tr>\n",
       "      <th>4</th>\n",
       "      <td>[0.06377882, 0.20964034, 0.112154365, -0.05810...</td>\n",
       "      <td>4</td>\n",
       "    </tr>\n",
       "    <tr>\n",
       "      <th>...</th>\n",
       "      <td>...</td>\n",
       "      <td>...</td>\n",
       "    </tr>\n",
       "    <tr>\n",
       "      <th>56015</th>\n",
       "      <td>[-0.004634277, 0.23461331, 0.16673523, 0.00671...</td>\n",
       "      <td>69</td>\n",
       "    </tr>\n",
       "    <tr>\n",
       "      <th>56016</th>\n",
       "      <td>[-0.004634277, 0.23461331, 0.16673523, 0.00671...</td>\n",
       "      <td>70</td>\n",
       "    </tr>\n",
       "    <tr>\n",
       "      <th>56017</th>\n",
       "      <td>[-0.004634277, 0.23461331, 0.16673523, 0.00671...</td>\n",
       "      <td>71</td>\n",
       "    </tr>\n",
       "    <tr>\n",
       "      <th>56018</th>\n",
       "      <td>[-0.004634277, 0.23461331, 0.16673523, 0.00671...</td>\n",
       "      <td>72</td>\n",
       "    </tr>\n",
       "    <tr>\n",
       "      <th>56019</th>\n",
       "      <td>[-0.004634277, 0.23461331, 0.16673523, 0.00671...</td>\n",
       "      <td>73</td>\n",
       "    </tr>\n",
       "  </tbody>\n",
       "</table>\n",
       "<p>56020 rows × 2 columns</p>\n",
       "</div>"
      ],
      "text/plain": [
       "                                               embedding  site\n",
       "0      [0.06377882, 0.20964034, 0.112154365, -0.05810...     0\n",
       "1      [0.06377882, 0.20964034, 0.112154365, -0.05810...     1\n",
       "2      [0.06377882, 0.20964034, 0.112154365, -0.05810...     2\n",
       "3      [0.06377882, 0.20964034, 0.112154365, -0.05810...     3\n",
       "4      [0.06377882, 0.20964034, 0.112154365, -0.05810...     4\n",
       "...                                                  ...   ...\n",
       "56015  [-0.004634277, 0.23461331, 0.16673523, 0.00671...    69\n",
       "56016  [-0.004634277, 0.23461331, 0.16673523, 0.00671...    70\n",
       "56017  [-0.004634277, 0.23461331, 0.16673523, 0.00671...    71\n",
       "56018  [-0.004634277, 0.23461331, 0.16673523, 0.00671...    72\n",
       "56019  [-0.004634277, 0.23461331, 0.16673523, 0.00671...    73\n",
       "\n",
       "[56020 rows x 2 columns]"
      ]
     },
     "execution_count": 74,
     "metadata": {},
     "output_type": "execute_result"
    }
   ],
   "source": [
    "embedding_df"
   ]
  },
  {
   "cell_type": "code",
   "execution_count": 75,
   "id": "4949097b",
   "metadata": {},
   "outputs": [],
   "source": [
    "# #regex module\n",
    "# import re\n",
    "# metal_list=[]\n",
    "# #original string\n",
    "# #string1 = \"Hello!James12,India2020\"\n",
    "# for i in embedding_df['metal']:\n",
    "    \n",
    "#     pattern = r'[0-9]'\n",
    "\n",
    "# # Match all digits in the string and replace them with an empty string\n",
    "#     new_string=re.sub(pattern, '',i)\n",
    "#     metal_list.append(new_string)\n",
    "# #print(new_string)"
   ]
  },
  {
   "cell_type": "code",
   "execution_count": 76,
   "id": "382f05a3",
   "metadata": {},
   "outputs": [],
   "source": [
    "def position_embeddings(max_binding_position, d=1280, n=10000):\n",
    "    P = np.zeros((max_binding_position, d))\n",
    "\n",
    "    for k in range(max_binding_position):\n",
    "        for i in np.arange(int(d/2)):\n",
    "            denominator = np.power(n, 2*i/d)\n",
    "            P[k, 2*i] = np.sin(k/denominator)\n",
    "            P[k, 2*i+1] = np.cos(k/denominator)\n",
    "    return P"
   ]
  },
  {
   "cell_type": "code",
   "execution_count": 77,
   "id": "00ef52f5",
   "metadata": {},
   "outputs": [],
   "source": [
    "max_binding_site=max(embedding_df.site)+1\n",
    "pos_encodings=position_embeddings(max_binding_site)"
   ]
  },
  {
   "cell_type": "code",
   "execution_count": 78,
   "id": "63e1e117",
   "metadata": {},
   "outputs": [],
   "source": [
    "# embedding_df['metal_list']=metal_list\n",
    "# X_X=list(embedding_df.embedding)\n",
    "# Y=list(embedding_df.metal_list)\n",
    "# labels=list(set(metal_list))"
   ]
  },
  {
   "cell_type": "code",
   "execution_count": 79,
   "id": "06ac8619",
   "metadata": {},
   "outputs": [
    {
     "data": {
      "text/plain": [
       "56020"
      ]
     },
     "execution_count": 79,
     "metadata": {},
     "output_type": "execute_result"
    }
   ],
   "source": [
    "X_X=list(embedding_df.embedding)\n",
    "X_site=list(embedding_df.site)\n",
    "X_site=list(map(lambda x: pos_encodings[x, :], X_site))\n",
    "X_and_site=np.array([x+s for x,s in zip(X_X, X_site)])\n",
    "len(X_and_site)"
   ]
  },
  {
   "cell_type": "code",
   "execution_count": 80,
   "id": "18f476e3",
   "metadata": {},
   "outputs": [
    {
     "data": {
      "text/plain": [
       "(56020, 1280)"
      ]
     },
     "execution_count": 80,
     "metadata": {},
     "output_type": "execute_result"
    }
   ],
   "source": [
    "X_and_site.shape"
   ]
  },
  {
   "cell_type": "code",
   "execution_count": 81,
   "id": "bdcf1c80",
   "metadata": {},
   "outputs": [],
   "source": [
    "yhat = model.predict(X_and_site)"
   ]
  },
  {
   "cell_type": "code",
   "execution_count": 82,
   "id": "2a7dfba5",
   "metadata": {},
   "outputs": [],
   "source": [
    "yy=yhat[:len(zn_df.iloc[0::3].values[0][0])].round()"
   ]
  },
  {
   "cell_type": "code",
   "execution_count": 83,
   "id": "7377f8b5",
   "metadata": {},
   "outputs": [
    {
     "data": {
      "text/plain": [
       "array([1., 1., 1., 1., 1., 0., 0., 0., 0., 0., 0., 0., 0., 0., 0., 0., 0.,\n",
       "       0., 0., 0., 0., 1., 1., 1., 1., 1., 1., 0., 1., 1., 0., 0., 0., 0.,\n",
       "       0., 0., 0., 0., 0., 0., 0., 0., 0., 0., 0., 0., 0., 0., 0., 0., 0.,\n",
       "       0., 0., 0., 0., 0., 0., 0., 0., 0., 0., 0., 0., 0., 0., 0., 0., 0.,\n",
       "       0., 0., 0., 0., 0., 0., 0., 0., 0., 0., 0., 0., 0., 0., 0., 0., 0.,\n",
       "       0., 0., 0., 0., 0., 0., 0., 0., 0., 0., 0., 0., 0., 0., 0., 0., 0.,\n",
       "       0., 0., 0., 0., 0., 0., 0., 0., 0., 0., 0., 0., 0., 0., 0., 0., 0.,\n",
       "       0., 0., 0., 0., 0., 0., 0., 0., 0., 0., 0., 0., 0., 0., 0., 0., 0.,\n",
       "       0., 0., 0., 0., 0., 0., 0., 0., 0., 0., 0., 0., 0., 0., 0., 0., 0.,\n",
       "       0., 0., 0., 0., 0., 0., 0., 0., 0., 0., 0., 0., 0., 0., 0., 0., 0.,\n",
       "       0., 0., 0., 0., 0., 0., 0., 0., 0., 0., 0., 0., 0., 0., 0., 0., 0.,\n",
       "       0., 0., 0., 0., 0., 0., 0., 0., 0., 0., 0., 0., 0.], dtype=float32)"
      ]
     },
     "execution_count": 83,
     "metadata": {},
     "output_type": "execute_result"
    }
   ],
   "source": [
    "yy[:,10]"
   ]
  },
  {
   "cell_type": "code",
   "execution_count": 84,
   "id": "126bd41c",
   "metadata": {},
   "outputs": [
    {
     "data": {
      "text/plain": [
       "array([[0., 0., 0., ..., 0., 0., 1.],\n",
       "       [0., 0., 0., ..., 0., 0., 1.],\n",
       "       [0., 0., 0., ..., 0., 0., 1.],\n",
       "       ...,\n",
       "       [0., 0., 0., ..., 0., 0., 0.],\n",
       "       [0., 0., 0., ..., 0., 0., 0.],\n",
       "       [0., 0., 0., ..., 0., 0., 0.]], dtype=float32)"
      ]
     },
     "execution_count": 84,
     "metadata": {},
     "output_type": "execute_result"
    }
   ],
   "source": [
    "yy"
   ]
  },
  {
   "cell_type": "code",
   "execution_count": 85,
   "id": "96c0a70f",
   "metadata": {},
   "outputs": [
    {
     "data": {
      "text/plain": [
       "{0.0: 2001, 1.0: 199}"
      ]
     },
     "execution_count": 85,
     "metadata": {},
     "output_type": "execute_result"
    }
   ],
   "source": [
    "\n",
    "unique, counts = np.unique(yy, return_counts=True)\n",
    "\n",
    "dict(zip(unique, counts))\n"
   ]
  },
  {
   "cell_type": "code",
   "execution_count": 62,
   "id": "f64cd016",
   "metadata": {},
   "outputs": [],
   "source": [
    "import pandas as pd\n",
    "Mionic=np.array(pd.read_csv(r'C:\\Users\\fsshi\\Downloads\\MIonic_6j2l_A_result.csv'))"
   ]
  },
  {
   "cell_type": "code",
   "execution_count": 68,
   "id": "957f5254",
   "metadata": {},
   "outputs": [
    {
     "data": {
      "text/plain": [
       "(200, 10)"
      ]
     },
     "execution_count": 68,
     "metadata": {},
     "output_type": "execute_result"
    }
   ],
   "source": [
    "Mionic[:,1:].shape"
   ]
  },
  {
   "cell_type": "code",
   "execution_count": 69,
   "id": "d84d8b53",
   "metadata": {},
   "outputs": [
    {
     "data": {
      "text/plain": [
       "{0.0: 1984, 1.0: 16}"
      ]
     },
     "execution_count": 69,
     "metadata": {},
     "output_type": "execute_result"
    }
   ],
   "source": [
    "unique, counts = np.unique(Mionic[:,1:], return_counts=True)\n",
    "\n",
    "dict(zip(unique, counts))"
   ]
  },
  {
   "cell_type": "code",
   "execution_count": 71,
   "id": "4dcae69b",
   "metadata": {},
   "outputs": [
    {
     "data": {
      "text/plain": [
       "{0.0: 187, 1.0: 13}"
      ]
     },
     "execution_count": 71,
     "metadata": {},
     "output_type": "execute_result"
    }
   ],
   "source": [
    "unique, counts = np.unique(yy[:,10], return_counts=True)\n",
    "\n",
    "dict(zip(unique, counts))"
   ]
  },
  {
   "cell_type": "code",
   "execution_count": 72,
   "id": "45656f3f",
   "metadata": {},
   "outputs": [
    {
     "data": {
      "text/plain": [
       "{0.0: 197, 1.0: 3}"
      ]
     },
     "execution_count": 72,
     "metadata": {},
     "output_type": "execute_result"
    }
   ],
   "source": [
    "unique, counts = np.unique(Mionic[:,10], return_counts=True)\n",
    "\n",
    "dict(zip(unique, counts))"
   ]
  },
  {
   "cell_type": "code",
   "execution_count": 47,
   "id": "a3692611",
   "metadata": {},
   "outputs": [],
   "source": [
    "results=pd.DataFrame(yy, columns=['cadmium', 'calcium', 'cobalt', 'copper', 'iron', 'magnesium', 'manganese', 'nickel', 'potassium', 'sodium', 'zinc'] \n",
    "                  )\n",
    "results['residues']=k"
   ]
  },
  {
   "cell_type": "code",
   "execution_count": 48,
   "id": "eaca0cac",
   "metadata": {},
   "outputs": [
    {
     "data": {
      "text/html": [
       "<div>\n",
       "<style scoped>\n",
       "    .dataframe tbody tr th:only-of-type {\n",
       "        vertical-align: middle;\n",
       "    }\n",
       "\n",
       "    .dataframe tbody tr th {\n",
       "        vertical-align: top;\n",
       "    }\n",
       "\n",
       "    .dataframe thead th {\n",
       "        text-align: right;\n",
       "    }\n",
       "</style>\n",
       "<table border=\"1\" class=\"dataframe\">\n",
       "  <thead>\n",
       "    <tr style=\"text-align: right;\">\n",
       "      <th></th>\n",
       "      <th>cadmium</th>\n",
       "      <th>calcium</th>\n",
       "      <th>cobalt</th>\n",
       "      <th>copper</th>\n",
       "      <th>iron</th>\n",
       "      <th>magnesium</th>\n",
       "      <th>manganese</th>\n",
       "      <th>nickel</th>\n",
       "      <th>potassium</th>\n",
       "      <th>sodium</th>\n",
       "      <th>zinc</th>\n",
       "      <th>residues</th>\n",
       "    </tr>\n",
       "  </thead>\n",
       "  <tbody>\n",
       "    <tr>\n",
       "      <th>0</th>\n",
       "      <td>0.0</td>\n",
       "      <td>0.0</td>\n",
       "      <td>0.0</td>\n",
       "      <td>0.0</td>\n",
       "      <td>0.0</td>\n",
       "      <td>0.0</td>\n",
       "      <td>0.0</td>\n",
       "      <td>0.0</td>\n",
       "      <td>0.0</td>\n",
       "      <td>0.0</td>\n",
       "      <td>1.0</td>\n",
       "      <td>L</td>\n",
       "    </tr>\n",
       "    <tr>\n",
       "      <th>1</th>\n",
       "      <td>0.0</td>\n",
       "      <td>0.0</td>\n",
       "      <td>0.0</td>\n",
       "      <td>0.0</td>\n",
       "      <td>0.0</td>\n",
       "      <td>0.0</td>\n",
       "      <td>0.0</td>\n",
       "      <td>0.0</td>\n",
       "      <td>0.0</td>\n",
       "      <td>0.0</td>\n",
       "      <td>1.0</td>\n",
       "      <td>T</td>\n",
       "    </tr>\n",
       "    <tr>\n",
       "      <th>2</th>\n",
       "      <td>0.0</td>\n",
       "      <td>0.0</td>\n",
       "      <td>0.0</td>\n",
       "      <td>0.0</td>\n",
       "      <td>0.0</td>\n",
       "      <td>0.0</td>\n",
       "      <td>0.0</td>\n",
       "      <td>0.0</td>\n",
       "      <td>0.0</td>\n",
       "      <td>0.0</td>\n",
       "      <td>1.0</td>\n",
       "      <td>E</td>\n",
       "    </tr>\n",
       "    <tr>\n",
       "      <th>3</th>\n",
       "      <td>0.0</td>\n",
       "      <td>0.0</td>\n",
       "      <td>0.0</td>\n",
       "      <td>0.0</td>\n",
       "      <td>0.0</td>\n",
       "      <td>0.0</td>\n",
       "      <td>0.0</td>\n",
       "      <td>0.0</td>\n",
       "      <td>0.0</td>\n",
       "      <td>0.0</td>\n",
       "      <td>1.0</td>\n",
       "      <td>Q</td>\n",
       "    </tr>\n",
       "    <tr>\n",
       "      <th>4</th>\n",
       "      <td>0.0</td>\n",
       "      <td>0.0</td>\n",
       "      <td>0.0</td>\n",
       "      <td>0.0</td>\n",
       "      <td>0.0</td>\n",
       "      <td>0.0</td>\n",
       "      <td>0.0</td>\n",
       "      <td>0.0</td>\n",
       "      <td>0.0</td>\n",
       "      <td>0.0</td>\n",
       "      <td>1.0</td>\n",
       "      <td>Q</td>\n",
       "    </tr>\n",
       "    <tr>\n",
       "      <th>...</th>\n",
       "      <td>...</td>\n",
       "      <td>...</td>\n",
       "      <td>...</td>\n",
       "      <td>...</td>\n",
       "      <td>...</td>\n",
       "      <td>...</td>\n",
       "      <td>...</td>\n",
       "      <td>...</td>\n",
       "      <td>...</td>\n",
       "      <td>...</td>\n",
       "      <td>...</td>\n",
       "      <td>...</td>\n",
       "    </tr>\n",
       "    <tr>\n",
       "      <th>195</th>\n",
       "      <td>0.0</td>\n",
       "      <td>0.0</td>\n",
       "      <td>0.0</td>\n",
       "      <td>0.0</td>\n",
       "      <td>0.0</td>\n",
       "      <td>0.0</td>\n",
       "      <td>1.0</td>\n",
       "      <td>0.0</td>\n",
       "      <td>0.0</td>\n",
       "      <td>0.0</td>\n",
       "      <td>0.0</td>\n",
       "      <td>N</td>\n",
       "    </tr>\n",
       "    <tr>\n",
       "      <th>196</th>\n",
       "      <td>0.0</td>\n",
       "      <td>0.0</td>\n",
       "      <td>0.0</td>\n",
       "      <td>0.0</td>\n",
       "      <td>0.0</td>\n",
       "      <td>0.0</td>\n",
       "      <td>1.0</td>\n",
       "      <td>0.0</td>\n",
       "      <td>0.0</td>\n",
       "      <td>0.0</td>\n",
       "      <td>0.0</td>\n",
       "      <td>L</td>\n",
       "    </tr>\n",
       "    <tr>\n",
       "      <th>197</th>\n",
       "      <td>0.0</td>\n",
       "      <td>0.0</td>\n",
       "      <td>0.0</td>\n",
       "      <td>0.0</td>\n",
       "      <td>0.0</td>\n",
       "      <td>0.0</td>\n",
       "      <td>1.0</td>\n",
       "      <td>0.0</td>\n",
       "      <td>0.0</td>\n",
       "      <td>0.0</td>\n",
       "      <td>0.0</td>\n",
       "      <td>H</td>\n",
       "    </tr>\n",
       "    <tr>\n",
       "      <th>198</th>\n",
       "      <td>0.0</td>\n",
       "      <td>0.0</td>\n",
       "      <td>0.0</td>\n",
       "      <td>0.0</td>\n",
       "      <td>0.0</td>\n",
       "      <td>0.0</td>\n",
       "      <td>1.0</td>\n",
       "      <td>0.0</td>\n",
       "      <td>0.0</td>\n",
       "      <td>0.0</td>\n",
       "      <td>0.0</td>\n",
       "      <td>K</td>\n",
       "    </tr>\n",
       "    <tr>\n",
       "      <th>199</th>\n",
       "      <td>0.0</td>\n",
       "      <td>0.0</td>\n",
       "      <td>0.0</td>\n",
       "      <td>0.0</td>\n",
       "      <td>0.0</td>\n",
       "      <td>0.0</td>\n",
       "      <td>1.0</td>\n",
       "      <td>0.0</td>\n",
       "      <td>0.0</td>\n",
       "      <td>0.0</td>\n",
       "      <td>0.0</td>\n",
       "      <td>R</td>\n",
       "    </tr>\n",
       "  </tbody>\n",
       "</table>\n",
       "<p>200 rows × 12 columns</p>\n",
       "</div>"
      ],
      "text/plain": [
       "     cadmium  calcium  cobalt  copper  iron  magnesium  manganese  nickel  \\\n",
       "0        0.0      0.0     0.0     0.0   0.0        0.0        0.0     0.0   \n",
       "1        0.0      0.0     0.0     0.0   0.0        0.0        0.0     0.0   \n",
       "2        0.0      0.0     0.0     0.0   0.0        0.0        0.0     0.0   \n",
       "3        0.0      0.0     0.0     0.0   0.0        0.0        0.0     0.0   \n",
       "4        0.0      0.0     0.0     0.0   0.0        0.0        0.0     0.0   \n",
       "..       ...      ...     ...     ...   ...        ...        ...     ...   \n",
       "195      0.0      0.0     0.0     0.0   0.0        0.0        1.0     0.0   \n",
       "196      0.0      0.0     0.0     0.0   0.0        0.0        1.0     0.0   \n",
       "197      0.0      0.0     0.0     0.0   0.0        0.0        1.0     0.0   \n",
       "198      0.0      0.0     0.0     0.0   0.0        0.0        1.0     0.0   \n",
       "199      0.0      0.0     0.0     0.0   0.0        0.0        1.0     0.0   \n",
       "\n",
       "     potassium  sodium  zinc residues  \n",
       "0          0.0     0.0   1.0        L  \n",
       "1          0.0     0.0   1.0        T  \n",
       "2          0.0     0.0   1.0        E  \n",
       "3          0.0     0.0   1.0        Q  \n",
       "4          0.0     0.0   1.0        Q  \n",
       "..         ...     ...   ...      ...  \n",
       "195        0.0     0.0   0.0        N  \n",
       "196        0.0     0.0   0.0        L  \n",
       "197        0.0     0.0   0.0        H  \n",
       "198        0.0     0.0   0.0        K  \n",
       "199        0.0     0.0   0.0        R  \n",
       "\n",
       "[200 rows x 12 columns]"
      ]
     },
     "execution_count": 48,
     "metadata": {},
     "output_type": "execute_result"
    }
   ],
   "source": [
    "results.to_csv('ll.csv')\n",
    "results"
   ]
  },
  {
   "cell_type": "code",
   "execution_count": 151,
   "id": "463d98fa",
   "metadata": {},
   "outputs": [
    {
     "data": {
      "text/plain": [
       "array([ 0.06377882,  0.20964034,  0.11215436, ..., -0.08597418,\n",
       "        0.01735575, -0.09316302], dtype=float32)"
      ]
     },
     "execution_count": 151,
     "metadata": {},
     "output_type": "execute_result"
    }
   ],
   "source": [
    "zn_embedding[0]"
   ]
  },
  {
   "cell_type": "code",
   "execution_count": 86,
   "id": "8d9e594a",
   "metadata": {},
   "outputs": [
    {
     "ename": "IndexError",
     "evalue": "tuple index out of range",
     "output_type": "error",
     "traceback": [
      "\u001b[1;31m---------------------------------------------------------------------------\u001b[0m",
      "\u001b[1;31mIndexError\u001b[0m                                Traceback (most recent call last)",
      "\u001b[1;32m~\\AppData\\Local\\Temp/ipykernel_5816/3383475597.py\u001b[0m in \u001b[0;36m<module>\u001b[1;34m\u001b[0m\n\u001b[0;32m      3\u001b[0m \u001b[1;33m\u001b[0m\u001b[0m\n\u001b[0;32m      4\u001b[0m \u001b[1;32mfor\u001b[0m \u001b[0mi\u001b[0m \u001b[1;32min\u001b[0m \u001b[0mrange\u001b[0m\u001b[1;33m(\u001b[0m\u001b[0myhat\u001b[0m\u001b[1;33m[\u001b[0m\u001b[1;36m0\u001b[0m\u001b[1;33m]\u001b[0m\u001b[1;33m.\u001b[0m\u001b[0mshape\u001b[0m\u001b[1;33m[\u001b[0m\u001b[1;36m0\u001b[0m\u001b[1;33m]\u001b[0m\u001b[1;33m)\u001b[0m\u001b[1;33m:\u001b[0m\u001b[1;33m\u001b[0m\u001b[1;33m\u001b[0m\u001b[0m\n\u001b[1;32m----> 5\u001b[1;33m     \u001b[1;32mfor\u001b[0m \u001b[0mj\u001b[0m \u001b[1;32min\u001b[0m \u001b[0mrange\u001b[0m\u001b[1;33m(\u001b[0m\u001b[0myhat\u001b[0m\u001b[1;33m[\u001b[0m\u001b[1;36m0\u001b[0m\u001b[1;33m]\u001b[0m\u001b[1;33m.\u001b[0m\u001b[0mshape\u001b[0m\u001b[1;33m[\u001b[0m\u001b[1;36m1\u001b[0m\u001b[1;33m]\u001b[0m\u001b[1;33m)\u001b[0m\u001b[1;33m:\u001b[0m\u001b[1;33m\u001b[0m\u001b[1;33m\u001b[0m\u001b[0m\n\u001b[0m\u001b[0;32m      6\u001b[0m         \u001b[1;32mif\u001b[0m \u001b[1;33m(\u001b[0m\u001b[0myhat\u001b[0m\u001b[1;33m[\u001b[0m\u001b[1;36m0\u001b[0m\u001b[1;33m]\u001b[0m\u001b[1;33m[\u001b[0m\u001b[0mi\u001b[0m\u001b[1;33m]\u001b[0m\u001b[1;33m[\u001b[0m\u001b[0mj\u001b[0m\u001b[1;33m]\u001b[0m\u001b[1;33m)\u001b[0m\u001b[1;33m>\u001b[0m \u001b[1;33m(\u001b[0m\u001b[1;36m0.42\u001b[0m\u001b[1;33m)\u001b[0m\u001b[1;33m:\u001b[0m\u001b[1;33m\u001b[0m\u001b[1;33m\u001b[0m\u001b[0m\n\u001b[0;32m      7\u001b[0m             \u001b[0myhat\u001b[0m\u001b[1;33m[\u001b[0m\u001b[1;36m0\u001b[0m\u001b[1;33m]\u001b[0m\u001b[1;33m[\u001b[0m\u001b[0mi\u001b[0m\u001b[1;33m]\u001b[0m\u001b[1;33m[\u001b[0m\u001b[0mj\u001b[0m\u001b[1;33m]\u001b[0m \u001b[1;33m=\u001b[0m \u001b[1;36m1.0\u001b[0m\u001b[1;33m\u001b[0m\u001b[1;33m\u001b[0m\u001b[0m\n",
      "\u001b[1;31mIndexError\u001b[0m: tuple index out of range"
     ]
    }
   ],
   "source": [
    "yhat = model.predict(zn_embedding)\n",
    "# print(len(yhat))\n",
    "\n",
    "for i in range(yhat[0].shape[0]):\n",
    "    for j in range(yhat[0].shape[1]):\n",
    "        if (yhat[0][i][j])> (0.42):\n",
    "            yhat[0][i][j] = 1.0\n",
    "        else:\n",
    "            yhat[0][i][j]=0.0\n",
    "            \n",
    "#yhat = yhat.round()\n",
    "zn_arr=np.zeros((211, 11))\n",
    "for i in range(0,211):\n",
    "    for j in zn_arr[i]:\n",
    "        zn_arr[i][10]=1\n",
    "from sklearn.metrics import accuracy_score\n",
    "from sklearn.model_selection import StratifiedKFold\n",
    "from sklearn.metrics import classification_report\n",
    "from sklearn.metrics import multilabel_confusion_matrix\n",
    "from sklearn.metrics import precision_recall_curve, roc_curve\n",
    "acc = accuracy_score(zn_arr, yhat[0])\n",
    "print(classification_report(zn_arr, yhat[0]))        "
   ]
  },
  {
   "cell_type": "code",
   "execution_count": 87,
   "id": "e3c66009",
   "metadata": {},
   "outputs": [],
   "source": [
    "import pandas as pd\n",
    "zn_df=pd.read_csv('E:\\PHD_Research\\Biomedical_Research\\MetaLLM_for_Journal\\Lmeatlsite data\\Zn.txt')"
   ]
  },
  {
   "cell_type": "code",
   "execution_count": 88,
   "id": "93e1e744",
   "metadata": {},
   "outputs": [
    {
     "data": {
      "text/plain": [
       "array(['10100000000000000000000000000000000000000000000000000000000000000000000000000000000000000000000000000000000000000000000000000000000000000000000000000000000'],\n",
       "      dtype=object)"
      ]
     },
     "execution_count": 88,
     "metadata": {},
     "output_type": "execute_result"
    }
   ],
   "source": [
    "zn_df.iloc[1::3].values[4]"
   ]
  },
  {
   "cell_type": "code",
   "execution_count": 89,
   "id": "e40dc20b",
   "metadata": {},
   "outputs": [],
   "source": [
    "yhat = model.predict(zn_embedding)"
   ]
  },
  {
   "cell_type": "code",
   "execution_count": null,
   "id": "83b24254",
   "metadata": {},
   "outputs": [],
   "source": []
  },
  {
   "cell_type": "code",
   "execution_count": 90,
   "id": "d7fa9c13",
   "metadata": {},
   "outputs": [
    {
     "data": {
      "text/plain": [
       "1.0"
      ]
     },
     "execution_count": 90,
     "metadata": {},
     "output_type": "execute_result"
    }
   ],
   "source": [
    "yhat[1][4]"
   ]
  },
  {
   "cell_type": "code",
   "execution_count": null,
   "id": "c7eddc26",
   "metadata": {},
   "outputs": [],
   "source": []
  },
  {
   "cell_type": "code",
   "execution_count": 91,
   "id": "14ea7b6b",
   "metadata": {},
   "outputs": [
    {
     "ename": "NameError",
     "evalue": "name 'zn_arr' is not defined",
     "output_type": "error",
     "traceback": [
      "\u001b[1;31m---------------------------------------------------------------------------\u001b[0m",
      "\u001b[1;31mNameError\u001b[0m                                 Traceback (most recent call last)",
      "\u001b[1;32m~\\AppData\\Local\\Temp/ipykernel_5816/1612956571.py\u001b[0m in \u001b[0;36m<module>\u001b[1;34m\u001b[0m\n\u001b[0;32m      9\u001b[0m \u001b[0mca_arr\u001b[0m\u001b[1;33m=\u001b[0m\u001b[0mnp\u001b[0m\u001b[1;33m.\u001b[0m\u001b[0mzeros\u001b[0m\u001b[1;33m(\u001b[0m\u001b[1;33m(\u001b[0m\u001b[0mlen\u001b[0m\u001b[1;33m(\u001b[0m\u001b[0mca_embedding\u001b[0m\u001b[1;33m)\u001b[0m\u001b[1;33m,\u001b[0m \u001b[1;36m11\u001b[0m\u001b[1;33m)\u001b[0m\u001b[1;33m)\u001b[0m\u001b[1;33m\u001b[0m\u001b[1;33m\u001b[0m\u001b[0m\n\u001b[0;32m     10\u001b[0m \u001b[1;32mfor\u001b[0m \u001b[0mi\u001b[0m \u001b[1;32min\u001b[0m \u001b[0mrange\u001b[0m\u001b[1;33m(\u001b[0m\u001b[1;36m0\u001b[0m\u001b[1;33m,\u001b[0m\u001b[0mlen\u001b[0m\u001b[1;33m(\u001b[0m\u001b[0mca_embedding\u001b[0m\u001b[1;33m)\u001b[0m\u001b[1;33m)\u001b[0m\u001b[1;33m:\u001b[0m\u001b[1;33m\u001b[0m\u001b[1;33m\u001b[0m\u001b[0m\n\u001b[1;32m---> 11\u001b[1;33m     \u001b[1;32mfor\u001b[0m \u001b[0mj\u001b[0m \u001b[1;32min\u001b[0m \u001b[0mzn_arr\u001b[0m\u001b[1;33m[\u001b[0m\u001b[0mi\u001b[0m\u001b[1;33m]\u001b[0m\u001b[1;33m:\u001b[0m\u001b[1;33m\u001b[0m\u001b[1;33m\u001b[0m\u001b[0m\n\u001b[0m\u001b[0;32m     12\u001b[0m         \u001b[0mca_arr\u001b[0m\u001b[1;33m[\u001b[0m\u001b[0mi\u001b[0m\u001b[1;33m]\u001b[0m\u001b[1;33m[\u001b[0m\u001b[1;36m1\u001b[0m\u001b[1;33m]\u001b[0m\u001b[1;33m=\u001b[0m\u001b[1;36m1\u001b[0m\u001b[1;33m\u001b[0m\u001b[1;33m\u001b[0m\u001b[0m\n\u001b[0;32m     13\u001b[0m \u001b[1;32mfrom\u001b[0m \u001b[0msklearn\u001b[0m\u001b[1;33m.\u001b[0m\u001b[0mmetrics\u001b[0m \u001b[1;32mimport\u001b[0m \u001b[0maccuracy_score\u001b[0m\u001b[1;33m\u001b[0m\u001b[1;33m\u001b[0m\u001b[0m\n",
      "\u001b[1;31mNameError\u001b[0m: name 'zn_arr' is not defined"
     ]
    }
   ],
   "source": [
    "yhat = model.predict(ca_embedding)\n",
    "for i in range(yhat.shape[0]):\n",
    "    for j in range(yhat.shape[1]):\n",
    "        if (yhat[i][j])> (0.34):\n",
    "            yhat[i][j] = 1.0\n",
    "        else:\n",
    "            yhat[i][j]=0.0\n",
    "#yhat = yhat.round()\n",
    "ca_arr=np.zeros((len(ca_embedding), 11))\n",
    "for i in range(0,len(ca_embedding)):\n",
    "    for j in zn_arr[i]:\n",
    "        ca_arr[i][1]=1\n",
    "from sklearn.metrics import accuracy_score\n",
    "from sklearn.model_selection import StratifiedKFold\n",
    "from sklearn.metrics import classification_report\n",
    "from sklearn.metrics import multilabel_confusion_matrix\n",
    "from sklearn.metrics import precision_recall_curve, roc_curve\n",
    "acc = accuracy_score(ca_arr, yhat)\n",
    "print(classification_report(ca_arr, yhat)) "
   ]
  },
  {
   "cell_type": "code",
   "execution_count": 92,
   "id": "247140df",
   "metadata": {},
   "outputs": [
    {
     "name": "stdout",
     "output_type": "stream",
     "text": [
      "              precision    recall  f1-score   support\n",
      "\n",
      "           0       0.00      0.00      0.00         0\n",
      "           1       0.00      0.00      0.00         0\n",
      "           2       0.00      0.00      0.00         0\n",
      "           3       0.00      0.00      0.00         0\n",
      "           4       0.00      0.00      0.00         0\n",
      "           5       0.00      0.00      0.00         0\n",
      "           6       1.00      0.19      0.32        57\n",
      "           7       0.00      0.00      0.00         0\n",
      "           8       0.00      0.00      0.00         0\n",
      "           9       0.00      0.00      0.00         0\n",
      "          10       0.00      0.00      0.00         0\n",
      "\n",
      "   micro avg       0.19      0.19      0.19        57\n",
      "   macro avg       0.09      0.02      0.03        57\n",
      "weighted avg       1.00      0.19      0.32        57\n",
      " samples avg       0.18      0.19      0.19        57\n",
      "\n"
     ]
    },
    {
     "name": "stderr",
     "output_type": "stream",
     "text": [
      "C:\\Users\\fsshi\\anaconda3\\lib\\site-packages\\sklearn\\metrics\\_classification.py:1469: UndefinedMetricWarning: Precision and F-score are ill-defined and being set to 0.0 in labels with no predicted samples. Use `zero_division` parameter to control this behavior.\n",
      "  _warn_prf(average, modifier, msg_start, len(result))\n",
      "C:\\Users\\fsshi\\anaconda3\\lib\\site-packages\\sklearn\\metrics\\_classification.py:1469: UndefinedMetricWarning: Recall and F-score are ill-defined and being set to 0.0 in labels with no true samples. Use `zero_division` parameter to control this behavior.\n",
      "  _warn_prf(average, modifier, msg_start, len(result))\n",
      "C:\\Users\\fsshi\\anaconda3\\lib\\site-packages\\sklearn\\metrics\\_classification.py:1469: UndefinedMetricWarning: Precision and F-score are ill-defined and being set to 0.0 in samples with no predicted labels. Use `zero_division` parameter to control this behavior.\n",
      "  _warn_prf(average, modifier, msg_start, len(result))\n"
     ]
    }
   ],
   "source": [
    "yhat = model.predict(mn_embedding)\n",
    "#yhat = yhat.round()\n",
    "for i in range(yhat.shape[0]):\n",
    "    for j in range(yhat.shape[1]):\n",
    "        if (yhat[i][j])> (0.5):\n",
    "            yhat[i][j] = 1.0\n",
    "        else:\n",
    "            yhat[i][j]=0.0\n",
    "mn_arr=np.zeros((len(mn_embedding), 11))\n",
    "for i in range(0,len(mn_embedding)):\n",
    "    for j in mn_arr[i]:\n",
    "        mn_arr[i][6]=1\n",
    "from sklearn.metrics import accuracy_score\n",
    "from sklearn.model_selection import StratifiedKFold\n",
    "from sklearn.metrics import classification_report\n",
    "from sklearn.metrics import multilabel_confusion_matrix\n",
    "from sklearn.metrics import precision_recall_curve, roc_curve\n",
    "acc = accuracy_score(mn_arr, yhat)\n",
    "print(classification_report(mn_arr, yhat)) \n"
   ]
  },
  {
   "cell_type": "code",
   "execution_count": 93,
   "id": "8eca7281",
   "metadata": {},
   "outputs": [
    {
     "name": "stdout",
     "output_type": "stream",
     "text": [
      "              precision    recall  f1-score   support\n",
      "\n",
      "           0       0.00      0.00      0.00         0\n",
      "           1       0.00      0.00      0.00         0\n",
      "           2       0.00      0.00      0.00         0\n",
      "           3       0.00      0.00      0.00         0\n",
      "           4       0.00      0.00      0.00         0\n",
      "           5       1.00      0.40      0.57       235\n",
      "           6       0.00      0.00      0.00         0\n",
      "           7       0.00      0.00      0.00         0\n",
      "           8       0.00      0.00      0.00         0\n",
      "           9       0.00      0.00      0.00         0\n",
      "          10       0.00      0.00      0.00         0\n",
      "\n",
      "   micro avg       0.39      0.40      0.39       235\n",
      "   macro avg       0.09      0.04      0.05       235\n",
      "weighted avg       1.00      0.40      0.57       235\n",
      " samples avg       0.39      0.40      0.39       235\n",
      "\n"
     ]
    },
    {
     "name": "stderr",
     "output_type": "stream",
     "text": [
      "C:\\Users\\fsshi\\anaconda3\\lib\\site-packages\\sklearn\\metrics\\_classification.py:1469: UndefinedMetricWarning: Precision and F-score are ill-defined and being set to 0.0 in labels with no predicted samples. Use `zero_division` parameter to control this behavior.\n",
      "  _warn_prf(average, modifier, msg_start, len(result))\n",
      "C:\\Users\\fsshi\\anaconda3\\lib\\site-packages\\sklearn\\metrics\\_classification.py:1469: UndefinedMetricWarning: Recall and F-score are ill-defined and being set to 0.0 in labels with no true samples. Use `zero_division` parameter to control this behavior.\n",
      "  _warn_prf(average, modifier, msg_start, len(result))\n",
      "C:\\Users\\fsshi\\anaconda3\\lib\\site-packages\\sklearn\\metrics\\_classification.py:1469: UndefinedMetricWarning: Precision and F-score are ill-defined and being set to 0.0 in samples with no predicted labels. Use `zero_division` parameter to control this behavior.\n",
      "  _warn_prf(average, modifier, msg_start, len(result))\n"
     ]
    }
   ],
   "source": [
    "yhat = model.predict(mg_embedding)\n",
    "\n",
    "for i in range(yhat.shape[0]):\n",
    "    for j in range(yhat.shape[1]):\n",
    "        if (yhat[i][j])> (0.47):\n",
    "            yhat[i][j] = 1.0\n",
    "        else:\n",
    "            yhat[i][j]=0.0\n",
    "#yhat = yhat.round()\n",
    "mg_arr=np.zeros((len(mg_embedding), 11))\n",
    "for i in range(0,len(mg_embedding)):\n",
    "    for j in mg_arr[i]:\n",
    "        mg_arr[i][5]=1\n",
    "from sklearn.metrics import accuracy_score\n",
    "from sklearn.model_selection import StratifiedKFold\n",
    "from sklearn.metrics import classification_report\n",
    "from sklearn.metrics import multilabel_confusion_matrix\n",
    "from sklearn.metrics import precision_recall_curve, roc_curve\n",
    "acc = accuracy_score(mg_arr, yhat)\n",
    "print(classification_report(mg_arr, yhat))"
   ]
  },
  {
   "cell_type": "code",
   "execution_count": 94,
   "id": "62989be7",
   "metadata": {},
   "outputs": [
    {
     "ename": "NameError",
     "evalue": "name 'zn_arr' is not defined",
     "output_type": "error",
     "traceback": [
      "\u001b[1;31m---------------------------------------------------------------------------\u001b[0m",
      "\u001b[1;31mNameError\u001b[0m                                 Traceback (most recent call last)",
      "\u001b[1;32m~\\AppData\\Local\\Temp/ipykernel_5816/1137135851.py\u001b[0m in \u001b[0;36m<module>\u001b[1;34m\u001b[0m\n\u001b[1;32m----> 1\u001b[1;33m \u001b[0mzn_arr\u001b[0m\u001b[1;33m.\u001b[0m\u001b[0mshape\u001b[0m\u001b[1;33m\u001b[0m\u001b[1;33m\u001b[0m\u001b[0m\n\u001b[0m",
      "\u001b[1;31mNameError\u001b[0m: name 'zn_arr' is not defined"
     ]
    }
   ],
   "source": [
    "zn_arr.shape"
   ]
  },
  {
   "cell_type": "code",
   "execution_count": null,
   "id": "f8e8d9d7",
   "metadata": {},
   "outputs": [],
   "source": []
  },
  {
   "cell_type": "code",
   "execution_count": 95,
   "id": "b5afbefb",
   "metadata": {},
   "outputs": [
    {
     "ename": "NameError",
     "evalue": "name 'zn_arr' is not defined",
     "output_type": "error",
     "traceback": [
      "\u001b[1;31m---------------------------------------------------------------------------\u001b[0m",
      "\u001b[1;31mNameError\u001b[0m                                 Traceback (most recent call last)",
      "\u001b[1;32m~\\AppData\\Local\\Temp/ipykernel_5816/1122783738.py\u001b[0m in \u001b[0;36m<module>\u001b[1;34m\u001b[0m\n\u001b[0;32m      1\u001b[0m \u001b[1;32mfor\u001b[0m \u001b[0mi\u001b[0m \u001b[1;32min\u001b[0m \u001b[0mrange\u001b[0m\u001b[1;33m(\u001b[0m\u001b[1;36m0\u001b[0m\u001b[1;33m,\u001b[0m\u001b[1;36m211\u001b[0m\u001b[1;33m)\u001b[0m\u001b[1;33m:\u001b[0m\u001b[1;33m\u001b[0m\u001b[1;33m\u001b[0m\u001b[0m\n\u001b[1;32m----> 2\u001b[1;33m     \u001b[1;32mfor\u001b[0m \u001b[0mj\u001b[0m \u001b[1;32min\u001b[0m \u001b[0mzn_arr\u001b[0m\u001b[1;33m[\u001b[0m\u001b[0mi\u001b[0m\u001b[1;33m]\u001b[0m\u001b[1;33m:\u001b[0m\u001b[1;33m\u001b[0m\u001b[1;33m\u001b[0m\u001b[0m\n\u001b[0m\u001b[0;32m      3\u001b[0m         \u001b[0mzn_arr\u001b[0m\u001b[1;33m[\u001b[0m\u001b[0mi\u001b[0m\u001b[1;33m]\u001b[0m\u001b[1;33m[\u001b[0m\u001b[1;36m10\u001b[0m\u001b[1;33m]\u001b[0m\u001b[1;33m=\u001b[0m\u001b[1;36m1\u001b[0m\u001b[1;33m\u001b[0m\u001b[1;33m\u001b[0m\u001b[0m\n",
      "\u001b[1;31mNameError\u001b[0m: name 'zn_arr' is not defined"
     ]
    }
   ],
   "source": [
    "for i in range(0,211):\n",
    "    for j in zn_arr[i]:\n",
    "        zn_arr[i][10]=1"
   ]
  },
  {
   "cell_type": "code",
   "execution_count": 96,
   "id": "92747712",
   "metadata": {},
   "outputs": [
    {
     "ename": "NameError",
     "evalue": "name 'zn_arr' is not defined",
     "output_type": "error",
     "traceback": [
      "\u001b[1;31m---------------------------------------------------------------------------\u001b[0m",
      "\u001b[1;31mNameError\u001b[0m                                 Traceback (most recent call last)",
      "\u001b[1;32m~\\AppData\\Local\\Temp/ipykernel_5816/1637038496.py\u001b[0m in \u001b[0;36m<module>\u001b[1;34m\u001b[0m\n\u001b[1;32m----> 1\u001b[1;33m \u001b[0mzn_arr\u001b[0m\u001b[1;33m\u001b[0m\u001b[1;33m\u001b[0m\u001b[0m\n\u001b[0m",
      "\u001b[1;31mNameError\u001b[0m: name 'zn_arr' is not defined"
     ]
    }
   ],
   "source": [
    "zn_arr"
   ]
  },
  {
   "cell_type": "code",
   "execution_count": 97,
   "id": "c74ffa15",
   "metadata": {},
   "outputs": [
    {
     "ename": "NameError",
     "evalue": "name 'zn_arr' is not defined",
     "output_type": "error",
     "traceback": [
      "\u001b[1;31m---------------------------------------------------------------------------\u001b[0m",
      "\u001b[1;31mNameError\u001b[0m                                 Traceback (most recent call last)",
      "\u001b[1;32m~\\AppData\\Local\\Temp/ipykernel_5816/2142797578.py\u001b[0m in \u001b[0;36m<module>\u001b[1;34m\u001b[0m\n\u001b[0;32m      4\u001b[0m \u001b[1;32mfrom\u001b[0m \u001b[0msklearn\u001b[0m\u001b[1;33m.\u001b[0m\u001b[0mmetrics\u001b[0m \u001b[1;32mimport\u001b[0m \u001b[0mmultilabel_confusion_matrix\u001b[0m\u001b[1;33m\u001b[0m\u001b[1;33m\u001b[0m\u001b[0m\n\u001b[0;32m      5\u001b[0m \u001b[1;32mfrom\u001b[0m \u001b[0msklearn\u001b[0m\u001b[1;33m.\u001b[0m\u001b[0mmetrics\u001b[0m \u001b[1;32mimport\u001b[0m \u001b[0mprecision_recall_curve\u001b[0m\u001b[1;33m,\u001b[0m \u001b[0mroc_curve\u001b[0m\u001b[1;33m\u001b[0m\u001b[1;33m\u001b[0m\u001b[0m\n\u001b[1;32m----> 6\u001b[1;33m \u001b[0macc\u001b[0m \u001b[1;33m=\u001b[0m \u001b[0maccuracy_score\u001b[0m\u001b[1;33m(\u001b[0m\u001b[0mzn_arr\u001b[0m\u001b[1;33m,\u001b[0m \u001b[0myhat\u001b[0m\u001b[1;33m)\u001b[0m\u001b[1;33m\u001b[0m\u001b[1;33m\u001b[0m\u001b[0m\n\u001b[0m\u001b[0;32m      7\u001b[0m \u001b[0mprint\u001b[0m\u001b[1;33m(\u001b[0m\u001b[0mclassification_report\u001b[0m\u001b[1;33m(\u001b[0m\u001b[0mzn_arr\u001b[0m\u001b[1;33m,\u001b[0m \u001b[0myhat\u001b[0m\u001b[1;33m)\u001b[0m\u001b[1;33m)\u001b[0m\u001b[1;33m\u001b[0m\u001b[1;33m\u001b[0m\u001b[0m\n",
      "\u001b[1;31mNameError\u001b[0m: name 'zn_arr' is not defined"
     ]
    }
   ],
   "source": [
    "from sklearn.metrics import accuracy_score\n",
    "from sklearn.model_selection import StratifiedKFold\n",
    "from sklearn.metrics import classification_report\n",
    "from sklearn.metrics import multilabel_confusion_matrix\n",
    "from sklearn.metrics import precision_recall_curve, roc_curve\n",
    "acc = accuracy_score(zn_arr, yhat)\n",
    "print(classification_report(zn_arr, yhat))"
   ]
  },
  {
   "cell_type": "code",
   "execution_count": 98,
   "id": "41c85631",
   "metadata": {},
   "outputs": [
    {
     "ename": "FileNotFoundError",
     "evalue": "[Errno 2] No such file or directory: 'C:\\\\Users\\\\fsshi\\\\OneDrive\\\\Desktop\\\\precision.xlsx'",
     "output_type": "error",
     "traceback": [
      "\u001b[1;31m---------------------------------------------------------------------------\u001b[0m",
      "\u001b[1;31mFileNotFoundError\u001b[0m                         Traceback (most recent call last)",
      "\u001b[1;32m~\\AppData\\Local\\Temp/ipykernel_5816/1362437674.py\u001b[0m in \u001b[0;36m<module>\u001b[1;34m\u001b[0m\n\u001b[1;32m----> 1\u001b[1;33m \u001b[0mprecision_df\u001b[0m\u001b[1;33m=\u001b[0m\u001b[0mpd\u001b[0m\u001b[1;33m.\u001b[0m\u001b[0mread_excel\u001b[0m\u001b[1;33m(\u001b[0m\u001b[1;34mr'C:\\Users\\fsshi\\OneDrive\\Desktop\\precision.xlsx'\u001b[0m\u001b[1;33m)\u001b[0m\u001b[1;33m\u001b[0m\u001b[1;33m\u001b[0m\u001b[0m\n\u001b[0m\u001b[0;32m      2\u001b[0m \u001b[0mRecall_df\u001b[0m\u001b[1;33m=\u001b[0m\u001b[0mpd\u001b[0m\u001b[1;33m.\u001b[0m\u001b[0mread_excel\u001b[0m\u001b[1;33m(\u001b[0m\u001b[1;34mr'C:\\Users\\fsshi\\OneDrive\\Desktop\\Recall.xlsx'\u001b[0m\u001b[1;33m)\u001b[0m\u001b[1;33m\u001b[0m\u001b[1;33m\u001b[0m\u001b[0m\n\u001b[0;32m      3\u001b[0m \u001b[0mf1_score_df\u001b[0m\u001b[1;33m=\u001b[0m\u001b[0mpd\u001b[0m\u001b[1;33m.\u001b[0m\u001b[0mread_excel\u001b[0m\u001b[1;33m(\u001b[0m\u001b[1;34mr'C:\\Users\\fsshi\\OneDrive\\Desktop\\f1_score.xlsx'\u001b[0m\u001b[1;33m)\u001b[0m\u001b[1;33m\u001b[0m\u001b[1;33m\u001b[0m\u001b[0m\n",
      "\u001b[1;32m~\\anaconda3\\lib\\site-packages\\pandas\\util\\_decorators.py\u001b[0m in \u001b[0;36mwrapper\u001b[1;34m(*args, **kwargs)\u001b[0m\n\u001b[0;32m    309\u001b[0m                     \u001b[0mstacklevel\u001b[0m\u001b[1;33m=\u001b[0m\u001b[0mstacklevel\u001b[0m\u001b[1;33m,\u001b[0m\u001b[1;33m\u001b[0m\u001b[1;33m\u001b[0m\u001b[0m\n\u001b[0;32m    310\u001b[0m                 )\n\u001b[1;32m--> 311\u001b[1;33m             \u001b[1;32mreturn\u001b[0m \u001b[0mfunc\u001b[0m\u001b[1;33m(\u001b[0m\u001b[1;33m*\u001b[0m\u001b[0margs\u001b[0m\u001b[1;33m,\u001b[0m \u001b[1;33m**\u001b[0m\u001b[0mkwargs\u001b[0m\u001b[1;33m)\u001b[0m\u001b[1;33m\u001b[0m\u001b[1;33m\u001b[0m\u001b[0m\n\u001b[0m\u001b[0;32m    312\u001b[0m \u001b[1;33m\u001b[0m\u001b[0m\n\u001b[0;32m    313\u001b[0m         \u001b[1;32mreturn\u001b[0m \u001b[0mwrapper\u001b[0m\u001b[1;33m\u001b[0m\u001b[1;33m\u001b[0m\u001b[0m\n",
      "\u001b[1;32m~\\anaconda3\\lib\\site-packages\\pandas\\io\\excel\\_base.py\u001b[0m in \u001b[0;36mread_excel\u001b[1;34m(io, sheet_name, header, names, index_col, usecols, squeeze, dtype, engine, converters, true_values, false_values, skiprows, nrows, na_values, keep_default_na, na_filter, verbose, parse_dates, date_parser, thousands, decimal, comment, skipfooter, convert_float, mangle_dupe_cols, storage_options)\u001b[0m\n\u001b[0;32m    455\u001b[0m     \u001b[1;32mif\u001b[0m \u001b[1;32mnot\u001b[0m \u001b[0misinstance\u001b[0m\u001b[1;33m(\u001b[0m\u001b[0mio\u001b[0m\u001b[1;33m,\u001b[0m \u001b[0mExcelFile\u001b[0m\u001b[1;33m)\u001b[0m\u001b[1;33m:\u001b[0m\u001b[1;33m\u001b[0m\u001b[1;33m\u001b[0m\u001b[0m\n\u001b[0;32m    456\u001b[0m         \u001b[0mshould_close\u001b[0m \u001b[1;33m=\u001b[0m \u001b[1;32mTrue\u001b[0m\u001b[1;33m\u001b[0m\u001b[1;33m\u001b[0m\u001b[0m\n\u001b[1;32m--> 457\u001b[1;33m         \u001b[0mio\u001b[0m \u001b[1;33m=\u001b[0m \u001b[0mExcelFile\u001b[0m\u001b[1;33m(\u001b[0m\u001b[0mio\u001b[0m\u001b[1;33m,\u001b[0m \u001b[0mstorage_options\u001b[0m\u001b[1;33m=\u001b[0m\u001b[0mstorage_options\u001b[0m\u001b[1;33m,\u001b[0m \u001b[0mengine\u001b[0m\u001b[1;33m=\u001b[0m\u001b[0mengine\u001b[0m\u001b[1;33m)\u001b[0m\u001b[1;33m\u001b[0m\u001b[1;33m\u001b[0m\u001b[0m\n\u001b[0m\u001b[0;32m    458\u001b[0m     \u001b[1;32melif\u001b[0m \u001b[0mengine\u001b[0m \u001b[1;32mand\u001b[0m \u001b[0mengine\u001b[0m \u001b[1;33m!=\u001b[0m \u001b[0mio\u001b[0m\u001b[1;33m.\u001b[0m\u001b[0mengine\u001b[0m\u001b[1;33m:\u001b[0m\u001b[1;33m\u001b[0m\u001b[1;33m\u001b[0m\u001b[0m\n\u001b[0;32m    459\u001b[0m         raise ValueError(\n",
      "\u001b[1;32m~\\anaconda3\\lib\\site-packages\\pandas\\io\\excel\\_base.py\u001b[0m in \u001b[0;36m__init__\u001b[1;34m(self, path_or_buffer, engine, storage_options)\u001b[0m\n\u001b[0;32m   1374\u001b[0m                 \u001b[0mext\u001b[0m \u001b[1;33m=\u001b[0m \u001b[1;34m\"xls\"\u001b[0m\u001b[1;33m\u001b[0m\u001b[1;33m\u001b[0m\u001b[0m\n\u001b[0;32m   1375\u001b[0m             \u001b[1;32melse\u001b[0m\u001b[1;33m:\u001b[0m\u001b[1;33m\u001b[0m\u001b[1;33m\u001b[0m\u001b[0m\n\u001b[1;32m-> 1376\u001b[1;33m                 ext = inspect_excel_format(\n\u001b[0m\u001b[0;32m   1377\u001b[0m                     \u001b[0mcontent_or_path\u001b[0m\u001b[1;33m=\u001b[0m\u001b[0mpath_or_buffer\u001b[0m\u001b[1;33m,\u001b[0m \u001b[0mstorage_options\u001b[0m\u001b[1;33m=\u001b[0m\u001b[0mstorage_options\u001b[0m\u001b[1;33m\u001b[0m\u001b[1;33m\u001b[0m\u001b[0m\n\u001b[0;32m   1378\u001b[0m                 )\n",
      "\u001b[1;32m~\\anaconda3\\lib\\site-packages\\pandas\\io\\excel\\_base.py\u001b[0m in \u001b[0;36minspect_excel_format\u001b[1;34m(content_or_path, storage_options)\u001b[0m\n\u001b[0;32m   1248\u001b[0m         \u001b[0mcontent_or_path\u001b[0m \u001b[1;33m=\u001b[0m \u001b[0mBytesIO\u001b[0m\u001b[1;33m(\u001b[0m\u001b[0mcontent_or_path\u001b[0m\u001b[1;33m)\u001b[0m\u001b[1;33m\u001b[0m\u001b[1;33m\u001b[0m\u001b[0m\n\u001b[0;32m   1249\u001b[0m \u001b[1;33m\u001b[0m\u001b[0m\n\u001b[1;32m-> 1250\u001b[1;33m     with get_handle(\n\u001b[0m\u001b[0;32m   1251\u001b[0m         \u001b[0mcontent_or_path\u001b[0m\u001b[1;33m,\u001b[0m \u001b[1;34m\"rb\"\u001b[0m\u001b[1;33m,\u001b[0m \u001b[0mstorage_options\u001b[0m\u001b[1;33m=\u001b[0m\u001b[0mstorage_options\u001b[0m\u001b[1;33m,\u001b[0m \u001b[0mis_text\u001b[0m\u001b[1;33m=\u001b[0m\u001b[1;32mFalse\u001b[0m\u001b[1;33m\u001b[0m\u001b[1;33m\u001b[0m\u001b[0m\n\u001b[0;32m   1252\u001b[0m     ) as handle:\n",
      "\u001b[1;32m~\\anaconda3\\lib\\site-packages\\pandas\\io\\common.py\u001b[0m in \u001b[0;36mget_handle\u001b[1;34m(path_or_buf, mode, encoding, compression, memory_map, is_text, errors, storage_options)\u001b[0m\n\u001b[0;32m    796\u001b[0m         \u001b[1;32melse\u001b[0m\u001b[1;33m:\u001b[0m\u001b[1;33m\u001b[0m\u001b[1;33m\u001b[0m\u001b[0m\n\u001b[0;32m    797\u001b[0m             \u001b[1;31m# Binary mode\u001b[0m\u001b[1;33m\u001b[0m\u001b[1;33m\u001b[0m\u001b[0m\n\u001b[1;32m--> 798\u001b[1;33m             \u001b[0mhandle\u001b[0m \u001b[1;33m=\u001b[0m \u001b[0mopen\u001b[0m\u001b[1;33m(\u001b[0m\u001b[0mhandle\u001b[0m\u001b[1;33m,\u001b[0m \u001b[0mioargs\u001b[0m\u001b[1;33m.\u001b[0m\u001b[0mmode\u001b[0m\u001b[1;33m)\u001b[0m\u001b[1;33m\u001b[0m\u001b[1;33m\u001b[0m\u001b[0m\n\u001b[0m\u001b[0;32m    799\u001b[0m         \u001b[0mhandles\u001b[0m\u001b[1;33m.\u001b[0m\u001b[0mappend\u001b[0m\u001b[1;33m(\u001b[0m\u001b[0mhandle\u001b[0m\u001b[1;33m)\u001b[0m\u001b[1;33m\u001b[0m\u001b[1;33m\u001b[0m\u001b[0m\n\u001b[0;32m    800\u001b[0m \u001b[1;33m\u001b[0m\u001b[0m\n",
      "\u001b[1;31mFileNotFoundError\u001b[0m: [Errno 2] No such file or directory: 'C:\\\\Users\\\\fsshi\\\\OneDrive\\\\Desktop\\\\precision.xlsx'"
     ]
    }
   ],
   "source": [
    "precision_df=pd.read_excel(r'C:\\Users\\fsshi\\OneDrive\\Desktop\\precision.xlsx')\n",
    "Recall_df=pd.read_excel(r'C:\\Users\\fsshi\\OneDrive\\Desktop\\Recall.xlsx')\n",
    "f1_score_df=pd.read_excel(r'C:\\Users\\fsshi\\OneDrive\\Desktop\\f1_score.xlsx')"
   ]
  },
  {
   "cell_type": "code",
   "execution_count": 99,
   "id": "ad0f1960",
   "metadata": {},
   "outputs": [
    {
     "ename": "NameError",
     "evalue": "name 'precision_df' is not defined",
     "output_type": "error",
     "traceback": [
      "\u001b[1;31m---------------------------------------------------------------------------\u001b[0m",
      "\u001b[1;31mNameError\u001b[0m                                 Traceback (most recent call last)",
      "\u001b[1;32m~\\AppData\\Local\\Temp/ipykernel_5816/2940530336.py\u001b[0m in \u001b[0;36m<module>\u001b[1;34m\u001b[0m\n\u001b[1;32m----> 1\u001b[1;33m \u001b[0mprecision_df\u001b[0m\u001b[1;33m\u001b[0m\u001b[1;33m\u001b[0m\u001b[0m\n\u001b[0m",
      "\u001b[1;31mNameError\u001b[0m: name 'precision_df' is not defined"
     ]
    }
   ],
   "source": [
    "precision_df"
   ]
  },
  {
   "cell_type": "code",
   "execution_count": 100,
   "id": "4fb90ade",
   "metadata": {},
   "outputs": [
    {
     "ename": "NameError",
     "evalue": "name 'precision_df' is not defined",
     "output_type": "error",
     "traceback": [
      "\u001b[1;31m---------------------------------------------------------------------------\u001b[0m",
      "\u001b[1;31mNameError\u001b[0m                                 Traceback (most recent call last)",
      "\u001b[1;32m~\\AppData\\Local\\Temp/ipykernel_5816/559048239.py\u001b[0m in \u001b[0;36m<module>\u001b[1;34m\u001b[0m\n\u001b[0;32m      4\u001b[0m \u001b[0mplt\u001b[0m\u001b[1;33m.\u001b[0m\u001b[0mfigure\u001b[0m\u001b[1;33m(\u001b[0m\u001b[0mfigsize\u001b[0m\u001b[1;33m=\u001b[0m\u001b[1;33m(\u001b[0m\u001b[1;36m8\u001b[0m\u001b[1;33m,\u001b[0m\u001b[1;36m5\u001b[0m\u001b[1;33m)\u001b[0m\u001b[1;33m,\u001b[0m\u001b[0mdpi\u001b[0m\u001b[1;33m=\u001b[0m\u001b[1;36m75\u001b[0m\u001b[1;33m)\u001b[0m\u001b[1;33m\u001b[0m\u001b[1;33m\u001b[0m\u001b[0m\n\u001b[0;32m      5\u001b[0m \u001b[1;31m#colors_list = ['#6890F0', '#F8D030', '#E0C068', '#C03028', '#F85888', '#98D8D8']\u001b[0m\u001b[1;33m\u001b[0m\u001b[1;33m\u001b[0m\u001b[0m\n\u001b[1;32m----> 6\u001b[1;33m \u001b[0max\u001b[0m\u001b[1;33m=\u001b[0m\u001b[0msns\u001b[0m\u001b[1;33m.\u001b[0m\u001b[0mboxplot\u001b[0m\u001b[1;33m(\u001b[0m\u001b[0mdata\u001b[0m\u001b[1;33m=\u001b[0m\u001b[0mprecision_df\u001b[0m\u001b[1;33m[\u001b[0m\u001b[1;33m[\u001b[0m\u001b[1;34m'calcium'\u001b[0m\u001b[1;33m,\u001b[0m\u001b[1;34m'copper'\u001b[0m\u001b[1;33m,\u001b[0m\u001b[1;34m'iron'\u001b[0m\u001b[1;33m,\u001b[0m\u001b[1;34m'magnesium'\u001b[0m\u001b[1;33m,\u001b[0m\u001b[1;34m'manganese'\u001b[0m\u001b[1;33m,\u001b[0m\u001b[1;34m'zinc'\u001b[0m\u001b[1;33m]\u001b[0m\u001b[1;33m]\u001b[0m\u001b[1;33m)\u001b[0m\u001b[1;33m\u001b[0m\u001b[1;33m\u001b[0m\u001b[0m\n\u001b[0m\u001b[0;32m      7\u001b[0m \u001b[0max\u001b[0m\u001b[1;33m.\u001b[0m\u001b[0mset_title\u001b[0m\u001b[1;33m(\u001b[0m\u001b[1;34m\"Precision of 10-fold validations \"\u001b[0m\u001b[1;33m)\u001b[0m\u001b[1;33m\u001b[0m\u001b[1;33m\u001b[0m\u001b[0m\n\u001b[0;32m      8\u001b[0m \u001b[0max\u001b[0m\u001b[1;33m.\u001b[0m\u001b[0mset_ylabel\u001b[0m\u001b[1;33m(\u001b[0m\u001b[1;34m\"Precision\"\u001b[0m\u001b[1;33m)\u001b[0m\u001b[1;33m\u001b[0m\u001b[1;33m\u001b[0m\u001b[0m\n",
      "\u001b[1;31mNameError\u001b[0m: name 'precision_df' is not defined"
     ]
    },
    {
     "data": {
      "text/plain": [
       "<Figure size 600x375 with 0 Axes>"
      ]
     },
     "metadata": {},
     "output_type": "display_data"
    }
   ],
   "source": [
    "import seaborn as sns\n",
    "from matplotlib import pyplot as plt\n",
    "%matplotlib inline\n",
    "plt.figure(figsize=(8,5),dpi=75)\n",
    "#colors_list = ['#6890F0', '#F8D030', '#E0C068', '#C03028', '#F85888', '#98D8D8']\n",
    "ax=sns.boxplot(data=precision_df[['calcium','copper','iron','magnesium','manganese','zinc']])\n",
    "ax.set_title(\"Precision of 10-fold validations \")\n",
    "ax.set_ylabel(\"Precision\")\n",
    "ax.set_xlabel(\"Name of the Metals\")\n",
    "plt.show()"
   ]
  },
  {
   "cell_type": "code",
   "execution_count": 101,
   "id": "374033ed",
   "metadata": {},
   "outputs": [
    {
     "ename": "NameError",
     "evalue": "name 'Recall_df' is not defined",
     "output_type": "error",
     "traceback": [
      "\u001b[1;31m---------------------------------------------------------------------------\u001b[0m",
      "\u001b[1;31mNameError\u001b[0m                                 Traceback (most recent call last)",
      "\u001b[1;32m~\\AppData\\Local\\Temp/ipykernel_5816/1856650836.py\u001b[0m in \u001b[0;36m<module>\u001b[1;34m\u001b[0m\n\u001b[0;32m      4\u001b[0m \u001b[0mplt\u001b[0m\u001b[1;33m.\u001b[0m\u001b[0mfigure\u001b[0m\u001b[1;33m(\u001b[0m\u001b[0mfigsize\u001b[0m\u001b[1;33m=\u001b[0m\u001b[1;33m(\u001b[0m\u001b[1;36m8\u001b[0m\u001b[1;33m,\u001b[0m\u001b[1;36m5\u001b[0m\u001b[1;33m)\u001b[0m\u001b[1;33m,\u001b[0m\u001b[0mdpi\u001b[0m\u001b[1;33m=\u001b[0m\u001b[1;36m75\u001b[0m\u001b[1;33m)\u001b[0m\u001b[1;33m\u001b[0m\u001b[1;33m\u001b[0m\u001b[0m\n\u001b[0;32m      5\u001b[0m \u001b[1;31m#colors_list = ['#6890F0', '#F8D030', '#E0C068', '#C03028', '#F85888', '#98D8D8']\u001b[0m\u001b[1;33m\u001b[0m\u001b[1;33m\u001b[0m\u001b[0m\n\u001b[1;32m----> 6\u001b[1;33m \u001b[0max\u001b[0m\u001b[1;33m=\u001b[0m\u001b[0msns\u001b[0m\u001b[1;33m.\u001b[0m\u001b[0mboxplot\u001b[0m\u001b[1;33m(\u001b[0m\u001b[0mdata\u001b[0m\u001b[1;33m=\u001b[0m\u001b[0mRecall_df\u001b[0m\u001b[1;33m[\u001b[0m\u001b[1;33m[\u001b[0m\u001b[1;34m'calcium'\u001b[0m\u001b[1;33m,\u001b[0m\u001b[1;34m'copper'\u001b[0m\u001b[1;33m,\u001b[0m\u001b[1;34m'iron'\u001b[0m\u001b[1;33m,\u001b[0m\u001b[1;34m'magnesium'\u001b[0m\u001b[1;33m,\u001b[0m\u001b[1;34m'manganese'\u001b[0m\u001b[1;33m,\u001b[0m\u001b[1;34m'zinc'\u001b[0m\u001b[1;33m]\u001b[0m\u001b[1;33m]\u001b[0m\u001b[1;33m)\u001b[0m\u001b[1;33m\u001b[0m\u001b[1;33m\u001b[0m\u001b[0m\n\u001b[0m\u001b[0;32m      7\u001b[0m \u001b[0max\u001b[0m\u001b[1;33m.\u001b[0m\u001b[0mset_title\u001b[0m\u001b[1;33m(\u001b[0m\u001b[1;34m\"Recall of 10-fold validations \"\u001b[0m\u001b[1;33m)\u001b[0m\u001b[1;33m\u001b[0m\u001b[1;33m\u001b[0m\u001b[0m\n\u001b[0;32m      8\u001b[0m \u001b[0max\u001b[0m\u001b[1;33m.\u001b[0m\u001b[0mset_ylabel\u001b[0m\u001b[1;33m(\u001b[0m\u001b[1;34m\"Recall\"\u001b[0m\u001b[1;33m)\u001b[0m\u001b[1;33m\u001b[0m\u001b[1;33m\u001b[0m\u001b[0m\n",
      "\u001b[1;31mNameError\u001b[0m: name 'Recall_df' is not defined"
     ]
    },
    {
     "data": {
      "text/plain": [
       "<Figure size 600x375 with 0 Axes>"
      ]
     },
     "metadata": {},
     "output_type": "display_data"
    }
   ],
   "source": [
    "import seaborn as sns\n",
    "from matplotlib import pyplot as plt\n",
    "%matplotlib inline\n",
    "plt.figure(figsize=(8,5),dpi=75)\n",
    "#colors_list = ['#6890F0', '#F8D030', '#E0C068', '#C03028', '#F85888', '#98D8D8']\n",
    "ax=sns.boxplot(data=Recall_df[['calcium','copper','iron','magnesium','manganese','zinc']])\n",
    "ax.set_title(\"Recall of 10-fold validations \")\n",
    "ax.set_ylabel(\"Recall\")\n",
    "ax.set_xlabel(\"Name of the Metals\")\n",
    "plt.show()\n"
   ]
  },
  {
   "cell_type": "code",
   "execution_count": 102,
   "id": "eb848c70",
   "metadata": {},
   "outputs": [
    {
     "ename": "NameError",
     "evalue": "name 'f1_score_df' is not defined",
     "output_type": "error",
     "traceback": [
      "\u001b[1;31m---------------------------------------------------------------------------\u001b[0m",
      "\u001b[1;31mNameError\u001b[0m                                 Traceback (most recent call last)",
      "\u001b[1;32m~\\AppData\\Local\\Temp/ipykernel_5816/2466324913.py\u001b[0m in \u001b[0;36m<module>\u001b[1;34m\u001b[0m\n\u001b[0;32m      4\u001b[0m \u001b[0mplt\u001b[0m\u001b[1;33m.\u001b[0m\u001b[0mfigure\u001b[0m\u001b[1;33m(\u001b[0m\u001b[0mfigsize\u001b[0m\u001b[1;33m=\u001b[0m\u001b[1;33m(\u001b[0m\u001b[1;36m8\u001b[0m\u001b[1;33m,\u001b[0m\u001b[1;36m5\u001b[0m\u001b[1;33m)\u001b[0m\u001b[1;33m,\u001b[0m\u001b[0mdpi\u001b[0m\u001b[1;33m=\u001b[0m\u001b[1;36m75\u001b[0m\u001b[1;33m)\u001b[0m\u001b[1;33m\u001b[0m\u001b[1;33m\u001b[0m\u001b[0m\n\u001b[0;32m      5\u001b[0m \u001b[1;31m#colors_list = ['#6890F0', '#F8D030', '#E0C068', '#C03028', '#F85888', '#98D8D8']\u001b[0m\u001b[1;33m\u001b[0m\u001b[1;33m\u001b[0m\u001b[0m\n\u001b[1;32m----> 6\u001b[1;33m \u001b[0max\u001b[0m\u001b[1;33m=\u001b[0m\u001b[0msns\u001b[0m\u001b[1;33m.\u001b[0m\u001b[0mboxplot\u001b[0m\u001b[1;33m(\u001b[0m\u001b[0mdata\u001b[0m\u001b[1;33m=\u001b[0m\u001b[0mf1_score_df\u001b[0m\u001b[1;33m[\u001b[0m\u001b[1;33m[\u001b[0m\u001b[1;34m'calcium'\u001b[0m\u001b[1;33m,\u001b[0m\u001b[1;34m'copper'\u001b[0m\u001b[1;33m,\u001b[0m\u001b[1;34m'iron'\u001b[0m\u001b[1;33m,\u001b[0m\u001b[1;34m'magnesium'\u001b[0m\u001b[1;33m,\u001b[0m\u001b[1;34m'manganese'\u001b[0m\u001b[1;33m,\u001b[0m\u001b[1;34m'zinc'\u001b[0m\u001b[1;33m]\u001b[0m\u001b[1;33m]\u001b[0m\u001b[1;33m)\u001b[0m\u001b[1;33m\u001b[0m\u001b[1;33m\u001b[0m\u001b[0m\n\u001b[0m\u001b[0;32m      7\u001b[0m \u001b[0max\u001b[0m\u001b[1;33m.\u001b[0m\u001b[0mset_title\u001b[0m\u001b[1;33m(\u001b[0m\u001b[1;34m\"f1-score of 10-fold validations \"\u001b[0m\u001b[1;33m)\u001b[0m\u001b[1;33m\u001b[0m\u001b[1;33m\u001b[0m\u001b[0m\n\u001b[0;32m      8\u001b[0m \u001b[0max\u001b[0m\u001b[1;33m.\u001b[0m\u001b[0mset_ylabel\u001b[0m\u001b[1;33m(\u001b[0m\u001b[1;34m\"f1-score\"\u001b[0m\u001b[1;33m)\u001b[0m\u001b[1;33m\u001b[0m\u001b[1;33m\u001b[0m\u001b[0m\n",
      "\u001b[1;31mNameError\u001b[0m: name 'f1_score_df' is not defined"
     ]
    },
    {
     "data": {
      "text/plain": [
       "<Figure size 600x375 with 0 Axes>"
      ]
     },
     "metadata": {},
     "output_type": "display_data"
    }
   ],
   "source": [
    "import seaborn as sns\n",
    "from matplotlib import pyplot as plt\n",
    "%matplotlib inline\n",
    "plt.figure(figsize=(8,5),dpi=75)\n",
    "#colors_list = ['#6890F0', '#F8D030', '#E0C068', '#C03028', '#F85888', '#98D8D8']\n",
    "ax=sns.boxplot(data=f1_score_df[['calcium','copper','iron','magnesium','manganese','zinc']])\n",
    "ax.set_title(\"f1-score of 10-fold validations \")\n",
    "ax.set_ylabel(\"f1-score\")\n",
    "ax.set_xlabel(\"Name of the Metals\")\n",
    "plt.show()"
   ]
  },
  {
   "cell_type": "code",
   "execution_count": 103,
   "id": "36086d22",
   "metadata": {},
   "outputs": [],
   "source": [
    "import pandas as pd\n",
    "import numpy as np\n",
    "from sklearn.model_selection import train_test_split\n",
    "from sklearn.feature_extraction.text import TfidfVectorizer\n",
    "from skmultilearn.adapt import MLkNN\n",
    "from sklearn.metrics import hamming_loss, accuracy_score\n",
    "\n",
    "\n",
    "X_train, X_test, y_train, y_test = train_test_split(concatanate_sequence_final, encoded_metal.toarray().astype(np.int64), test_size=0.30, random_state=42)"
   ]
  },
  {
   "cell_type": "code",
   "execution_count": 104,
   "id": "a7e583dd",
   "metadata": {},
   "outputs": [
    {
     "ename": "TypeError",
     "evalue": "__init__() takes 1 positional argument but 2 were given",
     "output_type": "error",
     "traceback": [
      "\u001b[1;31m---------------------------------------------------------------------------\u001b[0m",
      "\u001b[1;31mTypeError\u001b[0m                                 Traceback (most recent call last)",
      "\u001b[1;32m~\\AppData\\Local\\Temp/ipykernel_5816/623499316.py\u001b[0m in \u001b[0;36m<module>\u001b[1;34m\u001b[0m\n\u001b[0;32m      1\u001b[0m \u001b[1;31m# using Multi-label kNN classifier\u001b[0m\u001b[1;33m\u001b[0m\u001b[1;33m\u001b[0m\u001b[0m\n\u001b[0;32m      2\u001b[0m \u001b[0mmlknn_classifier\u001b[0m \u001b[1;33m=\u001b[0m \u001b[0mMLkNN\u001b[0m\u001b[1;33m(\u001b[0m\u001b[1;33m)\u001b[0m\u001b[1;33m\u001b[0m\u001b[1;33m\u001b[0m\u001b[0m\n\u001b[1;32m----> 3\u001b[1;33m \u001b[0mmlknn_classifier\u001b[0m\u001b[1;33m.\u001b[0m\u001b[0mfit\u001b[0m\u001b[1;33m(\u001b[0m\u001b[0mX_train\u001b[0m\u001b[1;33m,\u001b[0m \u001b[0my_train\u001b[0m\u001b[1;33m)\u001b[0m\u001b[1;33m\u001b[0m\u001b[1;33m\u001b[0m\u001b[0m\n\u001b[0m",
      "\u001b[1;32m~\\anaconda3\\lib\\site-packages\\skmultilearn\\adapt\\mlknn.py\u001b[0m in \u001b[0;36mfit\u001b[1;34m(self, X, y)\u001b[0m\n\u001b[0;32m    216\u001b[0m         \u001b[0mself\u001b[0m\u001b[1;33m.\u001b[0m\u001b[0m_prior_prob_true\u001b[0m\u001b[1;33m,\u001b[0m \u001b[0mself\u001b[0m\u001b[1;33m.\u001b[0m\u001b[0m_prior_prob_false\u001b[0m \u001b[1;33m=\u001b[0m \u001b[0mself\u001b[0m\u001b[1;33m.\u001b[0m\u001b[0m_compute_prior\u001b[0m\u001b[1;33m(\u001b[0m\u001b[0mself\u001b[0m\u001b[1;33m.\u001b[0m\u001b[0m_label_cache\u001b[0m\u001b[1;33m)\u001b[0m\u001b[1;33m\u001b[0m\u001b[1;33m\u001b[0m\u001b[0m\n\u001b[0;32m    217\u001b[0m         \u001b[1;31m# Computing the posterior probabilities\u001b[0m\u001b[1;33m\u001b[0m\u001b[1;33m\u001b[0m\u001b[0m\n\u001b[1;32m--> 218\u001b[1;33m         \u001b[0mself\u001b[0m\u001b[1;33m.\u001b[0m\u001b[0m_cond_prob_true\u001b[0m\u001b[1;33m,\u001b[0m \u001b[0mself\u001b[0m\u001b[1;33m.\u001b[0m\u001b[0m_cond_prob_false\u001b[0m \u001b[1;33m=\u001b[0m \u001b[0mself\u001b[0m\u001b[1;33m.\u001b[0m\u001b[0m_compute_cond\u001b[0m\u001b[1;33m(\u001b[0m\u001b[0mX\u001b[0m\u001b[1;33m,\u001b[0m \u001b[0mself\u001b[0m\u001b[1;33m.\u001b[0m\u001b[0m_label_cache\u001b[0m\u001b[1;33m)\u001b[0m\u001b[1;33m\u001b[0m\u001b[1;33m\u001b[0m\u001b[0m\n\u001b[0m\u001b[0;32m    219\u001b[0m         \u001b[1;32mreturn\u001b[0m \u001b[0mself\u001b[0m\u001b[1;33m\u001b[0m\u001b[1;33m\u001b[0m\u001b[0m\n\u001b[0;32m    220\u001b[0m \u001b[1;33m\u001b[0m\u001b[0m\n",
      "\u001b[1;32m~\\anaconda3\\lib\\site-packages\\skmultilearn\\adapt\\mlknn.py\u001b[0m in \u001b[0;36m_compute_cond\u001b[1;34m(self, X, y)\u001b[0m\n\u001b[0;32m    163\u001b[0m         \"\"\"\n\u001b[0;32m    164\u001b[0m \u001b[1;33m\u001b[0m\u001b[0m\n\u001b[1;32m--> 165\u001b[1;33m         \u001b[0mself\u001b[0m\u001b[1;33m.\u001b[0m\u001b[0mknn_\u001b[0m \u001b[1;33m=\u001b[0m \u001b[0mNearestNeighbors\u001b[0m\u001b[1;33m(\u001b[0m\u001b[0mself\u001b[0m\u001b[1;33m.\u001b[0m\u001b[0mk\u001b[0m\u001b[1;33m)\u001b[0m\u001b[1;33m.\u001b[0m\u001b[0mfit\u001b[0m\u001b[1;33m(\u001b[0m\u001b[0mX\u001b[0m\u001b[1;33m)\u001b[0m\u001b[1;33m\u001b[0m\u001b[1;33m\u001b[0m\u001b[0m\n\u001b[0m\u001b[0;32m    166\u001b[0m         \u001b[0mc\u001b[0m \u001b[1;33m=\u001b[0m \u001b[0msparse\u001b[0m\u001b[1;33m.\u001b[0m\u001b[0mlil_matrix\u001b[0m\u001b[1;33m(\u001b[0m\u001b[1;33m(\u001b[0m\u001b[0mself\u001b[0m\u001b[1;33m.\u001b[0m\u001b[0m_num_labels\u001b[0m\u001b[1;33m,\u001b[0m \u001b[0mself\u001b[0m\u001b[1;33m.\u001b[0m\u001b[0mk\u001b[0m \u001b[1;33m+\u001b[0m \u001b[1;36m1\u001b[0m\u001b[1;33m)\u001b[0m\u001b[1;33m,\u001b[0m \u001b[0mdtype\u001b[0m\u001b[1;33m=\u001b[0m\u001b[1;34m'i8'\u001b[0m\u001b[1;33m)\u001b[0m\u001b[1;33m\u001b[0m\u001b[1;33m\u001b[0m\u001b[0m\n\u001b[0;32m    167\u001b[0m         \u001b[0mcn\u001b[0m \u001b[1;33m=\u001b[0m \u001b[0msparse\u001b[0m\u001b[1;33m.\u001b[0m\u001b[0mlil_matrix\u001b[0m\u001b[1;33m(\u001b[0m\u001b[1;33m(\u001b[0m\u001b[0mself\u001b[0m\u001b[1;33m.\u001b[0m\u001b[0m_num_labels\u001b[0m\u001b[1;33m,\u001b[0m \u001b[0mself\u001b[0m\u001b[1;33m.\u001b[0m\u001b[0mk\u001b[0m \u001b[1;33m+\u001b[0m \u001b[1;36m1\u001b[0m\u001b[1;33m)\u001b[0m\u001b[1;33m,\u001b[0m \u001b[0mdtype\u001b[0m\u001b[1;33m=\u001b[0m\u001b[1;34m'i8'\u001b[0m\u001b[1;33m)\u001b[0m\u001b[1;33m\u001b[0m\u001b[1;33m\u001b[0m\u001b[0m\n",
      "\u001b[1;31mTypeError\u001b[0m: __init__() takes 1 positional argument but 2 were given"
     ]
    }
   ],
   "source": [
    "# using Multi-label kNN classifier\n",
    "mlknn_classifier = MLkNN()\n",
    "mlknn_classifier.fit(X_train, y_train)"
   ]
  },
  {
   "cell_type": "code",
   "execution_count": 105,
   "id": "dd441c41",
   "metadata": {},
   "outputs": [
    {
     "ename": "AttributeError",
     "evalue": "'MLkNN' object has no attribute 'knn_'",
     "output_type": "error",
     "traceback": [
      "\u001b[1;31m---------------------------------------------------------------------------\u001b[0m",
      "\u001b[1;31mAttributeError\u001b[0m                            Traceback (most recent call last)",
      "\u001b[1;32m~\\AppData\\Local\\Temp/ipykernel_5816/1214931293.py\u001b[0m in \u001b[0;36m<module>\u001b[1;34m\u001b[0m\n\u001b[1;32m----> 1\u001b[1;33m \u001b[0mpredicted\u001b[0m \u001b[1;33m=\u001b[0m \u001b[0mmlknn_classifier\u001b[0m\u001b[1;33m.\u001b[0m\u001b[0mpredict\u001b[0m\u001b[1;33m(\u001b[0m\u001b[0mX_test\u001b[0m\u001b[1;33m)\u001b[0m\u001b[1;33m\u001b[0m\u001b[1;33m\u001b[0m\u001b[0m\n\u001b[0m\u001b[0;32m      2\u001b[0m \u001b[1;33m\u001b[0m\u001b[0m\n\u001b[0;32m      3\u001b[0m \u001b[0mprint\u001b[0m\u001b[1;33m(\u001b[0m\u001b[0maccuracy_score\u001b[0m\u001b[1;33m(\u001b[0m\u001b[0my_test\u001b[0m\u001b[1;33m,\u001b[0m \u001b[0mpredicted\u001b[0m\u001b[1;33m)\u001b[0m\u001b[1;33m)\u001b[0m\u001b[1;33m\u001b[0m\u001b[1;33m\u001b[0m\u001b[0m\n\u001b[0;32m      4\u001b[0m \u001b[0mprint\u001b[0m\u001b[1;33m(\u001b[0m\u001b[0mhamming_loss\u001b[0m\u001b[1;33m(\u001b[0m\u001b[0my_test\u001b[0m\u001b[1;33m,\u001b[0m \u001b[0mpredicted\u001b[0m\u001b[1;33m)\u001b[0m\u001b[1;33m)\u001b[0m\u001b[1;33m\u001b[0m\u001b[1;33m\u001b[0m\u001b[0m\n",
      "\u001b[1;32m~\\anaconda3\\lib\\site-packages\\skmultilearn\\adapt\\mlknn.py\u001b[0m in \u001b[0;36mpredict\u001b[1;34m(self, X)\u001b[0m\n\u001b[0;32m    236\u001b[0m         \u001b[0mresult\u001b[0m \u001b[1;33m=\u001b[0m \u001b[0msparse\u001b[0m\u001b[1;33m.\u001b[0m\u001b[0mlil_matrix\u001b[0m\u001b[1;33m(\u001b[0m\u001b[1;33m(\u001b[0m\u001b[0mX\u001b[0m\u001b[1;33m.\u001b[0m\u001b[0mshape\u001b[0m\u001b[1;33m[\u001b[0m\u001b[1;36m0\u001b[0m\u001b[1;33m]\u001b[0m\u001b[1;33m,\u001b[0m \u001b[0mself\u001b[0m\u001b[1;33m.\u001b[0m\u001b[0m_num_labels\u001b[0m\u001b[1;33m)\u001b[0m\u001b[1;33m,\u001b[0m \u001b[0mdtype\u001b[0m\u001b[1;33m=\u001b[0m\u001b[1;34m'i8'\u001b[0m\u001b[1;33m)\u001b[0m\u001b[1;33m\u001b[0m\u001b[1;33m\u001b[0m\u001b[0m\n\u001b[0;32m    237\u001b[0m         neighbors = [a[self.ignore_first_neighbours:] for a in\n\u001b[1;32m--> 238\u001b[1;33m                      self.knn_.kneighbors(X, self.k + self.ignore_first_neighbours, return_distance=False)]\n\u001b[0m\u001b[0;32m    239\u001b[0m         \u001b[1;32mfor\u001b[0m \u001b[0minstance\u001b[0m \u001b[1;32min\u001b[0m \u001b[0mrange\u001b[0m\u001b[1;33m(\u001b[0m\u001b[0mX\u001b[0m\u001b[1;33m.\u001b[0m\u001b[0mshape\u001b[0m\u001b[1;33m[\u001b[0m\u001b[1;36m0\u001b[0m\u001b[1;33m]\u001b[0m\u001b[1;33m)\u001b[0m\u001b[1;33m:\u001b[0m\u001b[1;33m\u001b[0m\u001b[1;33m\u001b[0m\u001b[0m\n\u001b[0;32m    240\u001b[0m             \u001b[0mdeltas\u001b[0m \u001b[1;33m=\u001b[0m \u001b[0mself\u001b[0m\u001b[1;33m.\u001b[0m\u001b[0m_label_cache\u001b[0m\u001b[1;33m[\u001b[0m\u001b[0mneighbors\u001b[0m\u001b[1;33m[\u001b[0m\u001b[0minstance\u001b[0m\u001b[1;33m]\u001b[0m\u001b[1;33m,\u001b[0m\u001b[1;33m]\u001b[0m\u001b[1;33m.\u001b[0m\u001b[0msum\u001b[0m\u001b[1;33m(\u001b[0m\u001b[0maxis\u001b[0m\u001b[1;33m=\u001b[0m\u001b[1;36m0\u001b[0m\u001b[1;33m)\u001b[0m\u001b[1;33m\u001b[0m\u001b[1;33m\u001b[0m\u001b[0m\n",
      "\u001b[1;31mAttributeError\u001b[0m: 'MLkNN' object has no attribute 'knn_'"
     ]
    }
   ],
   "source": [
    "predicted = mlknn_classifier.predict(X_test)\n",
    "  \n",
    "print(accuracy_score(y_test, predicted))\n",
    "print(hamming_loss(y_test, predicted))"
   ]
  },
  {
   "cell_type": "code",
   "execution_count": 57,
   "id": "df684d4e",
   "metadata": {},
   "outputs": [
    {
     "name": "stderr",
     "output_type": "stream",
     "text": [
      "C:\\Users\\fsshi\\anaconda3\\lib\\site-packages\\sklearn\\utils\\validation.py:70: FutureWarning: Pass n_neighbors=1 as keyword args. From version 1.0 (renaming of 0.25) passing these as positional arguments will result in an error\n",
      "  warnings.warn(f\"Pass {args_msg} as keyword args. From version \"\n",
      "C:\\Users\\fsshi\\anaconda3\\lib\\site-packages\\sklearn\\utils\\validation.py:70: FutureWarning: Pass n_neighbors=1 as keyword args. From version 1.0 (renaming of 0.25) passing these as positional arguments will result in an error\n",
      "  warnings.warn(f\"Pass {args_msg} as keyword args. From version \"\n",
      "C:\\Users\\fsshi\\anaconda3\\lib\\site-packages\\sklearn\\utils\\validation.py:70: FutureWarning: Pass n_neighbors=1 as keyword args. From version 1.0 (renaming of 0.25) passing these as positional arguments will result in an error\n",
      "  warnings.warn(f\"Pass {args_msg} as keyword args. From version \"\n",
      "C:\\Users\\fsshi\\anaconda3\\lib\\site-packages\\sklearn\\utils\\validation.py:70: FutureWarning: Pass n_neighbors=1 as keyword args. From version 1.0 (renaming of 0.25) passing these as positional arguments will result in an error\n",
      "  warnings.warn(f\"Pass {args_msg} as keyword args. From version \"\n",
      "C:\\Users\\fsshi\\anaconda3\\lib\\site-packages\\sklearn\\utils\\validation.py:70: FutureWarning: Pass n_neighbors=1 as keyword args. From version 1.0 (renaming of 0.25) passing these as positional arguments will result in an error\n",
      "  warnings.warn(f\"Pass {args_msg} as keyword args. From version \"\n",
      "C:\\Users\\fsshi\\anaconda3\\lib\\site-packages\\sklearn\\utils\\validation.py:70: FutureWarning: Pass n_neighbors=1 as keyword args. From version 1.0 (renaming of 0.25) passing these as positional arguments will result in an error\n",
      "  warnings.warn(f\"Pass {args_msg} as keyword args. From version \"\n",
      "C:\\Users\\fsshi\\anaconda3\\lib\\site-packages\\sklearn\\utils\\validation.py:70: FutureWarning: Pass n_neighbors=1 as keyword args. From version 1.0 (renaming of 0.25) passing these as positional arguments will result in an error\n",
      "  warnings.warn(f\"Pass {args_msg} as keyword args. From version \"\n",
      "C:\\Users\\fsshi\\anaconda3\\lib\\site-packages\\sklearn\\utils\\validation.py:70: FutureWarning: Pass n_neighbors=1 as keyword args. From version 1.0 (renaming of 0.25) passing these as positional arguments will result in an error\n",
      "  warnings.warn(f\"Pass {args_msg} as keyword args. From version \"\n",
      "C:\\Users\\fsshi\\anaconda3\\lib\\site-packages\\sklearn\\utils\\validation.py:70: FutureWarning: Pass n_neighbors=1 as keyword args. From version 1.0 (renaming of 0.25) passing these as positional arguments will result in an error\n",
      "  warnings.warn(f\"Pass {args_msg} as keyword args. From version \"\n",
      "C:\\Users\\fsshi\\anaconda3\\lib\\site-packages\\sklearn\\utils\\validation.py:70: FutureWarning: Pass n_neighbors=1 as keyword args. From version 1.0 (renaming of 0.25) passing these as positional arguments will result in an error\n",
      "  warnings.warn(f\"Pass {args_msg} as keyword args. From version \"\n",
      "C:\\Users\\fsshi\\anaconda3\\lib\\site-packages\\sklearn\\utils\\validation.py:70: FutureWarning: Pass n_neighbors=1 as keyword args. From version 1.0 (renaming of 0.25) passing these as positional arguments will result in an error\n",
      "  warnings.warn(f\"Pass {args_msg} as keyword args. From version \"\n",
      "C:\\Users\\fsshi\\anaconda3\\lib\\site-packages\\sklearn\\utils\\validation.py:70: FutureWarning: Pass n_neighbors=1 as keyword args. From version 1.0 (renaming of 0.25) passing these as positional arguments will result in an error\n",
      "  warnings.warn(f\"Pass {args_msg} as keyword args. From version \"\n",
      "C:\\Users\\fsshi\\anaconda3\\lib\\site-packages\\sklearn\\utils\\validation.py:70: FutureWarning: Pass n_neighbors=1 as keyword args. From version 1.0 (renaming of 0.25) passing these as positional arguments will result in an error\n",
      "  warnings.warn(f\"Pass {args_msg} as keyword args. From version \"\n",
      "C:\\Users\\fsshi\\anaconda3\\lib\\site-packages\\sklearn\\utils\\validation.py:70: FutureWarning: Pass n_neighbors=1 as keyword args. From version 1.0 (renaming of 0.25) passing these as positional arguments will result in an error\n",
      "  warnings.warn(f\"Pass {args_msg} as keyword args. From version \"\n",
      "C:\\Users\\fsshi\\anaconda3\\lib\\site-packages\\sklearn\\utils\\validation.py:70: FutureWarning: Pass n_neighbors=1 as keyword args. From version 1.0 (renaming of 0.25) passing these as positional arguments will result in an error\n",
      "  warnings.warn(f\"Pass {args_msg} as keyword args. From version \"\n",
      "C:\\Users\\fsshi\\anaconda3\\lib\\site-packages\\sklearn\\utils\\validation.py:70: FutureWarning: Pass n_neighbors=2 as keyword args. From version 1.0 (renaming of 0.25) passing these as positional arguments will result in an error\n",
      "  warnings.warn(f\"Pass {args_msg} as keyword args. From version \"\n",
      "C:\\Users\\fsshi\\anaconda3\\lib\\site-packages\\sklearn\\utils\\validation.py:70: FutureWarning: Pass n_neighbors=2 as keyword args. From version 1.0 (renaming of 0.25) passing these as positional arguments will result in an error\n",
      "  warnings.warn(f\"Pass {args_msg} as keyword args. From version \"\n",
      "C:\\Users\\fsshi\\anaconda3\\lib\\site-packages\\sklearn\\utils\\validation.py:70: FutureWarning: Pass n_neighbors=2 as keyword args. From version 1.0 (renaming of 0.25) passing these as positional arguments will result in an error\n",
      "  warnings.warn(f\"Pass {args_msg} as keyword args. From version \"\n",
      "C:\\Users\\fsshi\\anaconda3\\lib\\site-packages\\sklearn\\utils\\validation.py:70: FutureWarning: Pass n_neighbors=2 as keyword args. From version 1.0 (renaming of 0.25) passing these as positional arguments will result in an error\n",
      "  warnings.warn(f\"Pass {args_msg} as keyword args. From version \"\n",
      "C:\\Users\\fsshi\\anaconda3\\lib\\site-packages\\sklearn\\utils\\validation.py:70: FutureWarning: Pass n_neighbors=2 as keyword args. From version 1.0 (renaming of 0.25) passing these as positional arguments will result in an error\n",
      "  warnings.warn(f\"Pass {args_msg} as keyword args. From version \"\n",
      "C:\\Users\\fsshi\\anaconda3\\lib\\site-packages\\sklearn\\utils\\validation.py:70: FutureWarning: Pass n_neighbors=2 as keyword args. From version 1.0 (renaming of 0.25) passing these as positional arguments will result in an error\n",
      "  warnings.warn(f\"Pass {args_msg} as keyword args. From version \"\n",
      "C:\\Users\\fsshi\\anaconda3\\lib\\site-packages\\sklearn\\utils\\validation.py:70: FutureWarning: Pass n_neighbors=2 as keyword args. From version 1.0 (renaming of 0.25) passing these as positional arguments will result in an error\n",
      "  warnings.warn(f\"Pass {args_msg} as keyword args. From version \"\n",
      "C:\\Users\\fsshi\\anaconda3\\lib\\site-packages\\sklearn\\utils\\validation.py:70: FutureWarning: Pass n_neighbors=2 as keyword args. From version 1.0 (renaming of 0.25) passing these as positional arguments will result in an error\n",
      "  warnings.warn(f\"Pass {args_msg} as keyword args. From version \"\n",
      "C:\\Users\\fsshi\\anaconda3\\lib\\site-packages\\sklearn\\utils\\validation.py:70: FutureWarning: Pass n_neighbors=2 as keyword args. From version 1.0 (renaming of 0.25) passing these as positional arguments will result in an error\n",
      "  warnings.warn(f\"Pass {args_msg} as keyword args. From version \"\n",
      "C:\\Users\\fsshi\\anaconda3\\lib\\site-packages\\sklearn\\utils\\validation.py:70: FutureWarning: Pass n_neighbors=2 as keyword args. From version 1.0 (renaming of 0.25) passing these as positional arguments will result in an error\n",
      "  warnings.warn(f\"Pass {args_msg} as keyword args. From version \"\n",
      "C:\\Users\\fsshi\\anaconda3\\lib\\site-packages\\sklearn\\utils\\validation.py:70: FutureWarning: Pass n_neighbors=2 as keyword args. From version 1.0 (renaming of 0.25) passing these as positional arguments will result in an error\n",
      "  warnings.warn(f\"Pass {args_msg} as keyword args. From version \"\n",
      "C:\\Users\\fsshi\\anaconda3\\lib\\site-packages\\sklearn\\utils\\validation.py:70: FutureWarning: Pass n_neighbors=2 as keyword args. From version 1.0 (renaming of 0.25) passing these as positional arguments will result in an error\n",
      "  warnings.warn(f\"Pass {args_msg} as keyword args. From version \"\n",
      "C:\\Users\\fsshi\\anaconda3\\lib\\site-packages\\sklearn\\utils\\validation.py:70: FutureWarning: Pass n_neighbors=2 as keyword args. From version 1.0 (renaming of 0.25) passing these as positional arguments will result in an error\n",
      "  warnings.warn(f\"Pass {args_msg} as keyword args. From version \"\n",
      "C:\\Users\\fsshi\\anaconda3\\lib\\site-packages\\sklearn\\utils\\validation.py:70: FutureWarning: Pass n_neighbors=2 as keyword args. From version 1.0 (renaming of 0.25) passing these as positional arguments will result in an error\n",
      "  warnings.warn(f\"Pass {args_msg} as keyword args. From version \"\n"
     ]
    },
    {
     "name": "stderr",
     "output_type": "stream",
     "text": [
      "C:\\Users\\fsshi\\anaconda3\\lib\\site-packages\\sklearn\\utils\\validation.py:70: FutureWarning: Pass n_neighbors=2 as keyword args. From version 1.0 (renaming of 0.25) passing these as positional arguments will result in an error\n",
      "  warnings.warn(f\"Pass {args_msg} as keyword args. From version \"\n",
      "C:\\Users\\fsshi\\anaconda3\\lib\\site-packages\\sklearn\\utils\\validation.py:70: FutureWarning: Pass n_neighbors=1 as keyword args. From version 1.0 (renaming of 0.25) passing these as positional arguments will result in an error\n",
      "  warnings.warn(f\"Pass {args_msg} as keyword args. From version \"\n"
     ]
    },
    {
     "name": "stdout",
     "output_type": "stream",
     "text": [
      "{'k': 1, 's': 0.5} 0.8721763726281043\n"
     ]
    }
   ],
   "source": [
    "from sklearn.model_selection import GridSearchCV\n",
    "\n",
    "parameters = {'k': range(1,3), 's': [0.5, 0.7, 1.0]}\n",
    "\n",
    "clf = GridSearchCV(MLkNN(), parameters, scoring='accuracy')\n",
    "clf.fit(X_train, y_train)\n",
    "\n",
    "print (clf.best_params_, clf.best_score_)"
   ]
  },
  {
   "cell_type": "code",
   "execution_count": 99,
   "id": "ea052c00",
   "metadata": {},
   "outputs": [
    {
     "data": {
      "text/plain": [
       "array([[ 0.15101209,  1.02546242,  1.09242898, ..., -0.04835367,\n",
       "        -0.07915092,  0.04481541],\n",
       "       [ 0.12256728,  0.0555306 ,  0.07029734, ..., -0.11076083,\n",
       "        -0.02586194, -0.013535  ],\n",
       "       [-0.00808507,  0.0127356 ,  0.02969295, ..., -0.07468386,\n",
       "         0.01465157,  0.07405594],\n",
       "       ...,\n",
       "       [ 0.08530541,  0.03129741,  0.06689337, ..., -0.03338583,\n",
       "        -0.06570822,  0.00468705],\n",
       "       [ 0.07773305,  0.02043255,  0.02849989, ..., -0.0349138 ,\n",
       "        -0.06302207,  0.07373454],\n",
       "       [ 0.14269534,  0.01538233,  0.08532126, ..., -0.04965088,\n",
       "        -0.07019413,  0.06086601]])"
      ]
     },
     "execution_count": 99,
     "metadata": {},
     "output_type": "execute_result"
    }
   ],
   "source": [
    "concatanate_sequence_final"
   ]
  },
  {
   "cell_type": "code",
   "execution_count": 85,
   "id": "4ed14641",
   "metadata": {},
   "outputs": [
    {
     "data": {
      "text/plain": [
       "18531"
      ]
     },
     "execution_count": 85,
     "metadata": {},
     "output_type": "execute_result"
    }
   ],
   "source": [
    "encoded_metal.toarray().shape[0]"
   ]
  },
  {
   "cell_type": "code",
   "execution_count": 90,
   "id": "e4500370",
   "metadata": {},
   "outputs": [],
   "source": [
    "ll=encoded_metal.toarray().astype(np.int64)"
   ]
  },
  {
   "cell_type": "code",
   "execution_count": 113,
   "id": "9facd545",
   "metadata": {},
   "outputs": [
    {
     "data": {
      "text/plain": [
       "array([0, 0, 0, 0, 0, 1, 0, 0, 0, 0, 0], dtype=int64)"
      ]
     },
     "execution_count": 113,
     "metadata": {},
     "output_type": "execute_result"
    }
   ],
   "source": [
    "ll[-3]"
   ]
  },
  {
   "cell_type": "code",
   "execution_count": 138,
   "id": "4fa119df",
   "metadata": {},
   "outputs": [],
   "source": [
    "target=np.zeros((18531, 1))\n",
    "for i in range(ll.shape[0]):\n",
    "    for j in range(ll.shape[1]):\n",
    "        if ll[i][j]==1:\n",
    "            #print(j)\n",
    "            target[i]=j\n",
    "            \n",
    "            "
   ]
  },
  {
   "cell_type": "code",
   "execution_count": 140,
   "id": "a72922ee",
   "metadata": {},
   "outputs": [
    {
     "data": {
      "text/plain": [
       "array([[10.],\n",
       "       [ 1.],\n",
       "       [10.],\n",
       "       ...,\n",
       "       [ 5.],\n",
       "       [ 5.],\n",
       "       [ 5.]])"
      ]
     },
     "execution_count": 140,
     "metadata": {},
     "output_type": "execute_result"
    }
   ],
   "source": [
    "target"
   ]
  },
  {
   "cell_type": "code",
   "execution_count": 141,
   "id": "d984f5b4",
   "metadata": {},
   "outputs": [],
   "source": [
    "X_train, X_test, y_train, y_test = train_test_split(concatanate_sequence_final, target, test_size=0.20, random_state=42)"
   ]
  },
  {
   "cell_type": "code",
   "execution_count": 152,
   "id": "0723a0c3",
   "metadata": {},
   "outputs": [
    {
     "name": "stderr",
     "output_type": "stream",
     "text": [
      "C:\\Users\\fsshi\\anaconda3\\lib\\site-packages\\sklearn\\utils\\validation.py:63: DataConversionWarning: A column-vector y was passed when a 1d array was expected. Please change the shape of y to (n_samples, ), for example using ravel().\n",
      "  return f(*args, **kwargs)\n",
      "C:\\Users\\fsshi\\anaconda3\\lib\\site-packages\\sklearn\\linear_model\\_logistic.py:763: ConvergenceWarning: lbfgs failed to converge (status=1):\n",
      "STOP: TOTAL NO. of ITERATIONS REACHED LIMIT.\n",
      "\n",
      "Increase the number of iterations (max_iter) or scale the data as shown in:\n",
      "    https://scikit-learn.org/stable/modules/preprocessing.html\n",
      "Please also refer to the documentation for alternative solver options:\n",
      "    https://scikit-learn.org/stable/modules/linear_model.html#logistic-regression\n",
      "  n_iter_i = _check_optimize_result(\n"
     ]
    },
    {
     "data": {
      "text/plain": [
       "LogisticRegression()"
      ]
     },
     "execution_count": 152,
     "metadata": {},
     "output_type": "execute_result"
    }
   ],
   "source": [
    "from sklearn.linear_model import LogisticRegression\n",
    "from sklearn.naive_bayes import GaussianNB\n",
    "\n",
    "model = LogisticRegression()\n",
    "model.fit(X_train, y_train)"
   ]
  },
  {
   "cell_type": "code",
   "execution_count": 149,
   "id": "47118e32",
   "metadata": {},
   "outputs": [],
   "source": [
    "predictions = model.predict(X_test)"
   ]
  },
  {
   "cell_type": "code",
   "execution_count": null,
   "id": "57abaf6d",
   "metadata": {},
   "outputs": [],
   "source": []
  },
  {
   "cell_type": "code",
   "execution_count": null,
   "id": "b3e10cc3",
   "metadata": {},
   "outputs": [],
   "source": []
  },
  {
   "cell_type": "code",
   "execution_count": 150,
   "id": "25b3afa4",
   "metadata": {},
   "outputs": [
    {
     "name": "stdout",
     "output_type": "stream",
     "text": [
      "Accuracy =  0.8454275694631778\n",
      "              precision    recall  f1-score   support\n",
      "\n",
      "         0.0       0.98      0.76      0.85        62\n",
      "         1.0       0.73      0.71      0.72       346\n",
      "         2.0       0.00      0.00      0.00         1\n",
      "         3.0       0.84      0.46      0.59        35\n",
      "         4.0       0.93      0.84      0.88       569\n",
      "         5.0       0.87      0.92      0.89      1050\n",
      "         6.0       0.84      0.78      0.81       464\n",
      "         7.0       1.00      0.94      0.97        63\n",
      "         8.0       1.00      0.92      0.96        13\n",
      "         9.0       1.00      0.33      0.50        12\n",
      "        10.0       0.81      0.87      0.84      1092\n",
      "\n",
      "    accuracy                           0.85      3707\n",
      "   macro avg       0.82      0.68      0.73      3707\n",
      "weighted avg       0.85      0.85      0.84      3707\n",
      "\n"
     ]
    },
    {
     "name": "stderr",
     "output_type": "stream",
     "text": [
      "C:\\Users\\fsshi\\anaconda3\\lib\\site-packages\\sklearn\\metrics\\_classification.py:1248: UndefinedMetricWarning: Precision and F-score are ill-defined and being set to 0.0 in labels with no predicted samples. Use `zero_division` parameter to control this behavior.\n",
      "  _warn_prf(average, modifier, msg_start, len(result))\n",
      "C:\\Users\\fsshi\\anaconda3\\lib\\site-packages\\sklearn\\metrics\\_classification.py:1248: UndefinedMetricWarning: Precision and F-score are ill-defined and being set to 0.0 in labels with no predicted samples. Use `zero_division` parameter to control this behavior.\n",
      "  _warn_prf(average, modifier, msg_start, len(result))\n",
      "C:\\Users\\fsshi\\anaconda3\\lib\\site-packages\\sklearn\\metrics\\_classification.py:1248: UndefinedMetricWarning: Precision and F-score are ill-defined and being set to 0.0 in labels with no predicted samples. Use `zero_division` parameter to control this behavior.\n",
      "  _warn_prf(average, modifier, msg_start, len(result))\n"
     ]
    }
   ],
   "source": [
    "from sklearn import metrics\n",
    "from sklearn.metrics import classification_report\n",
    "print (\"Accuracy = \", metrics.accuracy_score(y_test, predictions))\n",
    "print(classification_report(y_test, predictions))\n",
    "#Print confusion matrix\n",
    "from sklearn.metrics import confusion_matrix\n",
    "cm = confusion_matrix(y_test, predictions)\n"
   ]
  },
  {
   "cell_type": "code",
   "execution_count": 157,
   "id": "01438107",
   "metadata": {},
   "outputs": [],
   "source": [
    "model2 = GaussianNB()"
   ]
  },
  {
   "cell_type": "code",
   "execution_count": 158,
   "id": "e39b7c5e",
   "metadata": {},
   "outputs": [
    {
     "name": "stderr",
     "output_type": "stream",
     "text": [
      "C:\\Users\\fsshi\\anaconda3\\lib\\site-packages\\sklearn\\utils\\validation.py:63: DataConversionWarning: A column-vector y was passed when a 1d array was expected. Please change the shape of y to (n_samples, ), for example using ravel().\n",
      "  return f(*args, **kwargs)\n"
     ]
    },
    {
     "name": "stdout",
     "output_type": "stream",
     "text": [
      "Actual Value: [[ 5.]\n",
      " [ 5.]\n",
      " [ 5.]\n",
      " ...\n",
      " [10.]\n",
      " [ 5.]\n",
      " [ 6.]]\n",
      "Predicted Value: [10.  5. 10. ... 10.  1.  1.]\n"
     ]
    }
   ],
   "source": [
    "# Model training\n",
    "model2.fit(X_train, y_train)\n",
    "predicted = model2.predict(X_test)\n",
    "\n",
    "print(\"Actual Value:\", y_test)\n",
    "print(\"Predicted Value:\", predicted)"
   ]
  },
  {
   "cell_type": "code",
   "execution_count": 159,
   "id": "09b8c8b9",
   "metadata": {},
   "outputs": [
    {
     "name": "stdout",
     "output_type": "stream",
     "text": [
      "Accuracy =  0.5654167790666307\n",
      "              precision    recall  f1-score   support\n",
      "\n",
      "         0.0       0.17      0.79      0.28        62\n",
      "         1.0       0.32      0.60      0.42       346\n",
      "         2.0       0.02      1.00      0.04         1\n",
      "         3.0       0.11      0.60      0.19        35\n",
      "         4.0       0.78      0.68      0.73       569\n",
      "         5.0       0.84      0.39      0.53      1050\n",
      "         6.0       0.58      0.59      0.59       464\n",
      "         7.0       0.98      0.94      0.96        63\n",
      "         8.0       1.00      0.69      0.82        13\n",
      "         9.0       0.56      0.75      0.64        12\n",
      "        10.0       0.67      0.62      0.65      1092\n",
      "\n",
      "    accuracy                           0.57      3707\n",
      "   macro avg       0.55      0.69      0.53      3707\n",
      "weighted avg       0.68      0.57      0.59      3707\n",
      "\n"
     ]
    }
   ],
   "source": [
    "from sklearn import metrics\n",
    "from sklearn.metrics import classification_report\n",
    "print (\"Accuracy = \", metrics.accuracy_score(y_test, predicted))\n",
    "print(classification_report(y_test, predicted))\n",
    "#Print confusion matrix\n",
    "from sklearn.metrics import confusion_matrix\n",
    "cm = confusion_matrix(y_test, predicted)"
   ]
  },
  {
   "cell_type": "code",
   "execution_count": 160,
   "id": "430cd53e",
   "metadata": {},
   "outputs": [
    {
     "name": "stderr",
     "output_type": "stream",
     "text": [
      "C:\\Users\\fsshi\\anaconda3\\lib\\site-packages\\sklearn\\utils\\validation.py:63: DataConversionWarning: A column-vector y was passed when a 1d array was expected. Please change the shape of y to (n_samples, ), for example using ravel().\n",
      "  return f(*args, **kwargs)\n"
     ]
    },
    {
     "name": "stdout",
     "output_type": "stream",
     "text": [
      "0.8613434043701106\n"
     ]
    }
   ],
   "source": [
    "from sklearn.svm import SVC\n",
    "from sklearn.metrics import accuracy_score\n",
    "\n",
    "clf = SVC(kernel='rbf')\n",
    "clf.fit(X_train,y_train)\n",
    "y_pred = clf.predict(X_test)\n",
    "print(accuracy_score(y_test,y_pred))"
   ]
  },
  {
   "cell_type": "code",
   "execution_count": 162,
   "id": "e2d80ee2",
   "metadata": {},
   "outputs": [
    {
     "name": "stdout",
     "output_type": "stream",
     "text": [
      "Accuracy =  0.8613434043701106\n",
      "              precision    recall  f1-score   support\n",
      "\n",
      "         0.0       1.00      0.53      0.69        62\n",
      "         1.0       0.83      0.68      0.75       346\n",
      "         2.0       0.00      0.00      0.00         1\n",
      "         3.0       1.00      0.34      0.51        35\n",
      "         4.0       0.99      0.81      0.89       569\n",
      "         5.0       0.86      0.95      0.90      1050\n",
      "         6.0       0.92      0.77      0.84       464\n",
      "         7.0       1.00      0.94      0.97        63\n",
      "         8.0       1.00      0.92      0.96        13\n",
      "         9.0       1.00      0.17      0.29        12\n",
      "        10.0       0.79      0.93      0.86      1092\n",
      "\n",
      "    accuracy                           0.86      3707\n",
      "   macro avg       0.85      0.64      0.70      3707\n",
      "weighted avg       0.87      0.86      0.86      3707\n",
      "\n"
     ]
    },
    {
     "name": "stderr",
     "output_type": "stream",
     "text": [
      "C:\\Users\\fsshi\\anaconda3\\lib\\site-packages\\sklearn\\metrics\\_classification.py:1248: UndefinedMetricWarning: Precision and F-score are ill-defined and being set to 0.0 in labels with no predicted samples. Use `zero_division` parameter to control this behavior.\n",
      "  _warn_prf(average, modifier, msg_start, len(result))\n",
      "C:\\Users\\fsshi\\anaconda3\\lib\\site-packages\\sklearn\\metrics\\_classification.py:1248: UndefinedMetricWarning: Precision and F-score are ill-defined and being set to 0.0 in labels with no predicted samples. Use `zero_division` parameter to control this behavior.\n",
      "  _warn_prf(average, modifier, msg_start, len(result))\n",
      "C:\\Users\\fsshi\\anaconda3\\lib\\site-packages\\sklearn\\metrics\\_classification.py:1248: UndefinedMetricWarning: Precision and F-score are ill-defined and being set to 0.0 in labels with no predicted samples. Use `zero_division` parameter to control this behavior.\n",
      "  _warn_prf(average, modifier, msg_start, len(result))\n"
     ]
    }
   ],
   "source": [
    "from sklearn import metrics\n",
    "from sklearn.metrics import classification_report\n",
    "print (\"Accuracy = \", metrics.accuracy_score(y_test, y_pred))\n",
    "print(classification_report(y_test, y_pred))\n",
    "#Print confusion matrix\n",
    "from sklearn.metrics import confusion_matrix\n",
    "cm = confusion_matrix(y_test, y_pred)"
   ]
  },
  {
   "cell_type": "code",
   "execution_count": 163,
   "id": "b4ac43bc",
   "metadata": {},
   "outputs": [
    {
     "name": "stderr",
     "output_type": "stream",
     "text": [
      "C:\\Users\\fsshi\\anaconda3\\lib\\site-packages\\sklearn\\neighbors\\_classification.py:179: DataConversionWarning: A column-vector y was passed when a 1d array was expected. Please change the shape of y to (n_samples,), for example using ravel().\n",
      "  return self._fit(X, y)\n"
     ]
    },
    {
     "data": {
      "text/plain": [
       "KNeighborsClassifier(n_neighbors=3)"
      ]
     },
     "execution_count": 163,
     "metadata": {},
     "output_type": "execute_result"
    }
   ],
   "source": [
    "from sklearn.neighbors import KNeighborsClassifier\n",
    "neigh = KNeighborsClassifier(n_neighbors=3)\n",
    "neigh.fit(X_train,y_train)\n"
   ]
  },
  {
   "cell_type": "code",
   "execution_count": 164,
   "id": "9a909813",
   "metadata": {},
   "outputs": [],
   "source": [
    "yy=neigh.predict(X_test)"
   ]
  },
  {
   "cell_type": "code",
   "execution_count": 165,
   "id": "b64dbc78",
   "metadata": {},
   "outputs": [
    {
     "name": "stdout",
     "output_type": "stream",
     "text": [
      "Accuracy =  0.8478554086862692\n",
      "              precision    recall  f1-score   support\n",
      "\n",
      "         0.0       0.70      0.90      0.79        62\n",
      "         1.0       0.79      0.73      0.76       346\n",
      "         2.0       0.00      0.00      0.00         1\n",
      "         3.0       0.35      0.43      0.38        35\n",
      "         4.0       0.92      0.89      0.90       569\n",
      "         5.0       0.75      0.96      0.84      1050\n",
      "         6.0       0.93      0.78      0.85       464\n",
      "         7.0       0.98      0.97      0.98        63\n",
      "         8.0       1.00      0.92      0.96        13\n",
      "         9.0       0.83      0.42      0.56        12\n",
      "        10.0       0.95      0.79      0.86      1092\n",
      "\n",
      "    accuracy                           0.85      3707\n",
      "   macro avg       0.75      0.71      0.72      3707\n",
      "weighted avg       0.86      0.85      0.85      3707\n",
      "\n"
     ]
    },
    {
     "name": "stderr",
     "output_type": "stream",
     "text": [
      "C:\\Users\\fsshi\\anaconda3\\lib\\site-packages\\sklearn\\metrics\\_classification.py:1248: UndefinedMetricWarning: Precision and F-score are ill-defined and being set to 0.0 in labels with no predicted samples. Use `zero_division` parameter to control this behavior.\n",
      "  _warn_prf(average, modifier, msg_start, len(result))\n",
      "C:\\Users\\fsshi\\anaconda3\\lib\\site-packages\\sklearn\\metrics\\_classification.py:1248: UndefinedMetricWarning: Precision and F-score are ill-defined and being set to 0.0 in labels with no predicted samples. Use `zero_division` parameter to control this behavior.\n",
      "  _warn_prf(average, modifier, msg_start, len(result))\n",
      "C:\\Users\\fsshi\\anaconda3\\lib\\site-packages\\sklearn\\metrics\\_classification.py:1248: UndefinedMetricWarning: Precision and F-score are ill-defined and being set to 0.0 in labels with no predicted samples. Use `zero_division` parameter to control this behavior.\n",
      "  _warn_prf(average, modifier, msg_start, len(result))\n"
     ]
    }
   ],
   "source": [
    "from sklearn import metrics\n",
    "from sklearn.metrics import classification_report\n",
    "print (\"Accuracy = \", metrics.accuracy_score(y_test, yy))\n",
    "print(classification_report(y_test, yy))\n",
    "#Print confusion matrix\n",
    "from sklearn.metrics import confusion_matrix\n",
    "cm = confusion_matrix(y_test, yy)"
   ]
  },
  {
   "cell_type": "code",
   "execution_count": 169,
   "id": "e05a0997",
   "metadata": {},
   "outputs": [],
   "source": [
    "from xgboost import XGBClassifier\n",
    "\n",
    "bst = XGBClassifier(n_estimators=2, max_depth=5, learning_rate=.1, objective='binary:logistic')\n",
    "# fit model\n",
    "bst.fit(X_train, y_train)\n",
    "# make predictions\n",
    "preds = bst.predict(X_test)"
   ]
  },
  {
   "cell_type": "code",
   "execution_count": 170,
   "id": "989251a2",
   "metadata": {},
   "outputs": [
    {
     "name": "stdout",
     "output_type": "stream",
     "text": [
      "Accuracy =  0.7642298354464526\n",
      "              precision    recall  f1-score   support\n",
      "\n",
      "         0.0       1.00      0.68      0.81        62\n",
      "         1.0       0.72      0.56      0.63       346\n",
      "         2.0       0.00      0.00      0.00         1\n",
      "         3.0       0.94      0.46      0.62        35\n",
      "         4.0       0.95      0.75      0.84       569\n",
      "         5.0       0.76      0.86      0.80      1050\n",
      "         6.0       0.83      0.61      0.70       464\n",
      "         7.0       0.92      0.97      0.95        63\n",
      "         8.0       0.92      0.85      0.88        13\n",
      "         9.0       1.00      0.83      0.91        12\n",
      "        10.0       0.68      0.81      0.74      1092\n",
      "\n",
      "    accuracy                           0.76      3707\n",
      "   macro avg       0.79      0.67      0.72      3707\n",
      "weighted avg       0.78      0.76      0.76      3707\n",
      "\n"
     ]
    },
    {
     "name": "stderr",
     "output_type": "stream",
     "text": [
      "C:\\Users\\fsshi\\anaconda3\\lib\\site-packages\\sklearn\\metrics\\_classification.py:1248: UndefinedMetricWarning: Precision and F-score are ill-defined and being set to 0.0 in labels with no predicted samples. Use `zero_division` parameter to control this behavior.\n",
      "  _warn_prf(average, modifier, msg_start, len(result))\n",
      "C:\\Users\\fsshi\\anaconda3\\lib\\site-packages\\sklearn\\metrics\\_classification.py:1248: UndefinedMetricWarning: Precision and F-score are ill-defined and being set to 0.0 in labels with no predicted samples. Use `zero_division` parameter to control this behavior.\n",
      "  _warn_prf(average, modifier, msg_start, len(result))\n",
      "C:\\Users\\fsshi\\anaconda3\\lib\\site-packages\\sklearn\\metrics\\_classification.py:1248: UndefinedMetricWarning: Precision and F-score are ill-defined and being set to 0.0 in labels with no predicted samples. Use `zero_division` parameter to control this behavior.\n",
      "  _warn_prf(average, modifier, msg_start, len(result))\n"
     ]
    }
   ],
   "source": [
    "from sklearn import metrics\n",
    "from sklearn.metrics import classification_report\n",
    "print (\"Accuracy = \", metrics.accuracy_score(y_test, preds))\n",
    "print(classification_report(y_test, preds))\n",
    "#Print confusion matrix\n",
    "from sklearn.metrics import confusion_matrix\n",
    "cm = confusion_matrix(y_test, preds)"
   ]
  },
  {
   "cell_type": "code",
   "execution_count": 171,
   "id": "83d00349",
   "metadata": {},
   "outputs": [],
   "source": [
    "from sklearn.manifold import TSNE\n",
    "from numpy import reshape\n",
    "import seaborn as sns"
   ]
  },
  {
   "cell_type": "code",
   "execution_count": 185,
   "id": "4d85af0c",
   "metadata": {},
   "outputs": [
    {
     "name": "stdout",
     "output_type": "stream",
     "text": [
      "[t-SNE] Computing 91 nearest neighbors...\n",
      "[t-SNE] Indexed 18531 samples in 0.016s...\n",
      "[t-SNE] Computed neighbors for 18531 samples in 12.879s...\n",
      "[t-SNE] Computed conditional probabilities for sample 1000 / 18531\n",
      "[t-SNE] Computed conditional probabilities for sample 2000 / 18531\n",
      "[t-SNE] Computed conditional probabilities for sample 3000 / 18531\n",
      "[t-SNE] Computed conditional probabilities for sample 4000 / 18531\n",
      "[t-SNE] Computed conditional probabilities for sample 5000 / 18531\n",
      "[t-SNE] Computed conditional probabilities for sample 6000 / 18531\n",
      "[t-SNE] Computed conditional probabilities for sample 7000 / 18531\n",
      "[t-SNE] Computed conditional probabilities for sample 8000 / 18531\n",
      "[t-SNE] Computed conditional probabilities for sample 9000 / 18531\n",
      "[t-SNE] Computed conditional probabilities for sample 10000 / 18531\n",
      "[t-SNE] Computed conditional probabilities for sample 11000 / 18531\n",
      "[t-SNE] Computed conditional probabilities for sample 12000 / 18531\n",
      "[t-SNE] Computed conditional probabilities for sample 13000 / 18531\n",
      "[t-SNE] Computed conditional probabilities for sample 14000 / 18531\n",
      "[t-SNE] Computed conditional probabilities for sample 15000 / 18531\n",
      "[t-SNE] Computed conditional probabilities for sample 16000 / 18531\n",
      "[t-SNE] Computed conditional probabilities for sample 17000 / 18531\n",
      "[t-SNE] Computed conditional probabilities for sample 18000 / 18531\n",
      "[t-SNE] Computed conditional probabilities for sample 18531 / 18531\n",
      "[t-SNE] Mean sigma: 0.101497\n",
      "[t-SNE] KL divergence after 250 iterations with early exaggeration: 88.397713\n",
      "[t-SNE] KL divergence after 1000 iterations: 1.368644\n"
     ]
    }
   ],
   "source": [
    "tsne = TSNE(n_components=2, verbose=1, random_state=123)\n",
    "z = tsne.fit_transform(concatanate_sequence_final) "
   ]
  },
  {
   "cell_type": "code",
   "execution_count": 186,
   "id": "ac0e80be",
   "metadata": {},
   "outputs": [
    {
     "data": {
      "text/plain": [
       "[Text(0.5, 1.0, 'Protein sequence in T-SNE projection')]"
      ]
     },
     "execution_count": 186,
     "metadata": {},
     "output_type": "execute_result"
    },
    {
     "data": {
      "image/png": "[encoded data removed]",
      "text/plain": [
       "<Figure size 432x288 with 1 Axes>"
      ]
     },
     "metadata": {
      "needs_background": "light"
     },
     "output_type": "display_data"
    }
   ],
   "source": [
    "import pandas as pd\n",
    "df = pd.DataFrame()\n",
    "#df[\"y\"] = y_train\n",
    "df[\"comp-1\"] = z[:,0]\n",
    "df[\"comp-2\"] = z[:,1]\n",
    "\n",
    "sns.scatterplot(x=\"comp-1\", y=\"comp-2\", hue=target.flatten(),\n",
    "                palette=sns.color_palette(\"hls\", 11),\n",
    "                data=df).set(title=\"Protein sequence in T-SNE projection\")"
   ]
  },
  {
   "cell_type": "code",
   "execution_count": 178,
   "id": "a1c491df",
   "metadata": {},
   "outputs": [
    {
     "data": {
      "text/plain": [
       "(14824, 1)"
      ]
     },
     "execution_count": 178,
     "metadata": {},
     "output_type": "execute_result"
    }
   ],
   "source": [
    "y_train.shape"
   ]
  },
  {
   "cell_type": "code",
   "execution_count": 3,
   "id": "42ca2a9a",
   "metadata": {},
   "outputs": [],
   "source": [
    "import numpy as np\n",
    "o=np.load(r'C:\\Users\\fsshi\\Downloads\\ProtTrans_repr_max.npy')"
   ]
  },
  {
   "cell_type": "code",
   "execution_count": 5,
   "id": "0cec038a",
   "metadata": {},
   "outputs": [
    {
     "data": {
      "text/plain": [
       "(1024,)"
      ]
     },
     "execution_count": 5,
     "metadata": {},
     "output_type": "execute_result"
    }
   ],
   "source": [
    "o.shape\n"
   ]
  },
  {
   "cell_type": "code",
   "execution_count": null,
   "id": "37075906",
   "metadata": {},
   "outputs": [],
   "source": [
    "!pip install mymetal"
   ]
  },
  {
   "cell_type": "code",
   "execution_count": 1,
   "id": "4bbc4699",
   "metadata": {},
   "outputs": [],
   "source": [
    "import pandas as pd\n",
    "from sklearn.metrics import confusion_matrix\n",
    "from sklearn.metrics import classification_report\n"
   ]
  },
  {
   "cell_type": "code",
   "execution_count": 6,
   "id": "51bd340a",
   "metadata": {},
   "outputs": [],
   "source": [
    "rf=pd.read_excel('E:\\PHD_Research\\Biomedical_Research\\MetalBinding models\\metal_listprediction_Lmetalsitemodel.xlsx')"
   ]
  },
  {
   "cell_type": "code",
   "execution_count": 7,
   "id": "d1f4d38e",
   "metadata": {},
   "outputs": [
    {
     "data": {
      "text/html": [
       "<div>\n",
       "<style scoped>\n",
       "    .dataframe tbody tr th:only-of-type {\n",
       "        vertical-align: middle;\n",
       "    }\n",
       "\n",
       "    .dataframe tbody tr th {\n",
       "        vertical-align: top;\n",
       "    }\n",
       "\n",
       "    .dataframe thead th {\n",
       "        text-align: right;\n",
       "    }\n",
       "</style>\n",
       "<table border=\"1\" class=\"dataframe\">\n",
       "  <thead>\n",
       "    <tr style=\"text-align: right;\">\n",
       "      <th></th>\n",
       "      <th>Unnamed: 0</th>\n",
       "      <th>Actual Label</th>\n",
       "      <th>Predicted Label</th>\n",
       "    </tr>\n",
       "  </thead>\n",
       "  <tbody>\n",
       "    <tr>\n",
       "      <th>0</th>\n",
       "      <td>0</td>\n",
       "      <td>MN</td>\n",
       "      <td>MG</td>\n",
       "    </tr>\n",
       "    <tr>\n",
       "      <th>1</th>\n",
       "      <td>1</td>\n",
       "      <td>MN</td>\n",
       "      <td>MG</td>\n",
       "    </tr>\n",
       "    <tr>\n",
       "      <th>2</th>\n",
       "      <td>2</td>\n",
       "      <td>MN</td>\n",
       "      <td>MN</td>\n",
       "    </tr>\n",
       "    <tr>\n",
       "      <th>3</th>\n",
       "      <td>3</td>\n",
       "      <td>MN</td>\n",
       "      <td>MG</td>\n",
       "    </tr>\n",
       "    <tr>\n",
       "      <th>4</th>\n",
       "      <td>4</td>\n",
       "      <td>MN</td>\n",
       "      <td>MG</td>\n",
       "    </tr>\n",
       "    <tr>\n",
       "      <th>...</th>\n",
       "      <td>...</td>\n",
       "      <td>...</td>\n",
       "      <td>...</td>\n",
       "    </tr>\n",
       "    <tr>\n",
       "      <th>681</th>\n",
       "      <td>681</td>\n",
       "      <td>ZN</td>\n",
       "      <td>ZN</td>\n",
       "    </tr>\n",
       "    <tr>\n",
       "      <th>682</th>\n",
       "      <td>682</td>\n",
       "      <td>ZN</td>\n",
       "      <td>ZN</td>\n",
       "    </tr>\n",
       "    <tr>\n",
       "      <th>683</th>\n",
       "      <td>683</td>\n",
       "      <td>ZN</td>\n",
       "      <td>ZN</td>\n",
       "    </tr>\n",
       "    <tr>\n",
       "      <th>684</th>\n",
       "      <td>684</td>\n",
       "      <td>ZN</td>\n",
       "      <td>ZN</td>\n",
       "    </tr>\n",
       "    <tr>\n",
       "      <th>685</th>\n",
       "      <td>685</td>\n",
       "      <td>ZN</td>\n",
       "      <td>ZN</td>\n",
       "    </tr>\n",
       "  </tbody>\n",
       "</table>\n",
       "<p>686 rows × 3 columns</p>\n",
       "</div>"
      ],
      "text/plain": [
       "     Unnamed: 0 Actual Label Predicted Label\n",
       "0             0           MN              MG\n",
       "1             1           MN              MG\n",
       "2             2           MN              MN\n",
       "3             3           MN              MG\n",
       "4             4           MN              MG\n",
       "..          ...          ...             ...\n",
       "681         681           ZN              ZN\n",
       "682         682           ZN              ZN\n",
       "683         683           ZN              ZN\n",
       "684         684           ZN              ZN\n",
       "685         685           ZN              ZN\n",
       "\n",
       "[686 rows x 3 columns]"
      ]
     },
     "execution_count": 7,
     "metadata": {},
     "output_type": "execute_result"
    }
   ],
   "source": [
    "rf"
   ]
  },
  {
   "cell_type": "code",
   "execution_count": 8,
   "id": "fbe2869a",
   "metadata": {},
   "outputs": [
    {
     "data": {
      "text/plain": [
       "{'CA': {'precision': 0.8278145695364238,\n",
       "  'recall': 0.6830601092896175,\n",
       "  'f1-score': 0.7485029940119761,\n",
       "  'support': 183.0},\n",
       " 'MG': {'precision': 0.6618705035971223,\n",
       "  'recall': 0.7829787234042553,\n",
       "  'f1-score': 0.7173489278752436,\n",
       "  'support': 235.0},\n",
       " 'MN': {'precision': 1.0,\n",
       "  'recall': 0.3157894736842105,\n",
       "  'f1-score': 0.4799999999999999,\n",
       "  'support': 57.0},\n",
       " 'ZN': {'precision': 0.7447698744769874,\n",
       "  'recall': 0.8436018957345972,\n",
       "  'f1-score': 0.7911111111111111,\n",
       "  'support': 211.0},\n",
       " 'accuracy': 0.7361516034985423,\n",
       " 'macro avg': {'precision': 0.8086137369026334,\n",
       "  'recall': 0.6563575505281701,\n",
       "  'f1-score': 0.6842407582495826,\n",
       "  'support': 686.0},\n",
       " 'weighted avg': {'precision': 0.7597318922523815,\n",
       "  'recall': 0.7361516034985423,\n",
       "  'f1-score': 0.7286260792992978,\n",
       "  'support': 686.0}}"
      ]
     },
     "execution_count": 8,
     "metadata": {},
     "output_type": "execute_result"
    }
   ],
   "source": [
    "classification_report( rf['Actual Label'],rf['Predicted Label'], output_dict=True)"
   ]
  },
  {
   "cell_type": "code",
   "execution_count": null,
   "id": "ae2ff890",
   "metadata": {},
   "outputs": [],
   "source": []
  }
 ],
 "metadata": {
  "kernelspec": {
   "display_name": "Python 3 (ipykernel)",
   "language": "python",
   "name": "python3"
  },
  "language_info": {
   "codemirror_mode": {
    "name": "ipython",
    "version": 3
   },
   "file_extension": ".py",
   "mimetype": "text/x-python",
   "name": "python",
   "nbconvert_exporter": "python",
   "pygments_lexer": "ipython3",
   "version": "3.9.7"
  }
 },
 "nbformat": 4,
 "nbformat_minor": 5
}
